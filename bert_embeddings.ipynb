{
 "cells": [
  {
   "cell_type": "code",
   "execution_count": 1,
   "id": "8a41320b-6d62-4ab8-b03a-965cbceaadaa",
   "metadata": {
    "tags": []
   },
   "outputs": [],
   "source": [
    "import torch\n",
    "from transformers import BertTokenizer, BertModel\n",
    "import pandas as pd\n",
    "import numpy as np\n",
    "import requests\n",
    "from functions import *\n",
    "import gensim\n",
    "import nltk\n",
    "import gensim.downloader as api\n",
    "from pykeen.datasets import FB15k237, WN18RR"
   ]
  },
  {
   "cell_type": "code",
   "execution_count": 2,
   "id": "bcac8bb8-50bc-4f62-b419-8949734542b0",
   "metadata": {
    "tags": []
   },
   "outputs": [],
   "source": [
    "device=\"cuda\""
   ]
  },
  {
   "cell_type": "markdown",
   "id": "3cfd4fa3-afd7-41cd-b1ba-726b661a7512",
   "metadata": {
    "tags": []
   },
   "source": [
    "## 0 Load and prepare dataset"
   ]
  },
  {
   "cell_type": "code",
   "execution_count": 27,
   "id": "8307f8cc-4402-4608-99c6-1a93d05b2de3",
   "metadata": {
    "tags": []
   },
   "outputs": [
    {
     "name": "stderr",
     "output_type": "stream",
     "text": [
      "You're trying to map triples with 30 entities and 0 relations that are not in the training set. These triples will be excluded from the mapping.\n",
      "In total 28 from 20466 triples were filtered out\n"
     ]
    },
    {
     "data": {
      "text/plain": [
       "FB15k237(num_entities=14505, num_relations=237, create_inverse_triples=False)"
      ]
     },
     "execution_count": 27,
     "metadata": {},
     "output_type": "execute_result"
    }
   ],
   "source": [
    "dataset = FB15k237()  #or WN18RR()\n",
    "dataset"
   ]
  },
  {
   "cell_type": "code",
   "execution_count": 28,
   "id": "55f15352-f7c8-430f-a45d-0debeba71aa6",
   "metadata": {
    "tags": []
   },
   "outputs": [],
   "source": [
    "# Store the entity-to-id and relation-to-id relationship in separate dictionaries\n",
    "ent_to_id = dataset.entity_to_id\n",
    "rel_to_id = dataset.relation_to_id\n",
    "\n",
    "ent_id_list = list(dataset.entity_to_id.keys())\n",
    "rel_id_list = list(dataset.relation_to_id.keys())"
   ]
  },
  {
   "cell_type": "markdown",
   "id": "f3d2e67a-7143-44ee-bfe9-151d1dc4a741",
   "metadata": {
    "tags": []
   },
   "source": [
    "### 1 FB15k-237"
   ]
  },
  {
   "cell_type": "markdown",
   "id": "c22e3b3c-3bb3-4c2f-8e51-2da664198e6d",
   "metadata": {
    "tags": []
   },
   "source": [
    "#### Load entity and relation definitions"
   ]
  },
  {
   "cell_type": "code",
   "execution_count": 29,
   "id": "c3176b37-3250-4aa3-a302-de97ffc84d4f",
   "metadata": {
    "tags": []
   },
   "outputs": [],
   "source": [
    "# Load entity to text file for labels and descriptions \n",
    "df_entity2text = pd.read_csv('data/fb15k237/fb15k237_entity2text.txt', delimiter=\"\\t\", header = None, names=[\"id\", \"entity\"])\n",
    "df_entity2textlong = pd.read_csv('data/fb15k237/fb15k237_entity2textlong.txt', delimiter=\"\\t\", header = None, names=[\"id\", \"entity\"])\n",
    "\n",
    "# Load relation to text file \n",
    "df_rel2text = pd.read_csv('data/fb15k237/fb15k237_relation2text.txt', delimiter=\"\\t\", header = None, names=[\"id\", \"definition\"])"
   ]
  },
  {
   "cell_type": "code",
   "execution_count": 32,
   "id": "f08fcc79-fa28-441a-9f73-345b32b8b232",
   "metadata": {
    "collapsed": true,
    "jupyter": {
     "outputs_hidden": true
    },
    "tags": []
   },
   "outputs": [
    {
     "data": {
      "text/html": [
       "<div>\n",
       "<style scoped>\n",
       "    .dataframe tbody tr th:only-of-type {\n",
       "        vertical-align: middle;\n",
       "    }\n",
       "\n",
       "    .dataframe tbody tr th {\n",
       "        vertical-align: top;\n",
       "    }\n",
       "\n",
       "    .dataframe thead th {\n",
       "        text-align: right;\n",
       "    }\n",
       "</style>\n",
       "<table border=\"1\" class=\"dataframe\">\n",
       "  <thead>\n",
       "    <tr style=\"text-align: right;\">\n",
       "      <th></th>\n",
       "      <th>id</th>\n",
       "      <th>definition</th>\n",
       "    </tr>\n",
       "  </thead>\n",
       "  <tbody>\n",
       "    <tr>\n",
       "      <th>0</th>\n",
       "      <td>/soccer/football_team/current_roster./soccer/f...</td>\n",
       "      <td>soccer football team current roster. soccer fo...</td>\n",
       "    </tr>\n",
       "    <tr>\n",
       "      <th>1</th>\n",
       "      <td>/music/artist/origin</td>\n",
       "      <td>music artist origin</td>\n",
       "    </tr>\n",
       "    <tr>\n",
       "      <th>2</th>\n",
       "      <td>/ice_hockey/hockey_team/current_roster./sports...</td>\n",
       "      <td>ice hockey hockey team current roster. sports ...</td>\n",
       "    </tr>\n",
       "    <tr>\n",
       "      <th>3</th>\n",
       "      <td>/food/food/nutrients./food/nutrition_fact/nutr...</td>\n",
       "      <td>food food nutrients. food nutrition fact nutrient</td>\n",
       "    </tr>\n",
       "    <tr>\n",
       "      <th>4</th>\n",
       "      <td>/film/actor/film./film/performance/film</td>\n",
       "      <td>film actor film. film performance film</td>\n",
       "    </tr>\n",
       "    <tr>\n",
       "      <th>...</th>\n",
       "      <td>...</td>\n",
       "      <td>...</td>\n",
       "    </tr>\n",
       "    <tr>\n",
       "      <th>232</th>\n",
       "      <td>/base/biblioness/bibs_location/country</td>\n",
       "      <td>base biblioness bibs location country</td>\n",
       "    </tr>\n",
       "    <tr>\n",
       "      <th>233</th>\n",
       "      <td>/user/ktrueman/default_domain/international_or...</td>\n",
       "      <td>user ktrueman default domain international org...</td>\n",
       "    </tr>\n",
       "    <tr>\n",
       "      <th>234</th>\n",
       "      <td>/music/performance_role/track_performances./mu...</td>\n",
       "      <td>music performance role track performances. mus...</td>\n",
       "    </tr>\n",
       "    <tr>\n",
       "      <th>235</th>\n",
       "      <td>/olympics/olympic_games/medals_awarded./olympi...</td>\n",
       "      <td>olympics olympic games medals awarded. olympic...</td>\n",
       "    </tr>\n",
       "    <tr>\n",
       "      <th>236</th>\n",
       "      <td>/base/saturdaynightlive/snl_cast_member/season...</td>\n",
       "      <td>base saturdaynightlive snl cast member seasons...</td>\n",
       "    </tr>\n",
       "  </tbody>\n",
       "</table>\n",
       "<p>237 rows × 2 columns</p>\n",
       "</div>"
      ],
      "text/plain": [
       "                                                    id  \\\n",
       "0    /soccer/football_team/current_roster./soccer/f...   \n",
       "1                                 /music/artist/origin   \n",
       "2    /ice_hockey/hockey_team/current_roster./sports...   \n",
       "3    /food/food/nutrients./food/nutrition_fact/nutr...   \n",
       "4              /film/actor/film./film/performance/film   \n",
       "..                                                 ...   \n",
       "232             /base/biblioness/bibs_location/country   \n",
       "233  /user/ktrueman/default_domain/international_or...   \n",
       "234  /music/performance_role/track_performances./mu...   \n",
       "235  /olympics/olympic_games/medals_awarded./olympi...   \n",
       "236  /base/saturdaynightlive/snl_cast_member/season...   \n",
       "\n",
       "                                            definition  \n",
       "0    soccer football team current roster. soccer fo...  \n",
       "1                                  music artist origin  \n",
       "2    ice hockey hockey team current roster. sports ...  \n",
       "3    food food nutrients. food nutrition fact nutrient  \n",
       "4               film actor film. film performance film  \n",
       "..                                                 ...  \n",
       "232              base biblioness bibs location country  \n",
       "233  user ktrueman default domain international org...  \n",
       "234  music performance role track performances. mus...  \n",
       "235  olympics olympic games medals awarded. olympic...  \n",
       "236  base saturdaynightlive snl cast member seasons...  \n",
       "\n",
       "[237 rows x 2 columns]"
      ]
     },
     "execution_count": 32,
     "metadata": {},
     "output_type": "execute_result"
    }
   ],
   "source": [
    "df_rel2text"
   ]
  },
  {
   "cell_type": "markdown",
   "id": "0534d88c-f9ea-477e-84cf-8c1d990d248e",
   "metadata": {
    "tags": []
   },
   "source": [
    "#### 1.2 Preprocessing of dataset for BERT Embeddings"
   ]
  },
  {
   "cell_type": "code",
   "execution_count": 36,
   "id": "ba4eabb5-d3fb-4a54-bac7-711831053c7c",
   "metadata": {
    "tags": []
   },
   "outputs": [],
   "source": [
    "ent_list = df_entity2text[\"entity\"].to_list()  #specify here which column of the df should be taken as an input for the BERT model \n",
    "rel_list = df_rel2text[\"definition\"].to_list() #specify here which column of the df should be taken as a tokenized input for static LMs"
   ]
  },
  {
   "cell_type": "markdown",
   "id": "7603d0a5-7cb5-480e-ba8d-6db02e1b0903",
   "metadata": {
    "jp-MarkdownHeadingCollapsed": true,
    "tags": []
   },
   "source": [
    "### 2 WN18RR"
   ]
  },
  {
   "cell_type": "markdown",
   "id": "0d6098f0-eded-42ad-a1fa-edf15438c001",
   "metadata": {
    "tags": []
   },
   "source": [
    "#### Load entity and relation definitions\n",
    "→ Separate entity name from entity description into 2 different columns \n",
    "→ Turn \"id\" into n 8-digit number by adding 0 at the beginning - Necessary to match the id coming from Pykeen's triple factory  "
   ]
  },
  {
   "cell_type": "code",
   "execution_count": 5,
   "id": "2b8f60d9-f151-47c5-8358-5dcc6724f388",
   "metadata": {
    "tags": []
   },
   "outputs": [
    {
     "data": {
      "text/html": [
       "<div>\n",
       "<style scoped>\n",
       "    .dataframe tbody tr th:only-of-type {\n",
       "        vertical-align: middle;\n",
       "    }\n",
       "\n",
       "    .dataframe tbody tr th {\n",
       "        vertical-align: top;\n",
       "    }\n",
       "\n",
       "    .dataframe thead th {\n",
       "        text-align: right;\n",
       "    }\n",
       "</style>\n",
       "<table border=\"1\" class=\"dataframe\">\n",
       "  <thead>\n",
       "    <tr style=\"text-align: right;\">\n",
       "      <th></th>\n",
       "      <th>id</th>\n",
       "      <th>definition</th>\n",
       "      <th>entity</th>\n",
       "      <th>description</th>\n",
       "    </tr>\n",
       "  </thead>\n",
       "  <tbody>\n",
       "    <tr>\n",
       "      <th>0</th>\n",
       "      <td>14854262</td>\n",
       "      <td>stool, solid excretory product evacuated from ...</td>\n",
       "      <td>stool</td>\n",
       "      <td>solid excretory product evacuated from the bo...</td>\n",
       "    </tr>\n",
       "    <tr>\n",
       "      <th>1</th>\n",
       "      <td>00590383</td>\n",
       "      <td>chieftainship, the position of chieftain</td>\n",
       "      <td>chieftainship</td>\n",
       "      <td>the position of chieftain</td>\n",
       "    </tr>\n",
       "    <tr>\n",
       "      <th>2</th>\n",
       "      <td>08769179</td>\n",
       "      <td>saxony, an area in Germany around the upper El...</td>\n",
       "      <td>saxony</td>\n",
       "      <td>an area in Germany around the upper Elbe rive...</td>\n",
       "    </tr>\n",
       "  </tbody>\n",
       "</table>\n",
       "</div>"
      ],
      "text/plain": [
       "         id                                         definition         entity  \\\n",
       "0  14854262  stool, solid excretory product evacuated from ...          stool   \n",
       "1  00590383           chieftainship, the position of chieftain  chieftainship   \n",
       "2  08769179  saxony, an area in Germany around the upper El...         saxony   \n",
       "\n",
       "                                         description  \n",
       "0   solid excretory product evacuated from the bo...  \n",
       "1                          the position of chieftain  \n",
       "2   an area in Germany around the upper Elbe rive...  "
      ]
     },
     "execution_count": 5,
     "metadata": {},
     "output_type": "execute_result"
    }
   ],
   "source": [
    "df_entity2text = pd.read_csv('data/wn18rr/wn18rr_entity2text.txt', delimiter=\"\\t\", header = None, names=[\"id\", \"definition\"])\n",
    "df_entity2text[[\"entity\", \"description\"]] = df_entity2text[\"definition\"].str.split(',', n=1, expand=True)\n",
    "df_entity2text.id = df_entity2text.id.astype(str)\n",
    "df_entity2text[\"id\"] = df_entity2text[\"id\"].str.rjust(8, '0')\n",
    "df_entity2text[:3]"
   ]
  },
  {
   "cell_type": "code",
   "execution_count": 6,
   "id": "6f3de460-80ec-4cdb-b1d2-32409c2d27a0",
   "metadata": {
    "tags": []
   },
   "outputs": [
    {
     "data": {
      "text/plain": [
       "['also see', 'derivationally related form', 'has part']"
      ]
     },
     "execution_count": 6,
     "metadata": {},
     "output_type": "execute_result"
    }
   ],
   "source": [
    "for i in range(len(rel_id_list)):\n",
    "    rel_id_list[i] = rel_id_list[i].replace(\"_\", \" \")\n",
    "    rel_id_list[i] = rel_id_list[i].lstrip()\n",
    "rel_id_list[:3]"
   ]
  },
  {
   "cell_type": "markdown",
   "id": "36db67d9-11fc-4571-a021-a853acd3c371",
   "metadata": {},
   "source": [
    "#### 2.1 Specify input for BERT model\n",
    "→ entities: select one of the options based on the desired BERT embedding strategy: labels only vs. labels & descriptions\n",
    "→ relations: are already saved as a list"
   ]
  },
  {
   "cell_type": "code",
   "execution_count": 7,
   "id": "28ebf775-7fac-4794-8517-00a2fc3bd1dd",
   "metadata": {
    "tags": []
   },
   "outputs": [],
   "source": [
    "ent_list = df_entity2text[\"entity\"].to_list()  # to produce BERT embedding for only or entity labels  \n",
    "#tok_entities = df_entity2text[\"tokenized_entities\"].to_list() # to produce BERT embedding for entity labels and descriptions\n",
    "rel_list = rel_id_list"
   ]
  },
  {
   "cell_type": "markdown",
   "id": "27fd259c-aa34-461c-a198-06f494baeab8",
   "metadata": {
    "tags": []
   },
   "source": [
    "### 2. Generate BERT embeddings "
   ]
  },
  {
   "cell_type": "markdown",
   "id": "61c2b4be-e2d6-43dc-9a9a-30a17fb471ec",
   "metadata": {
    "tags": []
   },
   "source": [
    "##### 2.1 Set parameters"
   ]
  },
  {
   "cell_type": "code",
   "execution_count": 9,
   "id": "d894b8d4-3087-4440-b570-2ebe90bd7a93",
   "metadata": {},
   "outputs": [
    {
     "name": "stderr",
     "output_type": "stream",
     "text": [
      "Some weights of the model checkpoint at bert-base-uncased were not used when initializing BertModel: ['cls.predictions.transform.dense.weight', 'cls.predictions.decoder.weight', 'cls.predictions.bias', 'cls.predictions.transform.dense.bias', 'cls.predictions.transform.LayerNorm.weight', 'cls.seq_relationship.bias', 'cls.predictions.transform.LayerNorm.bias', 'cls.seq_relationship.weight']\n",
      "- This IS expected if you are initializing BertModel from the checkpoint of a model trained on another task or with another architecture (e.g. initializing a BertForSequenceClassification model from a BertForPreTraining model).\n",
      "- This IS NOT expected if you are initializing BertModel from the checkpoint of a model that you expect to be exactly identical (initializing a BertForSequenceClassification model from a BertForSequenceClassification model).\n"
     ]
    }
   ],
   "source": [
    "#output_path = #'03_nlm_embeddings/bert_fb15k237/4LL_extended/'\n",
    "#filename = #'_bert4LL_extended_fb15k237_ent.pt'\n",
    "tokenizer, model = load_bert(device)"
   ]
  },
  {
   "cell_type": "markdown",
   "id": "a9c96cf9-0e3b-4fb0-999d-bf74857f545d",
   "metadata": {
    "tags": []
   },
   "source": [
    "##### Tokenize entities and relations"
   ]
  },
  {
   "cell_type": "code",
   "execution_count": 39,
   "id": "fb7148bb-62b4-4c3d-bd11-65fbb8593ed3",
   "metadata": {},
   "outputs": [],
   "source": [
    "tokenized_ent = tokenize(tokenizer, ent_list)"
   ]
  },
  {
   "cell_type": "code",
   "execution_count": 10,
   "id": "5ef1e3f7-4902-4079-ab87-c132ecc4c572",
   "metadata": {
    "collapsed": true,
    "jupyter": {
     "outputs_hidden": true
    },
    "tags": []
   },
   "outputs": [
    {
     "data": {
      "text/plain": [
       "{'input_ids': tensor([[  101, 14708,   102,  ...,     0,     0,     0],\n",
       "        [  101, 26625,  9650,  ...,     0,     0,     0],\n",
       "        [  101, 13019,   102,  ...,     0,     0,     0],\n",
       "        ...,\n",
       "        [  101,  7166,  2239,  ...,     0,     0,     0],\n",
       "        [  101,  3562, 20934,  ...,     0,     0,     0],\n",
       "        [  101,  3502,   102,  ...,     0,     0,     0]]), 'token_type_ids': tensor([[0, 0, 0,  ..., 0, 0, 0],\n",
       "        [0, 0, 0,  ..., 0, 0, 0],\n",
       "        [0, 0, 0,  ..., 0, 0, 0],\n",
       "        ...,\n",
       "        [0, 0, 0,  ..., 0, 0, 0],\n",
       "        [0, 0, 0,  ..., 0, 0, 0],\n",
       "        [0, 0, 0,  ..., 0, 0, 0]]), 'attention_mask': tensor([[1, 1, 1,  ..., 0, 0, 0],\n",
       "        [1, 1, 1,  ..., 0, 0, 0],\n",
       "        [1, 1, 1,  ..., 0, 0, 0],\n",
       "        ...,\n",
       "        [1, 1, 1,  ..., 0, 0, 0],\n",
       "        [1, 1, 1,  ..., 0, 0, 0],\n",
       "        [1, 1, 1,  ..., 0, 0, 0]])}"
      ]
     },
     "execution_count": 10,
     "metadata": {},
     "output_type": "execute_result"
    }
   ],
   "source": [
    "tokenized_ent"
   ]
  },
  {
   "cell_type": "markdown",
   "id": "518c1dce-3c89-451d-a82a-5aacce6b39f7",
   "metadata": {
    "tags": []
   },
   "source": [
    "##### Load entities in batches and feed to BERT LM"
   ]
  },
  {
   "cell_type": "code",
   "execution_count": 41,
   "id": "4a0938b3-2e40-4fd7-be16-699cba089657",
   "metadata": {},
   "outputs": [],
   "source": [
    "cd = customdata(tokenized_ent[\"input_ids\"], tokenized_ent[\"attention_mask\"])\n",
    "dataloader = torch.utils.data.DataLoader(cd, batch_size = 50, shuffle = False, num_workers = 0)"
   ]
  },
  {
   "cell_type": "code",
   "execution_count": 12,
   "id": "10b31146-8a93-4ca0-8ea0-ec55128b59c8",
   "metadata": {
    "collapsed": true,
    "jupyter": {
     "outputs_hidden": true
    },
    "tags": []
   },
   "outputs": [
    {
     "name": "stderr",
     "output_type": "stream",
     "text": [
      "/opt/bwhpc/common/jupyter/tensorflow/2023-03-24/lib/python3.9/site-packages/torch/cuda/memory.py:416: FutureWarning: torch.cuda.memory_cached has been renamed to torch.cuda.memory_reserved\n",
      "  warnings.warn(\n"
     ]
    },
    {
     "name": "stdout",
     "output_type": "stream",
     "text": [
      "Memory Usage in Iteration: 1 | Allocated: 22.0 GB | Cached:  22.2 GB\n",
      "Memory Usage in Iteration: 2 | Allocated: 22.0 GB | Cached:  22.2 GB\n",
      "Memory Usage in Iteration: 3 | Allocated: 22.0 GB | Cached:  22.2 GB\n",
      "Memory Usage in Iteration: 4 | Allocated: 22.0 GB | Cached:  22.2 GB\n",
      "Memory Usage in Iteration: 5 | Allocated: 22.0 GB | Cached:  22.2 GB\n",
      "Memory Usage in Iteration: 6 | Allocated: 22.0 GB | Cached:  22.2 GB\n",
      "Memory Usage in Iteration: 7 | Allocated: 22.0 GB | Cached:  22.2 GB\n",
      "Memory Usage in Iteration: 8 | Allocated: 22.0 GB | Cached:  22.2 GB\n",
      "Memory Usage in Iteration: 9 | Allocated: 22.0 GB | Cached:  22.2 GB\n",
      "Memory Usage in Iteration: 10 | Allocated: 22.0 GB | Cached:  22.2 GB\n",
      "Memory Usage in Iteration: 11 | Allocated: 22.0 GB | Cached:  22.2 GB\n",
      "Memory Usage in Iteration: 12 | Allocated: 22.0 GB | Cached:  22.2 GB\n",
      "Memory Usage in Iteration: 13 | Allocated: 22.0 GB | Cached:  22.2 GB\n",
      "Memory Usage in Iteration: 14 | Allocated: 22.0 GB | Cached:  22.2 GB\n",
      "Memory Usage in Iteration: 15 | Allocated: 22.0 GB | Cached:  22.2 GB\n",
      "Memory Usage in Iteration: 16 | Allocated: 22.0 GB | Cached:  22.2 GB\n",
      "Memory Usage in Iteration: 17 | Allocated: 22.0 GB | Cached:  22.2 GB\n",
      "Memory Usage in Iteration: 18 | Allocated: 22.0 GB | Cached:  22.2 GB\n",
      "Memory Usage in Iteration: 19 | Allocated: 22.0 GB | Cached:  22.2 GB\n",
      "Memory Usage in Iteration: 20 | Allocated: 22.0 GB | Cached:  22.2 GB\n",
      "Memory Usage in Iteration: 21 | Allocated: 22.0 GB | Cached:  22.2 GB\n",
      "Memory Usage in Iteration: 22 | Allocated: 22.0 GB | Cached:  22.2 GB\n",
      "Memory Usage in Iteration: 23 | Allocated: 22.0 GB | Cached:  22.2 GB\n",
      "Memory Usage in Iteration: 24 | Allocated: 22.0 GB | Cached:  22.2 GB\n",
      "Memory Usage in Iteration: 25 | Allocated: 22.0 GB | Cached:  22.2 GB\n",
      "Memory Usage in Iteration: 26 | Allocated: 22.0 GB | Cached:  22.2 GB\n",
      "Memory Usage in Iteration: 27 | Allocated: 22.0 GB | Cached:  22.2 GB\n",
      "Memory Usage in Iteration: 28 | Allocated: 22.0 GB | Cached:  22.2 GB\n",
      "Memory Usage in Iteration: 29 | Allocated: 22.0 GB | Cached:  22.2 GB\n",
      "Memory Usage in Iteration: 30 | Allocated: 22.0 GB | Cached:  22.2 GB\n",
      "Memory Usage in Iteration: 31 | Allocated: 22.0 GB | Cached:  22.2 GB\n",
      "Memory Usage in Iteration: 32 | Allocated: 22.0 GB | Cached:  22.2 GB\n",
      "Memory Usage in Iteration: 33 | Allocated: 22.0 GB | Cached:  22.2 GB\n",
      "Memory Usage in Iteration: 34 | Allocated: 22.0 GB | Cached:  22.2 GB\n",
      "Memory Usage in Iteration: 35 | Allocated: 22.0 GB | Cached:  22.2 GB\n",
      "Memory Usage in Iteration: 36 | Allocated: 22.0 GB | Cached:  22.2 GB\n",
      "Memory Usage in Iteration: 37 | Allocated: 22.0 GB | Cached:  22.2 GB\n",
      "Memory Usage in Iteration: 38 | Allocated: 22.0 GB | Cached:  22.2 GB\n",
      "Memory Usage in Iteration: 39 | Allocated: 22.0 GB | Cached:  22.2 GB\n",
      "Memory Usage in Iteration: 40 | Allocated: 22.0 GB | Cached:  22.2 GB\n",
      "Memory Usage in Iteration: 41 | Allocated: 22.0 GB | Cached:  22.2 GB\n",
      "Memory Usage in Iteration: 42 | Allocated: 22.0 GB | Cached:  22.2 GB\n",
      "Memory Usage in Iteration: 43 | Allocated: 22.0 GB | Cached:  22.2 GB\n",
      "Memory Usage in Iteration: 44 | Allocated: 22.0 GB | Cached:  22.2 GB\n",
      "Memory Usage in Iteration: 45 | Allocated: 22.0 GB | Cached:  22.2 GB\n",
      "Memory Usage in Iteration: 46 | Allocated: 22.0 GB | Cached:  22.2 GB\n",
      "Memory Usage in Iteration: 47 | Allocated: 22.0 GB | Cached:  22.2 GB\n",
      "Memory Usage in Iteration: 48 | Allocated: 22.0 GB | Cached:  22.2 GB\n",
      "Memory Usage in Iteration: 49 | Allocated: 22.0 GB | Cached:  22.2 GB\n",
      "Memory Usage in Iteration: 50 | Allocated: 22.0 GB | Cached:  22.2 GB\n",
      "Memory Usage in Iteration: 51 | Allocated: 22.0 GB | Cached:  22.2 GB\n",
      "Memory Usage in Iteration: 52 | Allocated: 22.0 GB | Cached:  22.2 GB\n",
      "Memory Usage in Iteration: 53 | Allocated: 22.0 GB | Cached:  22.2 GB\n",
      "Memory Usage in Iteration: 54 | Allocated: 22.0 GB | Cached:  22.2 GB\n",
      "Memory Usage in Iteration: 55 | Allocated: 22.0 GB | Cached:  22.2 GB\n",
      "Memory Usage in Iteration: 56 | Allocated: 22.0 GB | Cached:  22.2 GB\n",
      "Memory Usage in Iteration: 57 | Allocated: 22.0 GB | Cached:  22.2 GB\n",
      "Memory Usage in Iteration: 58 | Allocated: 22.0 GB | Cached:  22.2 GB\n",
      "Memory Usage in Iteration: 59 | Allocated: 22.0 GB | Cached:  22.2 GB\n",
      "Memory Usage in Iteration: 60 | Allocated: 22.0 GB | Cached:  22.2 GB\n",
      "Memory Usage in Iteration: 61 | Allocated: 22.0 GB | Cached:  22.2 GB\n",
      "Memory Usage in Iteration: 62 | Allocated: 22.0 GB | Cached:  22.2 GB\n",
      "Memory Usage in Iteration: 63 | Allocated: 22.0 GB | Cached:  22.2 GB\n",
      "Memory Usage in Iteration: 64 | Allocated: 22.0 GB | Cached:  22.2 GB\n",
      "Memory Usage in Iteration: 65 | Allocated: 22.0 GB | Cached:  22.2 GB\n",
      "Memory Usage in Iteration: 66 | Allocated: 22.0 GB | Cached:  22.2 GB\n",
      "Memory Usage in Iteration: 67 | Allocated: 22.0 GB | Cached:  22.2 GB\n",
      "Memory Usage in Iteration: 68 | Allocated: 22.0 GB | Cached:  22.2 GB\n",
      "Memory Usage in Iteration: 69 | Allocated: 22.0 GB | Cached:  22.2 GB\n",
      "Memory Usage in Iteration: 70 | Allocated: 22.0 GB | Cached:  22.2 GB\n",
      "Memory Usage in Iteration: 71 | Allocated: 22.0 GB | Cached:  22.2 GB\n",
      "Memory Usage in Iteration: 72 | Allocated: 22.0 GB | Cached:  22.2 GB\n",
      "Memory Usage in Iteration: 73 | Allocated: 22.0 GB | Cached:  22.2 GB\n",
      "Memory Usage in Iteration: 74 | Allocated: 22.0 GB | Cached:  22.2 GB\n",
      "Memory Usage in Iteration: 75 | Allocated: 22.0 GB | Cached:  22.2 GB\n",
      "Memory Usage in Iteration: 76 | Allocated: 22.0 GB | Cached:  22.2 GB\n",
      "Memory Usage in Iteration: 77 | Allocated: 22.0 GB | Cached:  22.2 GB\n",
      "Memory Usage in Iteration: 78 | Allocated: 22.0 GB | Cached:  22.2 GB\n",
      "Memory Usage in Iteration: 79 | Allocated: 22.0 GB | Cached:  22.2 GB\n",
      "Memory Usage in Iteration: 80 | Allocated: 22.0 GB | Cached:  22.2 GB\n",
      "Memory Usage in Iteration: 81 | Allocated: 22.0 GB | Cached:  22.2 GB\n",
      "Memory Usage in Iteration: 82 | Allocated: 22.0 GB | Cached:  22.2 GB\n",
      "Memory Usage in Iteration: 83 | Allocated: 22.0 GB | Cached:  22.2 GB\n",
      "Memory Usage in Iteration: 84 | Allocated: 22.0 GB | Cached:  22.2 GB\n",
      "Memory Usage in Iteration: 85 | Allocated: 22.0 GB | Cached:  22.2 GB\n",
      "Memory Usage in Iteration: 86 | Allocated: 22.0 GB | Cached:  22.2 GB\n",
      "Memory Usage in Iteration: 87 | Allocated: 22.0 GB | Cached:  22.2 GB\n",
      "Memory Usage in Iteration: 88 | Allocated: 22.0 GB | Cached:  22.2 GB\n",
      "Memory Usage in Iteration: 89 | Allocated: 22.0 GB | Cached:  22.2 GB\n",
      "Memory Usage in Iteration: 90 | Allocated: 22.0 GB | Cached:  22.2 GB\n",
      "Memory Usage in Iteration: 91 | Allocated: 22.0 GB | Cached:  22.2 GB\n",
      "Memory Usage in Iteration: 92 | Allocated: 22.0 GB | Cached:  22.2 GB\n",
      "Memory Usage in Iteration: 93 | Allocated: 22.0 GB | Cached:  22.2 GB\n",
      "Memory Usage in Iteration: 94 | Allocated: 22.0 GB | Cached:  22.2 GB\n",
      "Memory Usage in Iteration: 95 | Allocated: 22.0 GB | Cached:  22.2 GB\n",
      "Memory Usage in Iteration: 96 | Allocated: 22.0 GB | Cached:  22.2 GB\n",
      "Memory Usage in Iteration: 97 | Allocated: 22.0 GB | Cached:  22.2 GB\n",
      "Memory Usage in Iteration: 98 | Allocated: 22.0 GB | Cached:  22.2 GB\n",
      "Memory Usage in Iteration: 99 | Allocated: 22.0 GB | Cached:  22.2 GB\n",
      "Memory Usage in Iteration: 100 | Allocated: 22.0 GB | Cached:  22.2 GB\n",
      "Memory Usage in Iteration: 101 | Allocated: 22.0 GB | Cached:  22.2 GB\n",
      "Memory Usage in Iteration: 102 | Allocated: 22.0 GB | Cached:  22.2 GB\n",
      "Memory Usage in Iteration: 103 | Allocated: 22.0 GB | Cached:  22.2 GB\n",
      "Memory Usage in Iteration: 104 | Allocated: 22.0 GB | Cached:  22.2 GB\n",
      "Memory Usage in Iteration: 105 | Allocated: 22.0 GB | Cached:  22.2 GB\n",
      "Memory Usage in Iteration: 106 | Allocated: 22.0 GB | Cached:  22.2 GB\n",
      "Memory Usage in Iteration: 107 | Allocated: 22.0 GB | Cached:  22.2 GB\n",
      "Memory Usage in Iteration: 108 | Allocated: 22.0 GB | Cached:  22.2 GB\n",
      "Memory Usage in Iteration: 109 | Allocated: 22.0 GB | Cached:  22.2 GB\n",
      "Memory Usage in Iteration: 110 | Allocated: 22.0 GB | Cached:  22.2 GB\n",
      "Memory Usage in Iteration: 111 | Allocated: 22.0 GB | Cached:  22.2 GB\n",
      "Memory Usage in Iteration: 112 | Allocated: 22.0 GB | Cached:  22.2 GB\n",
      "Memory Usage in Iteration: 113 | Allocated: 22.0 GB | Cached:  22.2 GB\n",
      "Memory Usage in Iteration: 114 | Allocated: 22.0 GB | Cached:  22.2 GB\n",
      "Memory Usage in Iteration: 115 | Allocated: 22.0 GB | Cached:  22.2 GB\n",
      "Memory Usage in Iteration: 116 | Allocated: 22.0 GB | Cached:  22.2 GB\n",
      "Memory Usage in Iteration: 117 | Allocated: 22.0 GB | Cached:  22.2 GB\n",
      "Memory Usage in Iteration: 118 | Allocated: 22.0 GB | Cached:  22.2 GB\n",
      "Memory Usage in Iteration: 119 | Allocated: 22.0 GB | Cached:  22.2 GB\n",
      "Memory Usage in Iteration: 120 | Allocated: 22.0 GB | Cached:  22.2 GB\n",
      "Memory Usage in Iteration: 121 | Allocated: 22.0 GB | Cached:  22.2 GB\n",
      "Memory Usage in Iteration: 122 | Allocated: 22.0 GB | Cached:  22.2 GB\n",
      "Memory Usage in Iteration: 123 | Allocated: 22.0 GB | Cached:  22.2 GB\n",
      "Memory Usage in Iteration: 124 | Allocated: 22.0 GB | Cached:  22.2 GB\n",
      "Memory Usage in Iteration: 125 | Allocated: 22.0 GB | Cached:  22.2 GB\n",
      "Memory Usage in Iteration: 126 | Allocated: 22.0 GB | Cached:  22.2 GB\n",
      "Memory Usage in Iteration: 127 | Allocated: 22.0 GB | Cached:  22.2 GB\n",
      "Memory Usage in Iteration: 128 | Allocated: 22.0 GB | Cached:  22.2 GB\n",
      "Memory Usage in Iteration: 129 | Allocated: 22.0 GB | Cached:  22.2 GB\n",
      "Memory Usage in Iteration: 130 | Allocated: 22.0 GB | Cached:  22.2 GB\n",
      "Memory Usage in Iteration: 131 | Allocated: 22.0 GB | Cached:  22.2 GB\n",
      "Memory Usage in Iteration: 132 | Allocated: 22.0 GB | Cached:  22.2 GB\n",
      "Memory Usage in Iteration: 133 | Allocated: 22.0 GB | Cached:  22.2 GB\n",
      "Memory Usage in Iteration: 134 | Allocated: 22.0 GB | Cached:  22.2 GB\n",
      "Memory Usage in Iteration: 135 | Allocated: 22.0 GB | Cached:  22.2 GB\n",
      "Memory Usage in Iteration: 136 | Allocated: 22.0 GB | Cached:  22.2 GB\n",
      "Memory Usage in Iteration: 137 | Allocated: 22.0 GB | Cached:  22.2 GB\n",
      "Memory Usage in Iteration: 138 | Allocated: 22.0 GB | Cached:  22.2 GB\n",
      "Memory Usage in Iteration: 139 | Allocated: 22.0 GB | Cached:  22.2 GB\n",
      "Memory Usage in Iteration: 140 | Allocated: 22.0 GB | Cached:  22.2 GB\n",
      "Memory Usage in Iteration: 141 | Allocated: 22.0 GB | Cached:  22.2 GB\n",
      "Memory Usage in Iteration: 142 | Allocated: 22.0 GB | Cached:  22.2 GB\n",
      "Memory Usage in Iteration: 143 | Allocated: 22.0 GB | Cached:  22.2 GB\n",
      "Memory Usage in Iteration: 144 | Allocated: 22.0 GB | Cached:  22.2 GB\n",
      "Memory Usage in Iteration: 145 | Allocated: 22.0 GB | Cached:  22.2 GB\n",
      "Memory Usage in Iteration: 146 | Allocated: 22.0 GB | Cached:  22.2 GB\n",
      "Memory Usage in Iteration: 147 | Allocated: 22.0 GB | Cached:  22.2 GB\n",
      "Memory Usage in Iteration: 148 | Allocated: 22.0 GB | Cached:  22.2 GB\n",
      "Memory Usage in Iteration: 149 | Allocated: 22.0 GB | Cached:  22.2 GB\n",
      "Memory Usage in Iteration: 150 | Allocated: 22.0 GB | Cached:  22.2 GB\n",
      "Memory Usage in Iteration: 151 | Allocated: 22.0 GB | Cached:  22.2 GB\n",
      "Memory Usage in Iteration: 152 | Allocated: 22.0 GB | Cached:  22.2 GB\n",
      "Memory Usage in Iteration: 153 | Allocated: 22.0 GB | Cached:  22.2 GB\n",
      "Memory Usage in Iteration: 154 | Allocated: 22.0 GB | Cached:  22.2 GB\n",
      "Memory Usage in Iteration: 155 | Allocated: 22.0 GB | Cached:  22.2 GB\n",
      "Memory Usage in Iteration: 156 | Allocated: 22.0 GB | Cached:  22.2 GB\n",
      "Memory Usage in Iteration: 157 | Allocated: 22.0 GB | Cached:  22.2 GB\n",
      "Memory Usage in Iteration: 158 | Allocated: 22.0 GB | Cached:  22.2 GB\n",
      "Memory Usage in Iteration: 159 | Allocated: 22.0 GB | Cached:  22.2 GB\n",
      "Memory Usage in Iteration: 160 | Allocated: 22.0 GB | Cached:  22.2 GB\n",
      "Memory Usage in Iteration: 161 | Allocated: 22.0 GB | Cached:  22.2 GB\n",
      "Memory Usage in Iteration: 162 | Allocated: 22.0 GB | Cached:  22.2 GB\n",
      "Memory Usage in Iteration: 163 | Allocated: 22.0 GB | Cached:  22.2 GB\n",
      "Memory Usage in Iteration: 164 | Allocated: 22.0 GB | Cached:  22.2 GB\n",
      "Memory Usage in Iteration: 165 | Allocated: 22.0 GB | Cached:  22.2 GB\n",
      "Memory Usage in Iteration: 166 | Allocated: 22.0 GB | Cached:  22.2 GB\n",
      "Memory Usage in Iteration: 167 | Allocated: 22.0 GB | Cached:  22.2 GB\n",
      "Memory Usage in Iteration: 168 | Allocated: 22.0 GB | Cached:  22.2 GB\n",
      "Memory Usage in Iteration: 169 | Allocated: 22.0 GB | Cached:  22.2 GB\n",
      "Memory Usage in Iteration: 170 | Allocated: 22.0 GB | Cached:  22.2 GB\n",
      "Memory Usage in Iteration: 171 | Allocated: 22.0 GB | Cached:  22.2 GB\n",
      "Memory Usage in Iteration: 172 | Allocated: 22.0 GB | Cached:  22.2 GB\n",
      "Memory Usage in Iteration: 173 | Allocated: 22.0 GB | Cached:  22.2 GB\n",
      "Memory Usage in Iteration: 174 | Allocated: 22.0 GB | Cached:  22.2 GB\n",
      "Memory Usage in Iteration: 175 | Allocated: 22.0 GB | Cached:  22.2 GB\n",
      "Memory Usage in Iteration: 176 | Allocated: 22.0 GB | Cached:  22.2 GB\n",
      "Memory Usage in Iteration: 177 | Allocated: 22.0 GB | Cached:  22.2 GB\n",
      "Memory Usage in Iteration: 178 | Allocated: 22.0 GB | Cached:  22.2 GB\n",
      "Memory Usage in Iteration: 179 | Allocated: 22.0 GB | Cached:  22.2 GB\n",
      "Memory Usage in Iteration: 180 | Allocated: 22.0 GB | Cached:  22.2 GB\n",
      "Memory Usage in Iteration: 181 | Allocated: 22.0 GB | Cached:  22.2 GB\n",
      "Memory Usage in Iteration: 182 | Allocated: 22.0 GB | Cached:  22.2 GB\n",
      "Memory Usage in Iteration: 183 | Allocated: 22.0 GB | Cached:  22.2 GB\n",
      "Memory Usage in Iteration: 184 | Allocated: 22.0 GB | Cached:  22.2 GB\n",
      "Memory Usage in Iteration: 185 | Allocated: 22.0 GB | Cached:  22.2 GB\n",
      "Memory Usage in Iteration: 186 | Allocated: 22.0 GB | Cached:  22.2 GB\n",
      "Memory Usage in Iteration: 187 | Allocated: 22.0 GB | Cached:  22.2 GB\n",
      "Memory Usage in Iteration: 188 | Allocated: 22.0 GB | Cached:  22.2 GB\n",
      "Memory Usage in Iteration: 189 | Allocated: 22.0 GB | Cached:  22.2 GB\n",
      "Memory Usage in Iteration: 190 | Allocated: 22.0 GB | Cached:  22.2 GB\n",
      "Memory Usage in Iteration: 191 | Allocated: 22.0 GB | Cached:  22.2 GB\n",
      "Memory Usage in Iteration: 192 | Allocated: 22.0 GB | Cached:  22.2 GB\n",
      "Memory Usage in Iteration: 193 | Allocated: 22.0 GB | Cached:  22.2 GB\n",
      "Memory Usage in Iteration: 194 | Allocated: 22.0 GB | Cached:  22.2 GB\n",
      "Memory Usage in Iteration: 195 | Allocated: 22.0 GB | Cached:  22.2 GB\n",
      "Memory Usage in Iteration: 196 | Allocated: 22.0 GB | Cached:  22.2 GB\n",
      "Memory Usage in Iteration: 197 | Allocated: 22.0 GB | Cached:  22.2 GB\n",
      "Memory Usage in Iteration: 198 | Allocated: 22.0 GB | Cached:  22.2 GB\n",
      "Memory Usage in Iteration: 199 | Allocated: 22.0 GB | Cached:  22.2 GB\n",
      "Memory Usage in Iteration: 200 | Allocated: 22.0 GB | Cached:  22.2 GB\n",
      "Memory Usage in Iteration: 201 | Allocated: 22.0 GB | Cached:  22.2 GB\n",
      "Memory Usage in Iteration: 202 | Allocated: 22.0 GB | Cached:  22.2 GB\n",
      "Memory Usage in Iteration: 203 | Allocated: 22.0 GB | Cached:  22.2 GB\n",
      "Memory Usage in Iteration: 204 | Allocated: 22.0 GB | Cached:  22.2 GB\n",
      "Memory Usage in Iteration: 205 | Allocated: 22.0 GB | Cached:  22.2 GB\n",
      "Memory Usage in Iteration: 206 | Allocated: 22.0 GB | Cached:  22.2 GB\n",
      "Memory Usage in Iteration: 207 | Allocated: 22.0 GB | Cached:  22.2 GB\n",
      "Memory Usage in Iteration: 208 | Allocated: 22.0 GB | Cached:  22.2 GB\n",
      "Memory Usage in Iteration: 209 | Allocated: 22.0 GB | Cached:  22.2 GB\n",
      "Memory Usage in Iteration: 210 | Allocated: 22.0 GB | Cached:  22.2 GB\n",
      "Memory Usage in Iteration: 211 | Allocated: 22.0 GB | Cached:  22.2 GB\n",
      "Memory Usage in Iteration: 212 | Allocated: 22.0 GB | Cached:  22.2 GB\n",
      "Memory Usage in Iteration: 213 | Allocated: 22.0 GB | Cached:  22.2 GB\n",
      "Memory Usage in Iteration: 214 | Allocated: 22.0 GB | Cached:  22.2 GB\n",
      "Memory Usage in Iteration: 215 | Allocated: 22.0 GB | Cached:  22.2 GB\n",
      "Memory Usage in Iteration: 216 | Allocated: 22.0 GB | Cached:  22.2 GB\n",
      "Memory Usage in Iteration: 217 | Allocated: 22.0 GB | Cached:  22.2 GB\n",
      "Memory Usage in Iteration: 218 | Allocated: 22.0 GB | Cached:  22.2 GB\n",
      "Memory Usage in Iteration: 219 | Allocated: 22.0 GB | Cached:  22.2 GB\n",
      "Memory Usage in Iteration: 220 | Allocated: 22.0 GB | Cached:  22.2 GB\n",
      "Memory Usage in Iteration: 221 | Allocated: 22.0 GB | Cached:  22.2 GB\n",
      "Memory Usage in Iteration: 222 | Allocated: 22.0 GB | Cached:  22.2 GB\n",
      "Memory Usage in Iteration: 223 | Allocated: 22.0 GB | Cached:  22.2 GB\n",
      "Memory Usage in Iteration: 224 | Allocated: 22.0 GB | Cached:  22.2 GB\n",
      "Memory Usage in Iteration: 225 | Allocated: 22.0 GB | Cached:  22.2 GB\n",
      "Memory Usage in Iteration: 226 | Allocated: 22.0 GB | Cached:  22.2 GB\n",
      "Memory Usage in Iteration: 227 | Allocated: 22.0 GB | Cached:  22.2 GB\n",
      "Memory Usage in Iteration: 228 | Allocated: 22.0 GB | Cached:  22.2 GB\n",
      "Memory Usage in Iteration: 229 | Allocated: 22.0 GB | Cached:  22.2 GB\n",
      "Memory Usage in Iteration: 230 | Allocated: 22.0 GB | Cached:  22.2 GB\n",
      "Memory Usage in Iteration: 231 | Allocated: 22.0 GB | Cached:  22.2 GB\n",
      "Memory Usage in Iteration: 232 | Allocated: 22.0 GB | Cached:  22.2 GB\n",
      "Memory Usage in Iteration: 233 | Allocated: 22.0 GB | Cached:  22.2 GB\n",
      "Memory Usage in Iteration: 234 | Allocated: 22.0 GB | Cached:  22.2 GB\n",
      "Memory Usage in Iteration: 235 | Allocated: 22.0 GB | Cached:  22.2 GB\n",
      "Memory Usage in Iteration: 236 | Allocated: 22.0 GB | Cached:  22.2 GB\n",
      "Memory Usage in Iteration: 237 | Allocated: 22.0 GB | Cached:  22.2 GB\n",
      "Memory Usage in Iteration: 238 | Allocated: 22.0 GB | Cached:  22.2 GB\n",
      "Memory Usage in Iteration: 239 | Allocated: 22.0 GB | Cached:  22.2 GB\n",
      "Memory Usage in Iteration: 240 | Allocated: 22.0 GB | Cached:  22.2 GB\n",
      "Memory Usage in Iteration: 241 | Allocated: 22.0 GB | Cached:  22.2 GB\n",
      "Memory Usage in Iteration: 242 | Allocated: 22.0 GB | Cached:  22.2 GB\n",
      "Memory Usage in Iteration: 243 | Allocated: 22.0 GB | Cached:  22.2 GB\n",
      "Memory Usage in Iteration: 244 | Allocated: 22.0 GB | Cached:  22.2 GB\n",
      "Memory Usage in Iteration: 245 | Allocated: 22.0 GB | Cached:  22.2 GB\n",
      "Memory Usage in Iteration: 246 | Allocated: 22.0 GB | Cached:  22.2 GB\n",
      "Memory Usage in Iteration: 247 | Allocated: 22.0 GB | Cached:  22.2 GB\n",
      "Memory Usage in Iteration: 248 | Allocated: 22.0 GB | Cached:  22.2 GB\n",
      "Memory Usage in Iteration: 249 | Allocated: 22.0 GB | Cached:  22.2 GB\n",
      "Memory Usage in Iteration: 250 | Allocated: 22.0 GB | Cached:  22.2 GB\n",
      "Memory Usage in Iteration: 251 | Allocated: 22.0 GB | Cached:  22.2 GB\n",
      "Memory Usage in Iteration: 252 | Allocated: 22.0 GB | Cached:  22.2 GB\n",
      "Memory Usage in Iteration: 253 | Allocated: 22.0 GB | Cached:  22.2 GB\n",
      "Memory Usage in Iteration: 254 | Allocated: 22.0 GB | Cached:  22.2 GB\n",
      "Memory Usage in Iteration: 255 | Allocated: 22.0 GB | Cached:  22.2 GB\n",
      "Memory Usage in Iteration: 256 | Allocated: 22.0 GB | Cached:  22.2 GB\n",
      "Memory Usage in Iteration: 257 | Allocated: 22.0 GB | Cached:  22.2 GB\n",
      "Memory Usage in Iteration: 258 | Allocated: 22.0 GB | Cached:  22.2 GB\n",
      "Memory Usage in Iteration: 259 | Allocated: 22.0 GB | Cached:  22.2 GB\n",
      "Memory Usage in Iteration: 260 | Allocated: 22.0 GB | Cached:  22.2 GB\n",
      "Memory Usage in Iteration: 261 | Allocated: 22.0 GB | Cached:  22.2 GB\n",
      "Memory Usage in Iteration: 262 | Allocated: 22.0 GB | Cached:  22.2 GB\n",
      "Memory Usage in Iteration: 263 | Allocated: 22.0 GB | Cached:  22.2 GB\n",
      "Memory Usage in Iteration: 264 | Allocated: 22.0 GB | Cached:  22.2 GB\n",
      "Memory Usage in Iteration: 265 | Allocated: 22.0 GB | Cached:  22.2 GB\n",
      "Memory Usage in Iteration: 266 | Allocated: 22.0 GB | Cached:  22.2 GB\n",
      "Memory Usage in Iteration: 267 | Allocated: 22.0 GB | Cached:  22.2 GB\n",
      "Memory Usage in Iteration: 268 | Allocated: 22.0 GB | Cached:  22.2 GB\n",
      "Memory Usage in Iteration: 269 | Allocated: 22.0 GB | Cached:  22.2 GB\n",
      "Memory Usage in Iteration: 270 | Allocated: 22.0 GB | Cached:  22.2 GB\n",
      "Memory Usage in Iteration: 271 | Allocated: 22.0 GB | Cached:  22.2 GB\n",
      "Memory Usage in Iteration: 272 | Allocated: 22.0 GB | Cached:  22.2 GB\n",
      "Memory Usage in Iteration: 273 | Allocated: 22.0 GB | Cached:  22.2 GB\n",
      "Memory Usage in Iteration: 274 | Allocated: 22.0 GB | Cached:  22.2 GB\n",
      "Memory Usage in Iteration: 275 | Allocated: 22.0 GB | Cached:  22.2 GB\n",
      "Memory Usage in Iteration: 276 | Allocated: 22.0 GB | Cached:  22.2 GB\n",
      "Memory Usage in Iteration: 277 | Allocated: 22.0 GB | Cached:  22.2 GB\n",
      "Memory Usage in Iteration: 278 | Allocated: 22.0 GB | Cached:  22.2 GB\n",
      "Memory Usage in Iteration: 279 | Allocated: 22.0 GB | Cached:  22.2 GB\n",
      "Memory Usage in Iteration: 280 | Allocated: 22.0 GB | Cached:  22.2 GB\n",
      "Memory Usage in Iteration: 281 | Allocated: 22.0 GB | Cached:  22.2 GB\n",
      "Memory Usage in Iteration: 282 | Allocated: 22.0 GB | Cached:  22.2 GB\n",
      "Memory Usage in Iteration: 283 | Allocated: 22.0 GB | Cached:  22.2 GB\n",
      "Memory Usage in Iteration: 284 | Allocated: 22.0 GB | Cached:  22.2 GB\n",
      "Memory Usage in Iteration: 285 | Allocated: 22.0 GB | Cached:  22.2 GB\n",
      "Memory Usage in Iteration: 286 | Allocated: 22.0 GB | Cached:  22.2 GB\n",
      "Memory Usage in Iteration: 287 | Allocated: 22.0 GB | Cached:  22.2 GB\n",
      "Memory Usage in Iteration: 288 | Allocated: 22.0 GB | Cached:  22.2 GB\n",
      "Memory Usage in Iteration: 289 | Allocated: 22.0 GB | Cached:  22.2 GB\n",
      "Memory Usage in Iteration: 290 | Allocated: 22.0 GB | Cached:  22.2 GB\n",
      "Memory Usage in Iteration: 291 | Allocated: 22.0 GB | Cached:  22.2 GB\n",
      "Memory Usage in Iteration: 292 | Allocated: 22.0 GB | Cached:  22.2 GB\n",
      "Memory Usage in Iteration: 293 | Allocated: 22.0 GB | Cached:  22.2 GB\n",
      "Memory Usage in Iteration: 294 | Allocated: 22.0 GB | Cached:  22.2 GB\n",
      "Memory Usage in Iteration: 295 | Allocated: 22.0 GB | Cached:  22.2 GB\n",
      "Memory Usage in Iteration: 296 | Allocated: 22.0 GB | Cached:  22.2 GB\n",
      "Memory Usage in Iteration: 297 | Allocated: 22.0 GB | Cached:  22.2 GB\n",
      "Memory Usage in Iteration: 298 | Allocated: 22.0 GB | Cached:  22.2 GB\n",
      "Memory Usage in Iteration: 299 | Allocated: 2.1 GB | Cached:  2.3 GB\n"
     ]
    }
   ],
   "source": [
    "# Use function to generate BERT embeddings for entities\n",
    "batch_embedd(dataloader, model, output_path, filename, device)"
   ]
  },
  {
   "cell_type": "markdown",
   "id": "63626cfb-5ff9-4d09-b666-eac21af5044f",
   "metadata": {
    "tags": []
   },
   "source": [
    "##### Generate word embeddings for relations"
   ]
  },
  {
   "cell_type": "code",
   "execution_count": 30,
   "id": "9660571a-4f78-404f-bbd0-dddadc2b2f6d",
   "metadata": {
    "tags": []
   },
   "outputs": [],
   "source": [
    "tokenized_rel = tokenize(tokenizer, rel_list)"
   ]
  },
  {
   "cell_type": "code",
   "execution_count": 42,
   "id": "ebf5bbe4-88a8-4bb2-bd02-6c83a57d342d",
   "metadata": {},
   "outputs": [],
   "source": [
    "output = generate_bert_embeddings(tokenized_rel, model)\n",
    "#torch.save(output, \"nlm_embeddings/bert___\")"
   ]
  },
  {
   "cell_type": "markdown",
   "id": "8321fa7e-67de-4adf-958c-a3b39c330dd0",
   "metadata": {},
   "source": [
    "##### 2.2 Compute average BERT embeddings "
   ]
  },
  {
   "cell_type": "markdown",
   "id": "030a8043-dde1-4b6c-9333-4b90b4dc9a2c",
   "metadata": {},
   "source": [
    "##### Entities"
   ]
  },
  {
   "cell_type": "code",
   "execution_count": 14,
   "id": "6cad6351-01d0-43ee-a2b3-d1720e66c91f",
   "metadata": {},
   "outputs": [],
   "source": [
    "path = \"03_nlm_embeddings/bert_wn18rr/all_hiddenlayers\""
   ]
  },
  {
   "cell_type": "code",
   "execution_count": 15,
   "id": "a0a59b01-0aa9-4943-b135-1e1036231fde",
   "metadata": {
    "tags": []
   },
   "outputs": [
    {
     "name": "stdout",
     "output_type": "stream",
     "text": [
      "['.ipynb_checkpoints', '00_bert_4lastlayers_wn18rr_rel.pt', '01_bert_4lastlayers_wn18rr_ent.pt', '02_bert_4lastlayers_wn18rr_ent.pt', '03_bert_4lastlayers_wn18rr_ent.pt', '04_bert_4lastlayers_wn18rr_ent.pt', '05_bert_4lastlayers_wn18rr_ent.pt', '06_bert_4lastlayers_wn18rr_ent.pt', '07_bert_4lastlayers_wn18rr_ent.pt', '08_bert_4lastlayers_wn18rr_ent.pt', '09_bert_4lastlayers_wn18rr_ent.pt', '10_bert_4lastlayers_wn18rr_ent.pt', '11_bert_4lastlayers_wn18rr_ent.pt', '12_bert_4lastlayers_wn18rr_ent.pt', '13_bert_4lastlayers_wn18rr_ent.pt', '14_bert_4lastlayers_wn18rr_ent.pt', '15_bert_4lastlayers_wn18rr_ent.pt', '16_bert_4lastlayers_wn18rr_ent.pt', '17_bert_4lastlayers_wn18rr_ent.pt']\n"
     ]
    }
   ],
   "source": [
    "# Load entity embeddings: these are saved in batches in separate files → output shape (nr_batches, 4, nr_samples_batch, nr_tokens bert_dimension)\n",
    "ent_embedd_raw = load_ent_embeddings(path, device)\n",
    "\n",
    "# Concatenate embeddings to remove batch separation → output shape (4, nr_samples, nr_tokens, bert_dimension) \n",
    "concat_ent_embedd = concat_ent_embeddings(ent_embedd_raw)\n",
    "\n",
    "# Average the 4 last hidden layers for CLS token → output shape (nr_samples, bert_dimension)\n",
    "avg_ent_embedd = avg_bert4LL_embeddings(concat_ent_embedd)\n",
    "\n",
    "# Sort entity embeddings to match the dataset sequence of pykeen\n",
    "sorted_ent_embedd = embedding_mapping(df_entity2text, df_entity2text['id'], ent_id_list, avg_ent_embedd)"
   ]
  },
  {
   "cell_type": "code",
   "execution_count": null,
   "id": "50e1b041-bd46-4202-9dff-df0930d17680",
   "metadata": {},
   "outputs": [],
   "source": [
    "# Save BERT entity embeddings e.g. \"fb15k237_bert_ent_embeddings_sorted.pt\"\n",
    "#torch.save(sorted_ent_embedd, \"03_nlm_embeddings/bert____\")"
   ]
  },
  {
   "cell_type": "code",
   "execution_count": 16,
   "id": "5e38a178-5413-4108-ab4d-7c1552815b65",
   "metadata": {
    "tags": []
   },
   "outputs": [
    {
     "data": {
      "text/plain": [
       "torch.Size([40559, 768])"
      ]
     },
     "execution_count": 16,
     "metadata": {},
     "output_type": "execute_result"
    }
   ],
   "source": [
    "sorted_ent_embedd.shape"
   ]
  },
  {
   "cell_type": "markdown",
   "id": "fc072917-a397-44ba-a34d-600aa3368cd2",
   "metadata": {},
   "source": [
    "##### Relations"
   ]
  },
  {
   "cell_type": "code",
   "execution_count": 20,
   "id": "de4d73b7-9e79-4718-a704-bd8c2099fa96",
   "metadata": {
    "tags": []
   },
   "outputs": [],
   "source": [
    "# Load relation embeddings\n",
    "rel_embedd_raw = torch.load(\"03_nlm_embeddings/bert_wn18rr/all_hiddenlayers/00_bert_4lastlayers_wn18rr_rel.pt\",  map_location = torch.device(device))\n",
    "\n",
    "# Average the 4 last hidden layers for CLS token → output shape (nr_samples, bert_dimension)\n",
    "avg_rel_embedd = avg_bert4LL_embeddings(rel_embedd_raw)\n",
    "\n",
    "# For Wn18RR relations are already sorted as they are extracted directly from pykeen's datasets \n",
    "# For Fb15k-237, embeddding mapping needs to be done\n",
    "sorted_rel_embedd = embedding_mapping(df_rel2text, df_rel2text['id'], rel_id_list, avg_rel_embedd)"
   ]
  },
  {
   "cell_type": "code",
   "execution_count": 25,
   "id": "f8499684-12b9-4e7d-8eec-3d4d17e567b2",
   "metadata": {
    "tags": []
   },
   "outputs": [
    {
     "data": {
      "text/plain": [
       "torch.Size([11, 768])"
      ]
     },
     "execution_count": 25,
     "metadata": {},
     "output_type": "execute_result"
    }
   ],
   "source": [
    "sorted_rel_embedd .shape"
   ]
  },
  {
   "cell_type": "code",
   "execution_count": 55,
   "id": "9fb23ca9-2cd8-4538-9e7a-6bf0c7dbb596",
   "metadata": {
    "tags": []
   },
   "outputs": [],
   "source": [
    "# Save BERT entity embeddings e.g. \"fb15k237_bert_rel_embeddings_sorted.pt\"\n",
    "#torch.save(avg_rel_embedd, \"03_nlm_embeddings/bert____\")"
   ]
  }
 ],
 "metadata": {
  "kernelspec": {
   "display_name": "nlm_kge2",
   "language": "python",
   "name": "nlm_kge2"
  },
  "language_info": {
   "codemirror_mode": {
    "name": "ipython",
    "version": 3
   },
   "file_extension": ".py",
   "mimetype": "text/x-python",
   "name": "python",
   "nbconvert_exporter": "python",
   "pygments_lexer": "ipython3",
   "version": "3.9.7"
  }
 },
 "nbformat": 4,
 "nbformat_minor": 5
}
