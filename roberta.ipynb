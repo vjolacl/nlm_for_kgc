{
 "cells": [
  {
   "cell_type": "code",
   "execution_count": 1,
   "id": "1c748ba2-8ab2-4f96-8295-07efa5ebf675",
   "metadata": {
    "tags": []
   },
   "outputs": [
    {
     "name": "stderr",
     "output_type": "stream",
     "text": [
      "2023-06-17 18:53:43.051538: I tensorflow/core/util/port.cc:110] oneDNN custom operations are on. You may see slightly different numerical results due to floating-point round-off errors from different computation orders. To turn them off, set the environment variable `TF_ENABLE_ONEDNN_OPTS=0`.\n",
      "2023-06-17 18:53:43.840991: I tensorflow/core/platform/cpu_feature_guard.cc:182] This TensorFlow binary is optimized to use available CPU instructions in performance-critical operations.\n",
      "To enable the following instructions: AVX2 AVX512F AVX512_VNNI FMA, in other operations, rebuild TensorFlow with the appropriate compiler flags.\n",
      "2023-06-17 18:53:58.188716: W tensorflow/compiler/tf2tensorrt/utils/py_utils.cc:38] TF-TRT Warning: Could not find TensorRT\n"
     ]
    }
   ],
   "source": [
    "from pykeen.datasets import WN18RR, FB15k237\n",
    "import pandas as pd\n",
    "import numpy as np\n",
    "import torch\n",
    "from pykeen.sampling.basic_negative_sampler import BasicNegativeSampler\n",
    "from transformers import RobertaTokenizer, RobertaForSequenceClassification,Trainer, TrainingArguments\n",
    "import torch.nn as nn\n",
    "from torch.utils.data import Dataset, DataLoader\n",
    "from sklearn.metrics import accuracy_score, precision_recall_fscore_support\n",
    "from functions import *"
   ]
  },
  {
   "cell_type": "markdown",
   "id": "2044c6fd-a2f1-49d8-94c1-7331fb033392",
   "metadata": {
    "tags": []
   },
   "source": [
    "### 0 Load dataset"
   ]
  },
  {
   "cell_type": "code",
   "execution_count": 2,
   "id": "87fbe15e-bc04-454f-99b3-c74fdf494cb8",
   "metadata": {
    "tags": []
   },
   "outputs": [],
   "source": [
    "dataset = WN18RR()\n",
    "path_ent = \"data/wn18rr/wn18rr_entity2text.txt\"\n",
    "path_rel = 'data/wn18rr/wn18rr_relation2text.txt'\n",
    "device = \"cuda\""
   ]
  },
  {
   "cell_type": "code",
   "execution_count": 3,
   "id": "54079943-a22c-4934-a426-f2110f4fcfb4",
   "metadata": {
    "tags": []
   },
   "outputs": [
    {
     "data": {
      "text/plain": [
       "WN18RR(training_path=\"/pfs/data5/home/kit/aifb/ho8030/.data/pykeen/datasets/wn18rr/train.txt\", testing_path=\"/pfs/data5/home/kit/aifb/ho8030/.data/pykeen/datasets/wn18rr/test.txt\", validation_path=\"/pfs/data5/home/kit/aifb/ho8030/.data/pykeen/datasets/wn18rr/valid.txt\")"
      ]
     },
     "execution_count": 3,
     "metadata": {},
     "output_type": "execute_result"
    }
   ],
   "source": [
    "dataset"
   ]
  },
  {
   "cell_type": "markdown",
   "id": "d56b8448-8e38-4318-8252-f29d1e41b40a",
   "metadata": {
    "jp-MarkdownHeadingCollapsed": true,
    "tags": []
   },
   "source": [
    "#### Get train, test and validation triples  and store in df"
   ]
  },
  {
   "cell_type": "code",
   "execution_count": 63,
   "id": "526b945c-87d7-48b4-a5dd-5c20271c6c91",
   "metadata": {
    "tags": []
   },
   "outputs": [],
   "source": [
    "def triple_labels(dataset):\n",
    "    # Get triples in label form e.g. ['/m/010016', '/location/', '/m/0mr_8']\n",
    "    train = dataset.training.triples\n",
    "    test = dataset.testing.triples\n",
    "    val= dataset.validation.triples\n",
    "    \n",
    "    return train, test, val\n",
    "\n",
    "def triple_ids(dataset):\n",
    "    # Get triples in ID form e.g. [0, 120, 13647]\n",
    "    train = dataset.training.mapped_triples\n",
    "    test = dataset.testing.mapped_triples\n",
    "    val = dataset.validation.mapped_triples\n",
    "    \n",
    "    return train, test, val\n",
    "    \n",
    "def neg_sampling(sampler, triple_ids, triple_factory):\n",
    "    \n",
    "    #Initialiaze negative sampler from pykeen\n",
    "    neg_sampler = BasicNegativeSampler(mapped_triples = triple_ids, filtered=True)\n",
    "    \n",
    "    # Compute negative samples for the given triples\n",
    "    neg_triples, filter_mask = neg_sampler.sample(triple_ids)\n",
    "    \n",
    "    # Create mask to filter out the neg_triples that are included in the initial positive triples of the KG\n",
    "    mask = np.ones(len(neg_triples), dtype=bool)\n",
    "    mask[np.where(filter_mask==False)[0]] = False\n",
    "    tensor_filtered = neg_triples[mask] # Apply the mask to remove duplicates\n",
    "    \n",
    "    # Reshape tensor to match the shape of mapped_triples from the pykeen triple factory \n",
    "    tensor_filtered = tensor_filtered.reshape(len(tensor_filtered), 3) \n",
    "    triple_labels = triple_factory.label_triples(tensor_filtered)  # enter triple ID (number) and get the triple labels   \n",
    "    \n",
    "    del tensor_filtered\n",
    "    \n",
    "    return triple_labels\n",
    "\n",
    "\n",
    "def load_ent_rel_def(dataset, path_ent, path_rel):\n",
    "    \n",
    "    if dataset==\"fb15k237\":\n",
    "        df_entity2text = pd.read_csv(path_ent, delimiter=\"\\t\", header = None, names=[\"id\", \"entity\"])\n",
    "        df_entity2text[\"segmented_entities\"] = df_entity2text[\"entity\"].str.split(' ')\n",
    "    \n",
    "        df_rel2text = pd.read_csv(path_rel, delimiter=\"\\t\", header = None, names=[\"id\", \"definition\"])\n",
    "        df_rel2text[[\"property_1_id\", \"property_2_id\"]] = df_rel2text[\"id\"].str.split('.', n=1, expand=True)\n",
    "        df_rel2text[\"property_1_id\"] = df_rel2text[\"property_1_id\"].str.replace(\"/\", \", \").str[2:]\n",
    "        df_rel2text[\"property_2_id\"] = df_rel2text[\"property_2_id\"].str.replace(\"/\", \", \").str[2:]\n",
    "        df_rel2text[\"property_1_id\"] = df_rel2text[\"property_1_id\"].str.replace(\"_\", \" \")\n",
    "        df_rel2text[\"property_2_id\"] = df_rel2text[\"property_2_id\"].str.replace(\"_\", \" \")\n",
    "        \n",
    "    elif dataset==\"wn18rr\":\n",
    "        df_entity2text = pd.read_csv(path_ent, delimiter=\"\\t\", header = None, names=[\"id\", \"definition\"])\n",
    "        df_entity2text[[\"entity\", \"description\"]] = df_entity2text[\"definition\"].str.split(',', n=1, expand=True)\n",
    "        df_entity2text.id = df_entity2text.id.astype(str)\n",
    "        df_entity2text[\"id\"] = df_entity2text[\"id\"].str.rjust(8, '0')\n",
    "    \n",
    "        df_rel2text = pd.read_csv(path_rel, delimiter=\"\\t\", header = None, names=[\"id\", \"definition\"])\n",
    "    \n",
    "    else: \n",
    "        print(\"Only datasets 'fb1k237' and 'wn18rr' are supported\")\n",
    "        \n",
    "    return df_entity2text, df_rel2text\n",
    "   \n",
    "    \n",
    "\n",
    "def triple_def(df_entity2text, df_rel2text, triples, target):\n",
    "    \n",
    "    df = pd.DataFrame(triples, columns=['head', 'rel', 'tail'])\n",
    "    \n",
    "    df['head_label'] = df['head'].map(df_entity2text.set_index('id')['entity'])\n",
    "    df['rel_label'] = df['rel'].map(df_rel2text.set_index('id')['definition'])\n",
    "    df['tail_label'] = df['tail'].map(df_entity2text.set_index('id')['entity'])\n",
    "    \n",
    "    if target==\"pos\":\n",
    "        df[\"target\"] = 1\n",
    "    elif target==\"neg\": \n",
    "        df[\"target\"] = 0\n",
    "    else: \n",
    "        print(\"This parameter can only be either 'pos' or 'neg'\")\n",
    "        \n",
    "    if df.isnull().values.any():\n",
    "        print(\"Dataframe contains nan values, review input\")\n",
    "    return df\n",
    "    \n",
    "    \n",
    "def merge_pos_neg_triples(pos_triples, neg_triples, approach):\n",
    "    \n",
    "    # Concatenate the positive and negative triples in the dataframe and shuffle the data \n",
    "    df = pd.concat([pos_triples, neg_triples])\n",
    "    df = df.reset_index(drop=True)\n",
    "    df = df.sample(frac = 1, random_state=5)\n",
    "    \n",
    "    \n",
    "    if approach==\"one_sequence\":\n",
    "        df[\"triple\"]= df[\"head_label\"] + \" \"+ df[\"rel_label\"] + \" \" + df[\"tail_label\"]\n",
    "        \n",
    "    elif approach==\"sep_sequences\":\n",
    "        df['triple'] = df.apply(lambda row: [row['head_label'], row['rel_label'], row['tail_label']], axis=1) \n",
    "            \n",
    "        \n",
    "    else: \n",
    "        print(\"Only the two approaches one_sequence and sep_sequences are suppported.\")\n",
    "    \n",
    "    \n",
    "    #Store triples in a dictionary along with the labels\n",
    "    output = { \"triples\": df[\"triple\"].tolist(), \"labels\": df[\"target\"].tolist()}\n",
    "    \n",
    "    return output\n",
    "\n",
    "class RobertaInput(torch.utils.data.Dataset):\n",
    "    def __init__(self, encodings, labels):\n",
    "        self.encodings = encodings\n",
    "        self.labels = labels\n",
    "\n",
    "    def __getitem__(self, idx):\n",
    "        item = {key: torch.tensor(val[idx]) for key, val in self.encodings.items()}\n",
    "        item['labels'] = torch.tensor(self.labels[idx])\n",
    "        return item\n",
    "\n",
    "    def __len__(self):\n",
    "        return len(self.labels)\n",
    "\n",
    "def post_tokenizer(tokenized_triples):\n",
    "    for j in range(len(tokenized_triples['input_ids'])):\n",
    "        item = tokenized_triples['input_ids'][j]\n",
    "        tokenized_triples['input_ids'][j]=[2 if item[i]==6 else item[i] for i in range(len(item))] \n",
    "    return tokenized_triples "
   ]
  },
  {
   "cell_type": "code",
   "execution_count": 48,
   "id": "89251a1a-0b70-4fa3-be40-d4fe432824fa",
   "metadata": {
    "tags": []
   },
   "outputs": [
    {
     "name": "stderr",
     "output_type": "stream",
     "text": [
      "You're trying to map triples with 212 entities and 0 relations that are not in the training set. These triples will be excluded from the mapping.\n",
      "In total 210 from 3134 triples were filtered out\n",
      "Reconstructing all label-based triples. This is expensive and rarely needed.\n",
      "Reconstructing all label-based triples. This is expensive and rarely needed.\n",
      "You're trying to map triples with 211 entities and 0 relations that are not in the training set. These triples will be excluded from the mapping.\n",
      "In total 210 from 3034 triples were filtered out\n",
      "Reconstructing all label-based triples. This is expensive and rarely needed.\n"
     ]
    }
   ],
   "source": [
    "train_label, test_label, val_label =  triple_labels(dataset)\n",
    "train_ids, test_ids, val_ids =  triple_ids(dataset)"
   ]
  },
  {
   "cell_type": "code",
   "execution_count": 49,
   "id": "005fe737-e7a1-45ae-80d3-935da02af629",
   "metadata": {
    "tags": []
   },
   "outputs": [],
   "source": [
    "neg_train_triple_labels = neg_sampling(BasicNegativeSampler, train_ids, dataset.training)\n",
    "neg_test_triple_labels = neg_sampling(BasicNegativeSampler, test_ids, dataset.testing)\n",
    "neg_val_triple_labels = neg_sampling(BasicNegativeSampler, val_ids, dataset.validation)"
   ]
  },
  {
   "cell_type": "code",
   "execution_count": 50,
   "id": "a2b6eb82-6939-42cc-b6e7-50df4d202444",
   "metadata": {
    "tags": []
   },
   "outputs": [
    {
     "data": {
      "text/plain": [
       "2822"
      ]
     },
     "execution_count": 50,
     "metadata": {},
     "output_type": "execute_result"
    }
   ],
   "source": [
    "len(neg_val_triple_labels) "
   ]
  },
  {
   "cell_type": "code",
   "execution_count": 64,
   "id": "b13c4404-cab8-4fdc-8266-3cc737909db9",
   "metadata": {
    "tags": []
   },
   "outputs": [],
   "source": [
    "df_ent, df_rel = load_ent_rel_def(\"wn18rr\", path_ent, path_rel)"
   ]
  },
  {
   "cell_type": "code",
   "execution_count": 72,
   "id": "52a269e4-5054-46cb-a0e2-b50f8832763a",
   "metadata": {
    "tags": []
   },
   "outputs": [],
   "source": [
    "train_triple_def_pos = triple_def(df_ent, df_rel, train_label, \"pos\")\n",
    "train_triple_def_neg = triple_def(df_ent, df_rel, neg_train_triple_labels , \"neg\")"
   ]
  },
  {
   "cell_type": "code",
   "execution_count": 73,
   "id": "53e42c45-c277-452d-97c4-eaee3915fdf6",
   "metadata": {
    "tags": []
   },
   "outputs": [],
   "source": [
    "test_triple_def_pos = triple_def(df_ent, df_rel, test_label , \"pos\")\n",
    "test_triple_def_neg = triple_def(df_ent, df_rel, neg_test_triple_labels , \"neg\")"
   ]
  },
  {
   "cell_type": "code",
   "execution_count": 74,
   "id": "6a52eb13-de7a-406e-a595-81bf4906a693",
   "metadata": {
    "tags": []
   },
   "outputs": [],
   "source": [
    "val_triple_def_pos = triple_def(df_ent, df_rel, val_label , \"pos\")\n",
    "val_triple_def_neg = triple_def(df_ent, df_rel, neg_val_triple_labels , \"neg\")"
   ]
  },
  {
   "cell_type": "code",
   "execution_count": 75,
   "id": "e733a02d-0398-4264-96f0-4fc9fe486c66",
   "metadata": {
    "tags": []
   },
   "outputs": [
    {
     "data": {
      "text/plain": [
       "2822"
      ]
     },
     "execution_count": 75,
     "metadata": {},
     "output_type": "execute_result"
    }
   ],
   "source": [
    "len(val_triple_def_neg)"
   ]
  },
  {
   "cell_type": "code",
   "execution_count": 85,
   "id": "6d352dad-4172-4dd2-9db6-a6f43f709660",
   "metadata": {
    "tags": []
   },
   "outputs": [],
   "source": [
    "train_triples = merge_pos_neg_triples(train_triple_def_pos, train_triple_def_neg, \"one_sequence\")\n",
    "test_triples = merge_pos_neg_triples(test_triple_def_pos, test_triple_def_neg, \"one_sequence\")\n",
    "val_triples = merge_pos_neg_triples(val_triple_def_pos, val_triple_def_neg, \"one_sequence\")"
   ]
  },
  {
   "cell_type": "code",
   "execution_count": 89,
   "id": "d3fac935-9f13-4628-84ce-52afb1f45c6c",
   "metadata": {
    "tags": []
   },
   "outputs": [],
   "source": [
    "def save_dict_to_file(dic, name):\n",
    "    f = open(name,'w')\n",
    "    f.write(str(dic))\n",
    "    f.close()"
   ]
  },
  {
   "cell_type": "code",
   "execution_count": 92,
   "id": "e01ea168-ed82-43e7-9069-345d8e2a83be",
   "metadata": {
    "tags": []
   },
   "outputs": [],
   "source": [
    "#save_dict_to_file(test_triples,'test_one_sequence')"
   ]
  },
  {
   "cell_type": "code",
   "execution_count": 88,
   "id": "c2528775-6b74-4fa5-8bc4-5cd8a48248c9",
   "metadata": {
    "tags": []
   },
   "outputs": [
    {
     "data": {
      "text/plain": [
       "['silkwood hypernym tree',\n",
       " 'distend derivationally related form distention',\n",
       " 'caramelize hypernym strike',\n",
       " 'border hypernym edge',\n",
       " 'reciprocal hypernym help',\n",
       " 'unnaturalness derivationally related form wait',\n",
       " 'signal tower hypernym exist',\n",
       " 'vaticination derivationally related form vaticinate',\n",
       " 'ziziphus member meronym ziziphus jujuba',\n",
       " 'gymnosporangium juniperi-virginianae hypernym rust fungus']"
      ]
     },
     "execution_count": 88,
     "metadata": {},
     "output_type": "execute_result"
    }
   ],
   "source": [
    "train_triples[\"triples\"][:10]"
   ]
  },
  {
   "cell_type": "markdown",
   "id": "8dc0f1e7-ce62-47cf-a109-e89e3bb24037",
   "metadata": {},
   "source": [
    "#### Tokenize Input"
   ]
  },
  {
   "cell_type": "code",
   "execution_count": 2,
   "id": "7626136f-e9a9-4699-9aa4-9fab5be7d63b",
   "metadata": {
    "jupyter": {
     "source_hidden": true
    },
    "tags": []
   },
   "outputs": [],
   "source": [
    "def load_dict(path):\n",
    "    f = open(path,'r')\n",
    "    data=f.read()\n",
    "    f.close()\n",
    "    return eval(data)"
   ]
  },
  {
   "cell_type": "code",
   "execution_count": 2,
   "id": "022e73de-fddf-461f-82c7-5921d44f3f49",
   "metadata": {
    "tags": []
   },
   "outputs": [],
   "source": [
    "train_triples = load_dict('07_roberta/processed_input/fb15k237/train_one_sequence')\n",
    "test_triples = load_dict('07_roberta/processed_input/fb15k237/test_one_sequence')\n",
    "val_triples = load_dict('07_roberta/processed_input/fb15k237/val_one_sequence')"
   ]
  },
  {
   "cell_type": "code",
   "execution_count": 18,
   "id": "d5215a42-28cf-4e96-80a9-a1df404638ff",
   "metadata": {
    "tags": []
   },
   "outputs": [],
   "source": [
    "#tokenizer_input = [[train_triples['triples'][i]] for i in range(len(train_triples['triples']))]"
   ]
  },
  {
   "cell_type": "code",
   "execution_count": 23,
   "id": "cf2a7525-2629-484a-bac8-cabb75dad9b8",
   "metadata": {
    "tags": []
   },
   "outputs": [
    {
     "data": {
      "text/plain": [
       "['Juliette Binoche award award nominee award nominations. award award nomination award nominee Brian K. Vaughan']"
      ]
     },
     "execution_count": 23,
     "metadata": {},
     "output_type": "execute_result"
    }
   ],
   "source": [
    "tokenizer_input[0]"
   ]
  },
  {
   "cell_type": "code",
   "execution_count": 3,
   "id": "c1676ea0-6d08-472e-bf27-b8cd0fe3a20d",
   "metadata": {
    "tags": []
   },
   "outputs": [],
   "source": [
    "tokenizer = RobertaTokenizer.from_pretrained(\"roberta-base\")"
   ]
  },
  {
   "cell_type": "code",
   "execution_count": 7,
   "id": "61735bca-c855-4417-9985-e67831c9a631",
   "metadata": {
    "jupyter": {
     "source_hidden": true
    },
    "tags": []
   },
   "outputs": [],
   "source": [
    "test1 = tokenizer([\"Hello world.\"])\n",
    "test2 = tokenizer([\"Hello world <SEP> It is sunny today.\"])\n",
    "test3 = tokenizer([[\"Hello\", \"world\"],\n",
    "                  [\"It\", \"is\"]])"
   ]
  },
  {
   "cell_type": "code",
   "execution_count": 4,
   "id": "03f2fc1c-c769-48df-822b-622154e04c1f",
   "metadata": {
    "tags": []
   },
   "outputs": [],
   "source": [
    "train_tokenized = tokenizer(train_triples['triples'], padding=True, truncation=True)\n",
    "test_tokenized = tokenizer(test_triples[\"triples\"], padding=True, truncation=True)\n",
    "val_tokenized = tokenizer(val_triples[\"triples\"], padding=True, truncation=True)"
   ]
  },
  {
   "cell_type": "code",
   "execution_count": 7,
   "id": "0a14d8ca-f63a-4547-bb2f-ae8ec98b5b81",
   "metadata": {
    "collapsed": true,
    "jupyter": {
     "outputs_hidden": true
    },
    "tags": []
   },
   "outputs": [
    {
     "data": {
      "text/plain": [
       "[[0,\n",
       "  26239,\n",
       "  330,\n",
       "  1845,\n",
       "  8944,\n",
       "  2855,\n",
       "  119,\n",
       "  3907,\n",
       "  2,\n",
       "  1,\n",
       "  1,\n",
       "  1,\n",
       "  1,\n",
       "  1,\n",
       "  1,\n",
       "  1,\n",
       "  1,\n",
       "  1,\n",
       "  1,\n",
       "  1,\n",
       "  1,\n",
       "  1,\n",
       "  1,\n",
       "  1,\n",
       "  1,\n",
       "  1,\n",
       "  1],\n",
       " [0,\n",
       "  17165,\n",
       "  1397,\n",
       "  45087,\n",
       "  29688,\n",
       "  1330,\n",
       "  1026,\n",
       "  7018,\n",
       "  19774,\n",
       "  2,\n",
       "  1,\n",
       "  1,\n",
       "  1,\n",
       "  1,\n",
       "  1,\n",
       "  1,\n",
       "  1,\n",
       "  1,\n",
       "  1,\n",
       "  1,\n",
       "  1,\n",
       "  1,\n",
       "  1,\n",
       "  1,\n",
       "  1,\n",
       "  1,\n",
       "  1],\n",
       " [0,\n",
       "  5901,\n",
       "  22044,\n",
       "  2072,\n",
       "  8944,\n",
       "  2855,\n",
       "  119,\n",
       "  2506,\n",
       "  2,\n",
       "  1,\n",
       "  1,\n",
       "  1,\n",
       "  1,\n",
       "  1,\n",
       "  1,\n",
       "  1,\n",
       "  1,\n",
       "  1,\n",
       "  1,\n",
       "  1,\n",
       "  1,\n",
       "  1,\n",
       "  1,\n",
       "  1,\n",
       "  1,\n",
       "  1,\n",
       "  1]]"
      ]
     },
     "execution_count": 7,
     "metadata": {},
     "output_type": "execute_result"
    }
   ],
   "source": [
    "train_tokenized[\"input_ids\"][:3]"
   ]
  },
  {
   "cell_type": "code",
   "execution_count": 9,
   "id": "5123490d-d8a2-42e0-98cf-5213c20f5c5a",
   "metadata": {
    "tags": []
   },
   "outputs": [
    {
     "data": {
      "text/plain": [
       "173549"
      ]
     },
     "execution_count": 9,
     "metadata": {},
     "output_type": "execute_result"
    }
   ],
   "source": [
    "len(train_tokenized[\"input_ids\"])"
   ]
  },
  {
   "cell_type": "code",
   "execution_count": 96,
   "id": "fa625343-fbcf-4e76-808d-0eaaf1b45084",
   "metadata": {
    "tags": []
   },
   "outputs": [
    {
     "data": {
      "text/plain": [
       "173549"
      ]
     },
     "execution_count": 96,
     "metadata": {},
     "output_type": "execute_result"
    }
   ],
   "source": [
    "len(train_tokenized[\"input_ids\"])"
   ]
  },
  {
   "cell_type": "code",
   "execution_count": 5,
   "id": "d77582c6-a4d6-4810-ad00-ca6e4b449efd",
   "metadata": {
    "tags": []
   },
   "outputs": [],
   "source": [
    "train_data = RobertaInput(train_tokenized, train_triples[\"labels\"])"
   ]
  },
  {
   "cell_type": "code",
   "execution_count": 6,
   "id": "991ad588-3de3-47e1-ab73-90e92c94861b",
   "metadata": {
    "tags": []
   },
   "outputs": [],
   "source": [
    "test_data = RobertaInput(test_tokenized, test_triples[\"labels\"])"
   ]
  },
  {
   "cell_type": "code",
   "execution_count": 7,
   "id": "890a6c24-e260-40cb-bad2-26cc300f5f1c",
   "metadata": {
    "tags": []
   },
   "outputs": [],
   "source": [
    "val_data = RobertaInput(val_tokenized, val_triples[\"labels\"])"
   ]
  },
  {
   "cell_type": "code",
   "execution_count": 14,
   "id": "5fd35dbc-6f38-45ea-9e2f-f64520d24a7b",
   "metadata": {},
   "outputs": [],
   "source": [
    "del train_tokenized\n",
    "del test_tokenized\n",
    "del val_tokenized\n",
    "del tokenizer\n",
    "del train_triples\n",
    "del test_triples\n",
    "del val_triples"
   ]
  },
  {
   "cell_type": "markdown",
   "id": "2cba00c2-d6cd-469e-b42b-4e310bc6e957",
   "metadata": {
    "tags": []
   },
   "source": [
    "### 1 Load model"
   ]
  },
  {
   "cell_type": "code",
   "execution_count": 46,
   "id": "4830ea4b-63d0-4210-8b63-9fd8b115c849",
   "metadata": {
    "collapsed": true,
    "jupyter": {
     "outputs_hidden": true
    },
    "tags": []
   },
   "outputs": [
    {
     "data": {
      "text/plain": [
       "['<s>',\n",
       " 'sil',\n",
       " 'k',\n",
       " 'wood',\n",
       " 'Ġhyper',\n",
       " 'ny',\n",
       " 'm',\n",
       " 'Ġtree',\n",
       " '</s>',\n",
       " '<pad>',\n",
       " '<pad>',\n",
       " '<pad>',\n",
       " '<pad>',\n",
       " '<pad>',\n",
       " '<pad>',\n",
       " '<pad>',\n",
       " '<pad>',\n",
       " '<pad>',\n",
       " '<pad>',\n",
       " '<pad>',\n",
       " '<pad>',\n",
       " '<pad>',\n",
       " '<pad>',\n",
       " '<pad>',\n",
       " '<pad>',\n",
       " '<pad>',\n",
       " '<pad>']"
      ]
     },
     "execution_count": 46,
     "metadata": {},
     "output_type": "execute_result"
    }
   ],
   "source": [
    "#Double check if tokenizer worked out as it should \n",
    "tokenizer.convert_ids_to_tokens(train_tokenized[\"input_ids\"][0])\n",
    "#tokenizer.convert_tokens_to_ids(4)"
   ]
  },
  {
   "cell_type": "code",
   "execution_count": 24,
   "id": "65f53634-49cf-4bb7-b1b4-68f06b6e9f4a",
   "metadata": {
    "tags": []
   },
   "outputs": [
    {
     "data": {
      "text/plain": [
       "[3]"
      ]
     },
     "execution_count": 24,
     "metadata": {},
     "output_type": "execute_result"
    }
   ],
   "source": [
    "tokenizer.convert_tokens_to_ids([0])"
   ]
  },
  {
   "cell_type": "markdown",
   "id": "5b9dc249-a271-4d5d-a1e8-cf133b1cc89b",
   "metadata": {},
   "source": [
    "#### -------------------- ROBERTA for Text Classification -------------------"
   ]
  },
  {
   "cell_type": "code",
   "execution_count": 8,
   "id": "4c18cb54-00fb-4760-9e1e-87b5dc1b8657",
   "metadata": {
    "tags": []
   },
   "outputs": [
    {
     "name": "stderr",
     "output_type": "stream",
     "text": [
      "Some weights of the model checkpoint at roberta-base were not used when initializing RobertaForSequenceClassification: ['lm_head.layer_norm.bias', 'lm_head.dense.weight', 'roberta.pooler.dense.bias', 'lm_head.decoder.weight', 'lm_head.bias', 'lm_head.dense.bias', 'lm_head.layer_norm.weight', 'roberta.pooler.dense.weight']\n",
      "- This IS expected if you are initializing RobertaForSequenceClassification from the checkpoint of a model trained on another task or with another architecture (e.g. initializing a BertForSequenceClassification model from a BertForPreTraining model).\n",
      "- This IS NOT expected if you are initializing RobertaForSequenceClassification from the checkpoint of a model that you expect to be exactly identical (initializing a BertForSequenceClassification model from a BertForSequenceClassification model).\n",
      "Some weights of RobertaForSequenceClassification were not initialized from the model checkpoint at roberta-base and are newly initialized: ['classifier.dense.weight', 'classifier.dense.bias', 'classifier.out_proj.weight', 'classifier.out_proj.bias']\n",
      "You should probably TRAIN this model on a down-stream task to be able to use it for predictions and inference.\n"
     ]
    }
   ],
   "source": [
    "model = RobertaForSequenceClassification.from_pretrained('roberta-base')"
   ]
  },
  {
   "cell_type": "code",
   "execution_count": 12,
   "id": "5bd305f7-a5f3-49c2-b709-6ddd48fb8c6b",
   "metadata": {
    "collapsed": true,
    "jupyter": {
     "outputs_hidden": true
    },
    "tags": []
   },
   "outputs": [
    {
     "data": {
      "text/plain": [
       "<bound method Module.parameters of RobertaModel(\n",
       "  (embeddings): RobertaEmbeddings(\n",
       "    (word_embeddings): Embedding(50265, 768, padding_idx=1)\n",
       "    (position_embeddings): Embedding(514, 768, padding_idx=1)\n",
       "    (token_type_embeddings): Embedding(1, 768)\n",
       "    (LayerNorm): LayerNorm((768,), eps=1e-05, elementwise_affine=True)\n",
       "    (dropout): Dropout(p=0.1, inplace=False)\n",
       "  )\n",
       "  (encoder): RobertaEncoder(\n",
       "    (layer): ModuleList(\n",
       "      (0-11): 12 x RobertaLayer(\n",
       "        (attention): RobertaAttention(\n",
       "          (self): RobertaSelfAttention(\n",
       "            (query): Linear(in_features=768, out_features=768, bias=True)\n",
       "            (key): Linear(in_features=768, out_features=768, bias=True)\n",
       "            (value): Linear(in_features=768, out_features=768, bias=True)\n",
       "            (dropout): Dropout(p=0.1, inplace=False)\n",
       "          )\n",
       "          (output): RobertaSelfOutput(\n",
       "            (dense): Linear(in_features=768, out_features=768, bias=True)\n",
       "            (LayerNorm): LayerNorm((768,), eps=1e-05, elementwise_affine=True)\n",
       "            (dropout): Dropout(p=0.1, inplace=False)\n",
       "          )\n",
       "        )\n",
       "        (intermediate): RobertaIntermediate(\n",
       "          (dense): Linear(in_features=768, out_features=3072, bias=True)\n",
       "          (intermediate_act_fn): GELUActivation()\n",
       "        )\n",
       "        (output): RobertaOutput(\n",
       "          (dense): Linear(in_features=3072, out_features=768, bias=True)\n",
       "          (LayerNorm): LayerNorm((768,), eps=1e-05, elementwise_affine=True)\n",
       "          (dropout): Dropout(p=0.1, inplace=False)\n",
       "        )\n",
       "      )\n",
       "    )\n",
       "  )\n",
       ")>"
      ]
     },
     "execution_count": 12,
     "metadata": {},
     "output_type": "execute_result"
    }
   ],
   "source": [
    "model.base_model.parameters"
   ]
  },
  {
   "cell_type": "code",
   "execution_count": 9,
   "id": "1da5e13b-48b7-44eb-b780-c7fc09ec7887",
   "metadata": {
    "tags": []
   },
   "outputs": [],
   "source": [
    "for param in model.base_model.parameters():\n",
    "    #param.requires_grad = False\n",
    "    param.requires_grad = False\n",
    "    \n",
    "#for param in model.parameters():\n",
    "#    param.requires_grad = True\n",
    "    "
   ]
  },
  {
   "cell_type": "code",
   "execution_count": 10,
   "id": "cf9017f4-06dd-4e5f-9f7d-b639f7da5aac",
   "metadata": {
    "tags": []
   },
   "outputs": [],
   "source": [
    "# define accuracy metrics\n",
    "def compute_metrics(pred):\n",
    "    labels = pred.label_ids\n",
    "    preds = pred.predictions.argmax(-1)\n",
    "    precision, recall, f1, _ = precision_recall_fscore_support(labels, preds, average='binary')\n",
    "    acc = accuracy_score(labels, preds)\n",
    "    return {\n",
    "        'accuracy': acc,\n",
    "        'f1': f1,\n",
    "        'precision': precision,\n",
    "        'recall': recall\n",
    "    }"
   ]
  },
  {
   "cell_type": "code",
   "execution_count": 11,
   "id": "24114998-c9f0-4a28-b94d-a68acccde5c1",
   "metadata": {
    "tags": []
   },
   "outputs": [],
   "source": [
    "# define the training arguments\n",
    "training_args = TrainingArguments(\n",
    "    output_dir = 'test9',\n",
    "    num_train_epochs=3,\n",
    "    learning_rate=5e-5,\n",
    "    per_device_train_batch_size = 8,\n",
    "    gradient_accumulation_steps = 32,\n",
    "    eval_accumulation_steps = 8,\n",
    "    per_device_eval_batch_size= 8,\n",
    "    evaluation_strategy = \"steps\",\n",
    "    save_strategy = \"steps\",\n",
    "    disable_tqdm = False,\n",
    "    load_best_model_at_end=True,\n",
    "    eval_steps = 400,\n",
    "    save_steps = 400,\n",
    "    warmup_steps=500,\n",
    "    weight_decay=0.01,\n",
    "    logging_steps = 8,\n",
    "    fp16 = False,\n",
    "    logging_dir='test9',\n",
    "    #dataloader_num_workers = 8,\n",
    "    run_name = 'test9'\n",
    ")"
   ]
  },
  {
   "cell_type": "code",
   "execution_count": 12,
   "id": "b3e473e8-50fd-4c68-92f2-3cec807c3e14",
   "metadata": {},
   "outputs": [],
   "source": [
    "trainer = Trainer(\n",
    "    model=model,\n",
    "    args=training_args,\n",
    "    compute_metrics=compute_metrics,\n",
    "    train_dataset=train_data,\n",
    "    eval_dataset=val_data\n",
    ")"
   ]
  },
  {
   "cell_type": "code",
   "execution_count": 13,
   "id": "4eabae2e-b625-4a87-a597-f0d16e0d792b",
   "metadata": {
    "tags": []
   },
   "outputs": [
    {
     "name": "stderr",
     "output_type": "stream",
     "text": [
      "/home/kit/aifb/ho8030/.local/lib/python3.9/site-packages/transformers/optimization.py:391: FutureWarning: This implementation of AdamW is deprecated and will be removed in a future version. Use the PyTorch implementation torch.optim.AdamW instead, or set `no_deprecation_warning=True` to disable this warning\n",
      "  warnings.warn(\n",
      "Failed to detect the name of this notebook, you can set it manually with the WANDB_NOTEBOOK_NAME environment variable to enable code saving.\n",
      "\u001b[34m\u001b[1mwandb\u001b[0m: Currently logged in as: \u001b[33mvjolacl\u001b[0m (\u001b[33mnlm_kgc\u001b[0m). Use \u001b[1m`wandb login --relogin`\u001b[0m to force relogin\n"
     ]
    },
    {
     "data": {
      "text/html": [
       "wandb version 0.15.4 is available!  To upgrade, please run:\n",
       " $ pip install wandb --upgrade"
      ],
      "text/plain": [
       "<IPython.core.display.HTML object>"
      ]
     },
     "metadata": {},
     "output_type": "display_data"
    },
    {
     "data": {
      "text/html": [
       "Tracking run with wandb version 0.13.5"
      ],
      "text/plain": [
       "<IPython.core.display.HTML object>"
      ]
     },
     "metadata": {},
     "output_type": "display_data"
    },
    {
     "data": {
      "text/html": [
       "Run data is saved locally in <code>/pfs/data5/home/kit/aifb/ho8030/wandb/run-20230613_165854-37hws0n8</code>"
      ],
      "text/plain": [
       "<IPython.core.display.HTML object>"
      ]
     },
     "metadata": {},
     "output_type": "display_data"
    },
    {
     "data": {
      "text/html": [
       "Syncing run <strong><a href=\"https://wandb.ai/nlm_kgc/huggingface/runs/37hws0n8\" target=\"_blank\">stellar-wave-32</a></strong> to <a href=\"https://wandb.ai/nlm_kgc/huggingface\" target=\"_blank\">Weights & Biases</a> (<a href=\"https://wandb.me/run\" target=\"_blank\">docs</a>)<br/>"
      ],
      "text/plain": [
       "<IPython.core.display.HTML object>"
      ]
     },
     "metadata": {},
     "output_type": "display_data"
    },
    {
     "data": {
      "text/html": [
       "\n",
       "    <div>\n",
       "      \n",
       "      <progress value='1242' max='6339' style='width:300px; height:20px; vertical-align: middle;'></progress>\n",
       "      [1242/6339 10:00 < 41:06, 2.07 it/s, Epoch 0.59/3]\n",
       "    </div>\n",
       "    <table border=\"1\" class=\"dataframe\">\n",
       "  <thead>\n",
       " <tr style=\"text-align: left;\">\n",
       "      <th>Step</th>\n",
       "      <th>Training Loss</th>\n",
       "      <th>Validation Loss</th>\n",
       "      <th>Accuracy</th>\n",
       "      <th>F1</th>\n",
       "      <th>Precision</th>\n",
       "      <th>Recall</th>\n",
       "    </tr>\n",
       "  </thead>\n",
       "  <tbody>\n",
       "    <tr>\n",
       "      <td>400</td>\n",
       "      <td>0.687400</td>\n",
       "      <td>0.688347</td>\n",
       "      <td>0.530882</td>\n",
       "      <td>0.672464</td>\n",
       "      <td>0.516943</td>\n",
       "      <td>0.961828</td>\n",
       "    </tr>\n",
       "    <tr>\n",
       "      <td>800</td>\n",
       "      <td>0.681500</td>\n",
       "      <td>0.676731</td>\n",
       "      <td>0.614530</td>\n",
       "      <td>0.612348</td>\n",
       "      <td>0.616689</td>\n",
       "      <td>0.608068</td>\n",
       "    </tr>\n",
       "    <tr>\n",
       "      <td>1200</td>\n",
       "      <td>0.674300</td>\n",
       "      <td>0.668423</td>\n",
       "      <td>0.621043</td>\n",
       "      <td>0.681275</td>\n",
       "      <td>0.588428</td>\n",
       "      <td>0.808912</td>\n",
       "    </tr>\n",
       "  </tbody>\n",
       "</table><p>"
      ],
      "text/plain": [
       "<IPython.core.display.HTML object>"
      ]
     },
     "metadata": {},
     "output_type": "display_data"
    },
    {
     "ename": "KeyboardInterrupt",
     "evalue": "",
     "output_type": "error",
     "traceback": [
      "\u001b[0;31m---------------------------------------------------------------------------\u001b[0m",
      "\u001b[0;31mKeyboardInterrupt\u001b[0m                         Traceback (most recent call last)",
      "Cell \u001b[0;32mIn[13], line 1\u001b[0m\n\u001b[0;32m----> 1\u001b[0m \u001b[43mtrainer\u001b[49m\u001b[38;5;241;43m.\u001b[39;49m\u001b[43mtrain\u001b[49m\u001b[43m(\u001b[49m\u001b[43m)\u001b[49m\n",
      "File \u001b[0;32m~/.local/lib/python3.9/site-packages/transformers/trainer.py:1633\u001b[0m, in \u001b[0;36mTrainer.train\u001b[0;34m(self, resume_from_checkpoint, trial, ignore_keys_for_eval, **kwargs)\u001b[0m\n\u001b[1;32m   1628\u001b[0m     \u001b[38;5;28mself\u001b[39m\u001b[38;5;241m.\u001b[39mmodel_wrapped \u001b[38;5;241m=\u001b[39m \u001b[38;5;28mself\u001b[39m\u001b[38;5;241m.\u001b[39mmodel\n\u001b[1;32m   1630\u001b[0m inner_training_loop \u001b[38;5;241m=\u001b[39m find_executable_batch_size(\n\u001b[1;32m   1631\u001b[0m     \u001b[38;5;28mself\u001b[39m\u001b[38;5;241m.\u001b[39m_inner_training_loop, \u001b[38;5;28mself\u001b[39m\u001b[38;5;241m.\u001b[39m_train_batch_size, args\u001b[38;5;241m.\u001b[39mauto_find_batch_size\n\u001b[1;32m   1632\u001b[0m )\n\u001b[0;32m-> 1633\u001b[0m \u001b[38;5;28;01mreturn\u001b[39;00m \u001b[43minner_training_loop\u001b[49m\u001b[43m(\u001b[49m\n\u001b[1;32m   1634\u001b[0m \u001b[43m    \u001b[49m\u001b[43margs\u001b[49m\u001b[38;5;241;43m=\u001b[39;49m\u001b[43margs\u001b[49m\u001b[43m,\u001b[49m\n\u001b[1;32m   1635\u001b[0m \u001b[43m    \u001b[49m\u001b[43mresume_from_checkpoint\u001b[49m\u001b[38;5;241;43m=\u001b[39;49m\u001b[43mresume_from_checkpoint\u001b[49m\u001b[43m,\u001b[49m\n\u001b[1;32m   1636\u001b[0m \u001b[43m    \u001b[49m\u001b[43mtrial\u001b[49m\u001b[38;5;241;43m=\u001b[39;49m\u001b[43mtrial\u001b[49m\u001b[43m,\u001b[49m\n\u001b[1;32m   1637\u001b[0m \u001b[43m    \u001b[49m\u001b[43mignore_keys_for_eval\u001b[49m\u001b[38;5;241;43m=\u001b[39;49m\u001b[43mignore_keys_for_eval\u001b[49m\u001b[43m,\u001b[49m\n\u001b[1;32m   1638\u001b[0m \u001b[43m\u001b[49m\u001b[43m)\u001b[49m\n",
      "File \u001b[0;32m~/.local/lib/python3.9/site-packages/transformers/trainer.py:1914\u001b[0m, in \u001b[0;36mTrainer._inner_training_loop\u001b[0;34m(self, batch_size, args, resume_from_checkpoint, trial, ignore_keys_for_eval)\u001b[0m\n\u001b[1;32m   1911\u001b[0m \u001b[38;5;28;01melse\u001b[39;00m:\n\u001b[1;32m   1912\u001b[0m     tr_loss \u001b[38;5;241m+\u001b[39m\u001b[38;5;241m=\u001b[39m tr_loss_step\n\u001b[0;32m-> 1914\u001b[0m \u001b[38;5;28mself\u001b[39m\u001b[38;5;241m.\u001b[39mcurrent_flos \u001b[38;5;241m+\u001b[39m\u001b[38;5;241m=\u001b[39m \u001b[38;5;28mfloat\u001b[39m(\u001b[38;5;28;43mself\u001b[39;49m\u001b[38;5;241;43m.\u001b[39;49m\u001b[43mfloating_point_ops\u001b[49m\u001b[43m(\u001b[49m\u001b[43minputs\u001b[49m\u001b[43m)\u001b[49m)\n\u001b[1;32m   1916\u001b[0m \u001b[38;5;66;03m# Optimizer step for deepspeed must be called on every step regardless of the value of gradient_accumulation_steps\u001b[39;00m\n\u001b[1;32m   1917\u001b[0m \u001b[38;5;28;01mif\u001b[39;00m \u001b[38;5;28mself\u001b[39m\u001b[38;5;241m.\u001b[39mdeepspeed:\n",
      "File \u001b[0;32m~/.local/lib/python3.9/site-packages/transformers/trainer.py:3410\u001b[0m, in \u001b[0;36mTrainer.floating_point_ops\u001b[0;34m(self, inputs)\u001b[0m\n\u001b[1;32m   3397\u001b[0m \u001b[38;5;250m\u001b[39m\u001b[38;5;124;03m\"\"\"\u001b[39;00m\n\u001b[1;32m   3398\u001b[0m \u001b[38;5;124;03mFor models that inherit from [`PreTrainedModel`], uses that method to compute the number of floating point\u001b[39;00m\n\u001b[1;32m   3399\u001b[0m \u001b[38;5;124;03moperations for every backward + forward pass. If using another model, either implement such a method in the\u001b[39;00m\n\u001b[0;32m   (...)\u001b[0m\n\u001b[1;32m   3407\u001b[0m \u001b[38;5;124;03m    `int`: The number of floating-point operations.\u001b[39;00m\n\u001b[1;32m   3408\u001b[0m \u001b[38;5;124;03m\"\"\"\u001b[39;00m\n\u001b[1;32m   3409\u001b[0m \u001b[38;5;28;01mif\u001b[39;00m \u001b[38;5;28mhasattr\u001b[39m(\u001b[38;5;28mself\u001b[39m\u001b[38;5;241m.\u001b[39mmodel, \u001b[38;5;124m\"\u001b[39m\u001b[38;5;124mfloating_point_ops\u001b[39m\u001b[38;5;124m\"\u001b[39m):\n\u001b[0;32m-> 3410\u001b[0m     \u001b[38;5;28;01mreturn\u001b[39;00m \u001b[38;5;28;43mself\u001b[39;49m\u001b[38;5;241;43m.\u001b[39;49m\u001b[43mmodel\u001b[49m\u001b[38;5;241;43m.\u001b[39;49m\u001b[43mfloating_point_ops\u001b[49m\u001b[43m(\u001b[49m\u001b[43minputs\u001b[49m\u001b[43m)\u001b[49m\n\u001b[1;32m   3411\u001b[0m \u001b[38;5;28;01melse\u001b[39;00m:\n\u001b[1;32m   3412\u001b[0m     \u001b[38;5;28;01mreturn\u001b[39;00m \u001b[38;5;241m0\u001b[39m\n",
      "File \u001b[0;32m~/.local/lib/python3.9/site-packages/transformers/modeling_utils.py:970\u001b[0m, in \u001b[0;36mModuleUtilsMixin.floating_point_ops\u001b[0;34m(self, input_dict, exclude_embeddings)\u001b[0m\n\u001b[1;32m    946\u001b[0m \u001b[38;5;28;01mdef\u001b[39;00m \u001b[38;5;21mfloating_point_ops\u001b[39m(\n\u001b[1;32m    947\u001b[0m     \u001b[38;5;28mself\u001b[39m, input_dict: Dict[\u001b[38;5;28mstr\u001b[39m, Union[torch\u001b[38;5;241m.\u001b[39mTensor, Any]], exclude_embeddings: \u001b[38;5;28mbool\u001b[39m \u001b[38;5;241m=\u001b[39m \u001b[38;5;28;01mTrue\u001b[39;00m\n\u001b[1;32m    948\u001b[0m ) \u001b[38;5;241m-\u001b[39m\u001b[38;5;241m>\u001b[39m \u001b[38;5;28mint\u001b[39m:\n\u001b[1;32m    949\u001b[0m \u001b[38;5;250m    \u001b[39m\u001b[38;5;124;03m\"\"\"\u001b[39;00m\n\u001b[1;32m    950\u001b[0m \u001b[38;5;124;03m    Get number of (optionally, non-embeddings) floating-point operations for the forward and backward passes of a\u001b[39;00m\n\u001b[1;32m    951\u001b[0m \u001b[38;5;124;03m    batch with this transformer model. Default approximation neglects the quadratic dependency on the number of\u001b[39;00m\n\u001b[0;32m   (...)\u001b[0m\n\u001b[1;32m    967\u001b[0m \u001b[38;5;124;03m        `int`: The number of floating-point operations.\u001b[39;00m\n\u001b[1;32m    968\u001b[0m \u001b[38;5;124;03m    \"\"\"\u001b[39;00m\n\u001b[0;32m--> 970\u001b[0m     \u001b[38;5;28;01mreturn\u001b[39;00m \u001b[38;5;241m6\u001b[39m \u001b[38;5;241m*\u001b[39m \u001b[38;5;28mself\u001b[39m\u001b[38;5;241m.\u001b[39mestimate_tokens(input_dict) \u001b[38;5;241m*\u001b[39m \u001b[38;5;28;43mself\u001b[39;49m\u001b[38;5;241;43m.\u001b[39;49m\u001b[43mnum_parameters\u001b[49m\u001b[43m(\u001b[49m\u001b[43mexclude_embeddings\u001b[49m\u001b[38;5;241;43m=\u001b[39;49m\u001b[43mexclude_embeddings\u001b[49m\u001b[43m)\u001b[49m\n",
      "File \u001b[0;32m~/.local/lib/python3.9/site-packages/transformers/modeling_utils.py:915\u001b[0m, in \u001b[0;36mModuleUtilsMixin.num_parameters\u001b[0;34m(self, only_trainable, exclude_embeddings)\u001b[0m\n\u001b[1;32m    900\u001b[0m \u001b[38;5;250m\u001b[39m\u001b[38;5;124;03m\"\"\"\u001b[39;00m\n\u001b[1;32m    901\u001b[0m \u001b[38;5;124;03mGet number of (optionally, trainable or non-embeddings) parameters in the module.\u001b[39;00m\n\u001b[1;32m    902\u001b[0m \n\u001b[0;32m   (...)\u001b[0m\n\u001b[1;32m    911\u001b[0m \u001b[38;5;124;03m    `int`: The number of parameters.\u001b[39;00m\n\u001b[1;32m    912\u001b[0m \u001b[38;5;124;03m\"\"\"\u001b[39;00m\n\u001b[1;32m    914\u001b[0m \u001b[38;5;28;01mif\u001b[39;00m exclude_embeddings:\n\u001b[0;32m--> 915\u001b[0m     embedding_param_names \u001b[38;5;241m=\u001b[39m [\n\u001b[1;32m    916\u001b[0m         \u001b[38;5;124mf\u001b[39m\u001b[38;5;124m\"\u001b[39m\u001b[38;5;132;01m{\u001b[39;00mname\u001b[38;5;132;01m}\u001b[39;00m\u001b[38;5;124m.weight\u001b[39m\u001b[38;5;124m\"\u001b[39m \u001b[38;5;28;01mfor\u001b[39;00m name, module_type \u001b[38;5;129;01min\u001b[39;00m \u001b[38;5;28mself\u001b[39m\u001b[38;5;241m.\u001b[39mnamed_modules() \u001b[38;5;28;01mif\u001b[39;00m \u001b[38;5;28misinstance\u001b[39m(module_type, nn\u001b[38;5;241m.\u001b[39mEmbedding)\n\u001b[1;32m    917\u001b[0m     ]\n\u001b[1;32m    918\u001b[0m     non_embedding_parameters \u001b[38;5;241m=\u001b[39m [\n\u001b[1;32m    919\u001b[0m         parameter \u001b[38;5;28;01mfor\u001b[39;00m name, parameter \u001b[38;5;129;01min\u001b[39;00m \u001b[38;5;28mself\u001b[39m\u001b[38;5;241m.\u001b[39mnamed_parameters() \u001b[38;5;28;01mif\u001b[39;00m name \u001b[38;5;129;01mnot\u001b[39;00m \u001b[38;5;129;01min\u001b[39;00m embedding_param_names\n\u001b[1;32m    920\u001b[0m     ]\n\u001b[1;32m    921\u001b[0m     \u001b[38;5;28;01mreturn\u001b[39;00m \u001b[38;5;28msum\u001b[39m(p\u001b[38;5;241m.\u001b[39mnumel() \u001b[38;5;28;01mfor\u001b[39;00m p \u001b[38;5;129;01min\u001b[39;00m non_embedding_parameters \u001b[38;5;28;01mif\u001b[39;00m p\u001b[38;5;241m.\u001b[39mrequires_grad \u001b[38;5;129;01mor\u001b[39;00m \u001b[38;5;129;01mnot\u001b[39;00m only_trainable)\n",
      "File \u001b[0;32m~/.local/lib/python3.9/site-packages/transformers/modeling_utils.py:915\u001b[0m, in \u001b[0;36m<listcomp>\u001b[0;34m(.0)\u001b[0m\n\u001b[1;32m    900\u001b[0m \u001b[38;5;250m\u001b[39m\u001b[38;5;124;03m\"\"\"\u001b[39;00m\n\u001b[1;32m    901\u001b[0m \u001b[38;5;124;03mGet number of (optionally, trainable or non-embeddings) parameters in the module.\u001b[39;00m\n\u001b[1;32m    902\u001b[0m \n\u001b[0;32m   (...)\u001b[0m\n\u001b[1;32m    911\u001b[0m \u001b[38;5;124;03m    `int`: The number of parameters.\u001b[39;00m\n\u001b[1;32m    912\u001b[0m \u001b[38;5;124;03m\"\"\"\u001b[39;00m\n\u001b[1;32m    914\u001b[0m \u001b[38;5;28;01mif\u001b[39;00m exclude_embeddings:\n\u001b[0;32m--> 915\u001b[0m     embedding_param_names \u001b[38;5;241m=\u001b[39m [\n\u001b[1;32m    916\u001b[0m         \u001b[38;5;124mf\u001b[39m\u001b[38;5;124m\"\u001b[39m\u001b[38;5;132;01m{\u001b[39;00mname\u001b[38;5;132;01m}\u001b[39;00m\u001b[38;5;124m.weight\u001b[39m\u001b[38;5;124m\"\u001b[39m \u001b[38;5;28;01mfor\u001b[39;00m name, module_type \u001b[38;5;129;01min\u001b[39;00m \u001b[38;5;28mself\u001b[39m\u001b[38;5;241m.\u001b[39mnamed_modules() \u001b[38;5;28;01mif\u001b[39;00m \u001b[38;5;28misinstance\u001b[39m(module_type, nn\u001b[38;5;241m.\u001b[39mEmbedding)\n\u001b[1;32m    917\u001b[0m     ]\n\u001b[1;32m    918\u001b[0m     non_embedding_parameters \u001b[38;5;241m=\u001b[39m [\n\u001b[1;32m    919\u001b[0m         parameter \u001b[38;5;28;01mfor\u001b[39;00m name, parameter \u001b[38;5;129;01min\u001b[39;00m \u001b[38;5;28mself\u001b[39m\u001b[38;5;241m.\u001b[39mnamed_parameters() \u001b[38;5;28;01mif\u001b[39;00m name \u001b[38;5;129;01mnot\u001b[39;00m \u001b[38;5;129;01min\u001b[39;00m embedding_param_names\n\u001b[1;32m    920\u001b[0m     ]\n\u001b[1;32m    921\u001b[0m     \u001b[38;5;28;01mreturn\u001b[39;00m \u001b[38;5;28msum\u001b[39m(p\u001b[38;5;241m.\u001b[39mnumel() \u001b[38;5;28;01mfor\u001b[39;00m p \u001b[38;5;129;01min\u001b[39;00m non_embedding_parameters \u001b[38;5;28;01mif\u001b[39;00m p\u001b[38;5;241m.\u001b[39mrequires_grad \u001b[38;5;129;01mor\u001b[39;00m \u001b[38;5;129;01mnot\u001b[39;00m only_trainable)\n",
      "File \u001b[0;32m/opt/bwhpc/common/jupyter/tensorflow/2023-03-24/lib/python3.9/site-packages/torch/nn/modules/module.py:2266\u001b[0m, in \u001b[0;36mModule.named_modules\u001b[0;34m(self, memo, prefix, remove_duplicate)\u001b[0m\n\u001b[1;32m   2264\u001b[0m     \u001b[38;5;28;01mcontinue\u001b[39;00m\n\u001b[1;32m   2265\u001b[0m submodule_prefix \u001b[38;5;241m=\u001b[39m prefix \u001b[38;5;241m+\u001b[39m (\u001b[38;5;124m'\u001b[39m\u001b[38;5;124m.\u001b[39m\u001b[38;5;124m'\u001b[39m \u001b[38;5;28;01mif\u001b[39;00m prefix \u001b[38;5;28;01melse\u001b[39;00m \u001b[38;5;124m'\u001b[39m\u001b[38;5;124m'\u001b[39m) \u001b[38;5;241m+\u001b[39m name\n\u001b[0;32m-> 2266\u001b[0m \u001b[38;5;28;01mfor\u001b[39;00m m \u001b[38;5;129;01min\u001b[39;00m module\u001b[38;5;241m.\u001b[39mnamed_modules(memo, submodule_prefix, remove_duplicate):\n\u001b[1;32m   2267\u001b[0m     \u001b[38;5;28;01myield\u001b[39;00m m\n",
      "File \u001b[0;32m/opt/bwhpc/common/jupyter/tensorflow/2023-03-24/lib/python3.9/site-packages/torch/nn/modules/module.py:2266\u001b[0m, in \u001b[0;36mModule.named_modules\u001b[0;34m(self, memo, prefix, remove_duplicate)\u001b[0m\n\u001b[1;32m   2264\u001b[0m     \u001b[38;5;28;01mcontinue\u001b[39;00m\n\u001b[1;32m   2265\u001b[0m submodule_prefix \u001b[38;5;241m=\u001b[39m prefix \u001b[38;5;241m+\u001b[39m (\u001b[38;5;124m'\u001b[39m\u001b[38;5;124m.\u001b[39m\u001b[38;5;124m'\u001b[39m \u001b[38;5;28;01mif\u001b[39;00m prefix \u001b[38;5;28;01melse\u001b[39;00m \u001b[38;5;124m'\u001b[39m\u001b[38;5;124m'\u001b[39m) \u001b[38;5;241m+\u001b[39m name\n\u001b[0;32m-> 2266\u001b[0m \u001b[38;5;28;01mfor\u001b[39;00m m \u001b[38;5;129;01min\u001b[39;00m module\u001b[38;5;241m.\u001b[39mnamed_modules(memo, submodule_prefix, remove_duplicate):\n\u001b[1;32m   2267\u001b[0m     \u001b[38;5;28;01myield\u001b[39;00m m\n",
      "    \u001b[0;31m[... skipping similar frames: Module.named_modules at line 2266 (3 times)]\u001b[0m\n",
      "File \u001b[0;32m/opt/bwhpc/common/jupyter/tensorflow/2023-03-24/lib/python3.9/site-packages/torch/nn/modules/module.py:2266\u001b[0m, in \u001b[0;36mModule.named_modules\u001b[0;34m(self, memo, prefix, remove_duplicate)\u001b[0m\n\u001b[1;32m   2264\u001b[0m     \u001b[38;5;28;01mcontinue\u001b[39;00m\n\u001b[1;32m   2265\u001b[0m submodule_prefix \u001b[38;5;241m=\u001b[39m prefix \u001b[38;5;241m+\u001b[39m (\u001b[38;5;124m'\u001b[39m\u001b[38;5;124m.\u001b[39m\u001b[38;5;124m'\u001b[39m \u001b[38;5;28;01mif\u001b[39;00m prefix \u001b[38;5;28;01melse\u001b[39;00m \u001b[38;5;124m'\u001b[39m\u001b[38;5;124m'\u001b[39m) \u001b[38;5;241m+\u001b[39m name\n\u001b[0;32m-> 2266\u001b[0m \u001b[38;5;28;01mfor\u001b[39;00m m \u001b[38;5;129;01min\u001b[39;00m module\u001b[38;5;241m.\u001b[39mnamed_modules(memo, submodule_prefix, remove_duplicate):\n\u001b[1;32m   2267\u001b[0m     \u001b[38;5;28;01myield\u001b[39;00m m\n",
      "File \u001b[0;32m/opt/bwhpc/common/jupyter/tensorflow/2023-03-24/lib/python3.9/site-packages/torch/nn/modules/module.py:2260\u001b[0m, in \u001b[0;36mModule.named_modules\u001b[0;34m(self, memo, prefix, remove_duplicate)\u001b[0m\n\u001b[1;32m   2258\u001b[0m \u001b[38;5;28;01mif\u001b[39;00m \u001b[38;5;28mself\u001b[39m \u001b[38;5;129;01mnot\u001b[39;00m \u001b[38;5;129;01min\u001b[39;00m memo:\n\u001b[1;32m   2259\u001b[0m     \u001b[38;5;28;01mif\u001b[39;00m remove_duplicate:\n\u001b[0;32m-> 2260\u001b[0m         \u001b[43mmemo\u001b[49m\u001b[38;5;241;43m.\u001b[39;49m\u001b[43madd\u001b[49m(\u001b[38;5;28mself\u001b[39m)\n\u001b[1;32m   2261\u001b[0m     \u001b[38;5;28;01myield\u001b[39;00m prefix, \u001b[38;5;28mself\u001b[39m\n\u001b[1;32m   2262\u001b[0m     \u001b[38;5;28;01mfor\u001b[39;00m name, module \u001b[38;5;129;01min\u001b[39;00m \u001b[38;5;28mself\u001b[39m\u001b[38;5;241m.\u001b[39m_modules\u001b[38;5;241m.\u001b[39mitems():\n",
      "\u001b[0;31mKeyboardInterrupt\u001b[0m: "
     ]
    }
   ],
   "source": [
    "trainer.train()"
   ]
  },
  {
   "cell_type": "code",
   "execution_count": 18,
   "id": "2dd26795-af2b-4b33-9314-09f71d6821e2",
   "metadata": {
    "tags": []
   },
   "outputs": [],
   "source": [
    "trainer.save_model('07_roberta/fb15k237_frozenL_oneseq_P1/1epoch_P1')"
   ]
  },
  {
   "cell_type": "code",
   "execution_count": 19,
   "id": "62282e5b-02f1-4dba-a94b-ced71410f920",
   "metadata": {
    "tags": []
   },
   "outputs": [
    {
     "data": {
      "text/html": [],
      "text/plain": [
       "<IPython.core.display.HTML object>"
      ]
     },
     "metadata": {},
     "output_type": "display_data"
    }
   ],
   "source": [
    "output = trainer.predict(test_dataset=test_data)"
   ]
  },
  {
   "cell_type": "code",
   "execution_count": 109,
   "id": "6e79e2ac-bd46-4063-82b3-d619033f88dd",
   "metadata": {
    "tags": []
   },
   "outputs": [
    {
     "data": {
      "text/plain": [
       "5845"
      ]
     },
     "execution_count": 109,
     "metadata": {},
     "output_type": "execute_result"
    }
   ],
   "source": [
    "len(test_data)"
   ]
  },
  {
   "cell_type": "code",
   "execution_count": 20,
   "id": "e55938de-7e4c-44ac-92cf-ea7b82ce3573",
   "metadata": {
    "tags": []
   },
   "outputs": [
    {
     "data": {
      "text/plain": [
       "PredictionOutput(predictions=array([[ 0.11438958,  0.03335938],\n",
       "       [-0.09979224,  0.23526353],\n",
       "       [-0.0358229 ,  0.19228782],\n",
       "       ...,\n",
       "       [ 0.10056299,  0.03405912],\n",
       "       [-0.16386166,  0.3011089 ],\n",
       "       [ 0.17861867, -0.03435762]], dtype=float32), label_ids=array([1, 1, 0, ..., 0, 1, 0]), metrics={'test_loss': 0.666879415512085, 'test_accuracy': 0.6142237683431735, 'test_f1': 0.6924594262054957, 'test_precision': 0.576239232894523, 'test_recall': 0.8674038555631667, 'test_runtime': 50.0683, 'test_samples_per_second': 815.266, 'test_steps_per_second': 101.921})"
      ]
     },
     "execution_count": 20,
     "metadata": {},
     "output_type": "execute_result"
    }
   ],
   "source": [
    "output"
   ]
  },
  {
   "cell_type": "markdown",
   "id": "d5157f83-3315-4e8e-bc8a-6176dca52f44",
   "metadata": {
    "jp-MarkdownHeadingCollapsed": true,
    "tags": []
   },
   "source": [
    "### -----------------------"
   ]
  },
  {
   "cell_type": "code",
   "execution_count": 31,
   "id": "1b38cc52-cd0a-4b7b-acbc-c259196ee546",
   "metadata": {
    "tags": []
   },
   "outputs": [],
   "source": [
    "# Model with classifier layers on top of RoBERTa\n",
    "class ROBERTAClassifier(torch.nn.Module):\n",
    "    def __init__(self, dropout_rate=0.3):\n",
    "        super(ROBERTAClassifier, self).__init__()\n",
    "        \n",
    "        self.roberta = RobertaModel.from_pretrained('roberta-base')\n",
    "        self.d1 = torch.nn.Dropout(dropout_rate)\n",
    "        self.l1 = torch.nn.Linear(768, 64)\n",
    "        self.bn1 = torch.nn.LayerNorm(64)\n",
    "        self.d2 = torch.nn.Dropout(dropout_rate)\n",
    "        self.l2 = torch.nn.Linear(64, 2)\n",
    "        \n",
    "    def forward(self, input_ids, attention_mask):\n",
    "        _, x = self.roberta(input_ids=input_ids, attention_mask=attention_mask)\n",
    "        x = self.d1(x)\n",
    "        x = self.l1(x)\n",
    "        x = self.bn1(x)\n",
    "        x = torch.nn.Tanh()(x)\n",
    "        x = self.d2(x)\n",
    "        x = self.l2(x)\n",
    "        \n",
    "        return x "
   ]
  },
  {
   "cell_type": "code",
   "execution_count": null,
   "id": "a83f770a-e154-454d-bee0-882ed693cf6e",
   "metadata": {},
   "outputs": [],
   "source": []
  }
 ],
 "metadata": {
  "kernelspec": {
   "display_name": "nlm_kge2",
   "language": "python",
   "name": "nlm_kge2"
  },
  "language_info": {
   "codemirror_mode": {
    "name": "ipython",
    "version": 3
   },
   "file_extension": ".py",
   "mimetype": "text/x-python",
   "name": "python",
   "nbconvert_exporter": "python",
   "pygments_lexer": "ipython3",
   "version": "3.9.7"
  }
 },
 "nbformat": 4,
 "nbformat_minor": 5
}
