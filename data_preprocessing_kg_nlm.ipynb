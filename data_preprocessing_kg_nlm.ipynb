{
 "cells": [
  {
   "cell_type": "code",
   "execution_count": 1,
   "id": "1c748ba2-8ab2-4f96-8295-07efa5ebf675",
   "metadata": {
    "tags": []
   },
   "outputs": [
    {
     "name": "stderr",
     "output_type": "stream",
     "text": [
      "2023-07-31 18:59:01.500244: I tensorflow/core/util/port.cc:110] oneDNN custom operations are on. You may see slightly different numerical results due to floating-point round-off errors from different computation orders. To turn them off, set the environment variable `TF_ENABLE_ONEDNN_OPTS=0`.\n",
      "2023-07-31 18:59:01.973414: I tensorflow/core/platform/cpu_feature_guard.cc:182] This TensorFlow binary is optimized to use available CPU instructions in performance-critical operations.\n",
      "To enable the following instructions: AVX2 AVX512F AVX512_VNNI FMA, in other operations, rebuild TensorFlow with the appropriate compiler flags.\n",
      "2023-07-31 18:59:04.010827: W tensorflow/compiler/tf2tensorrt/utils/py_utils.cc:38] TF-TRT Warning: Could not find TensorRT\n"
     ]
    }
   ],
   "source": [
    "from pykeen.datasets import WN18RR, FB15k237\n",
    "import pandas as pd\n",
    "import numpy as np\n",
    "import torch\n",
    "from pykeen.sampling.basic_negative_sampler import BasicNegativeSampler\n",
    "from transformers import RobertaTokenizer, RobertaForSequenceClassification,Trainer, TrainingArguments\n",
    "import torch.nn as nn\n",
    "from torch.utils.data import Dataset, DataLoader\n",
    "from tqdm import tqdm\n",
    "from functions import *\n",
    "import os"
   ]
  },
  {
   "cell_type": "markdown",
   "id": "2044c6fd-a2f1-49d8-94c1-7331fb033392",
   "metadata": {
    "tags": []
   },
   "source": [
    "### 0 Load dataset"
   ]
  },
  {
   "cell_type": "code",
   "execution_count": 2,
   "id": "87fbe15e-bc04-454f-99b3-c74fdf494cb8",
   "metadata": {
    "tags": []
   },
   "outputs": [],
   "source": [
    "dataset = WN18RR()\n",
    "path_ent = \"data/wn18rr/wn18rr_entity2text.txt\"\n",
    "path_rel = \"data/wn18rr/wn18rr_relation2text.txt\"\n",
    "device = \"cuda\""
   ]
  },
  {
   "cell_type": "markdown",
   "id": "d56b8448-8e38-4318-8252-f29d1e41b40a",
   "metadata": {
    "tags": []
   },
   "source": [
    "### 1 Process dataset"
   ]
  },
  {
   "cell_type": "markdown",
   "id": "7514024b-1aa7-4945-9c40-da755fea08b8",
   "metadata": {},
   "source": [
    "#### 1.1 Load triple labels and ids "
   ]
  },
  {
   "cell_type": "code",
   "execution_count": 6,
   "id": "89251a1a-0b70-4fa3-be40-d4fe432824fa",
   "metadata": {
    "collapsed": true,
    "jupyter": {
     "outputs_hidden": true
    },
    "tags": []
   },
   "outputs": [
    {
     "name": "stderr",
     "output_type": "stream",
     "text": [
      "You're trying to map triples with 212 entities and 0 relations that are not in the training set. These triples will be excluded from the mapping.\n",
      "In total 210 from 3134 triples were filtered out\n",
      "Reconstructing all label-based triples. This is expensive and rarely needed.\n",
      "Reconstructing all label-based triples. This is expensive and rarely needed.\n",
      "You're trying to map triples with 211 entities and 0 relations that are not in the training set. These triples will be excluded from the mapping.\n",
      "In total 210 from 3034 triples were filtered out\n",
      "Reconstructing all label-based triples. This is expensive and rarely needed.\n",
      "You're trying to map triples with 212 entities and 0 relations that are not in the training set. These triples will be excluded from the mapping.\n",
      "In total 210 from 3134 triples were filtered out\n",
      "You're trying to map triples with 211 entities and 0 relations that are not in the training set. These triples will be excluded from the mapping.\n",
      "In total 210 from 3034 triples were filtered out\n"
     ]
    }
   ],
   "source": [
    "train_label, test_label, val_label =  triple_labels(WN18RR())\n",
    "train_ids, test_ids, val_ids =  triple_ids(WN18RR())"
   ]
  },
  {
   "cell_type": "markdown",
   "id": "11087847-10c4-446d-9e90-8efd70e0b9e1",
   "metadata": {},
   "source": [
    "#### 1.2 Generate negative samples for each set  "
   ]
  },
  {
   "cell_type": "code",
   "execution_count": 7,
   "id": "005fe737-e7a1-45ae-80d3-935da02af629",
   "metadata": {
    "collapsed": true,
    "jupyter": {
     "outputs_hidden": true
    },
    "tags": []
   },
   "outputs": [
    {
     "name": "stderr",
     "output_type": "stream",
     "text": [
      "You're trying to map triples with 212 entities and 0 relations that are not in the training set. These triples will be excluded from the mapping.\n",
      "In total 210 from 3134 triples were filtered out\n",
      "You're trying to map triples with 211 entities and 0 relations that are not in the training set. These triples will be excluded from the mapping.\n",
      "In total 210 from 3034 triples were filtered out\n"
     ]
    }
   ],
   "source": [
    "neg_train_triple_labels = neg_sampling(BasicNegativeSampler, train_ids, dataset.training)\n",
    "neg_test_triple_labels = neg_sampling(BasicNegativeSampler, test_ids, dataset.testing)\n",
    "neg_val_triple_labels = neg_sampling(BasicNegativeSampler, val_ids, dataset.validation)"
   ]
  },
  {
   "cell_type": "markdown",
   "id": "ad2d9239-36cf-41b2-a6ea-11b8ca9a7aba",
   "metadata": {},
   "source": [
    "#### 1.3 Load entites and relations of the dataset from exernal file"
   ]
  },
  {
   "cell_type": "code",
   "execution_count": 9,
   "id": "b13c4404-cab8-4fdc-8266-3cc737909db9",
   "metadata": {
    "tags": []
   },
   "outputs": [],
   "source": [
    "df_ent, df_rel = load_ent_rel_def(\"wn18rr\", path_ent, path_rel)"
   ]
  },
  {
   "cell_type": "markdown",
   "id": "d1bbff31-87ba-4578-b9c2-3c4a1f520f1a",
   "metadata": {},
   "source": [
    "#### 1.4 Turn triple labels into KG-NLM suitable input sequence\n",
    "- For each triple (head, relation, tail) the input sequence should be a string: \"head relation tai\" "
   ]
  },
  {
   "cell_type": "code",
   "execution_count": 10,
   "id": "52a269e4-5054-46cb-a0e2-b50f8832763a",
   "metadata": {
    "tags": []
   },
   "outputs": [],
   "source": [
    "train_triple_def_pos = triple_def(df_ent, df_rel, train_label, \"pos\")\n",
    "train_triple_def_neg = triple_def(df_ent, df_rel, neg_train_triple_labels , \"neg\")"
   ]
  },
  {
   "cell_type": "code",
   "execution_count": 11,
   "id": "53e42c45-c277-452d-97c4-eaee3915fdf6",
   "metadata": {
    "tags": []
   },
   "outputs": [],
   "source": [
    "test_triple_def_pos = triple_def(df_ent, df_rel, test_label , \"pos\")\n",
    "test_triple_def_neg = triple_def(df_ent, df_rel, neg_test_triple_labels , \"neg\")"
   ]
  },
  {
   "cell_type": "code",
   "execution_count": 12,
   "id": "6a52eb13-de7a-406e-a595-81bf4906a693",
   "metadata": {
    "tags": []
   },
   "outputs": [],
   "source": [
    "val_triple_def_pos = triple_def(df_ent, df_rel, val_label , \"pos\")\n",
    "val_triple_def_neg = triple_def(df_ent, df_rel, neg_val_triple_labels , \"neg\")"
   ]
  },
  {
   "cell_type": "markdown",
   "id": "3caad775-25ca-43bc-8c5d-dafd9e422563",
   "metadata": {},
   "source": [
    "#### 1.5 Combine positive and negative input sequences for each train/test/val set"
   ]
  },
  {
   "cell_type": "code",
   "execution_count": 13,
   "id": "6d352dad-4172-4dd2-9db6-a6f43f709660",
   "metadata": {
    "tags": []
   },
   "outputs": [],
   "source": [
    "train_triples = merge_pos_neg_triples(train_triple_def_pos, train_triple_def_neg)\n",
    "test_triples = merge_pos_neg_triples(test_triple_def_pos, test_triple_def_neg)\n",
    "val_triples = merge_pos_neg_triples(val_triple_def_pos, val_triple_def_neg)"
   ]
  },
  {
   "cell_type": "markdown",
   "id": "0a4cea37-db85-4a4c-85c2-03fa4d78dac5",
   "metadata": {},
   "source": [
    "#### 1.6 Save triples into separate train/test/val files "
   ]
  },
  {
   "cell_type": "code",
   "execution_count": null,
   "id": "6bde4871-a9cf-4f21-92e3-c42857d95b11",
   "metadata": {},
   "outputs": [],
   "source": [
    "save_dict(test_triples,'enter_file_name')"
   ]
  }
 ],
 "metadata": {
  "kernelspec": {
   "display_name": "nlm_kge2",
   "language": "python",
   "name": "nlm_kge2"
  },
  "language_info": {
   "codemirror_mode": {
    "name": "ipython",
    "version": 3
   },
   "file_extension": ".py",
   "mimetype": "text/x-python",
   "name": "python",
   "nbconvert_exporter": "python",
   "pygments_lexer": "ipython3",
   "version": "3.9.7"
  }
 },
 "nbformat": 4,
 "nbformat_minor": 5
}
