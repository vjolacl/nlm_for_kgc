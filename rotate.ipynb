{
 "cells": [
  {
   "cell_type": "code",
   "execution_count": null,
   "id": "c16fec33-819a-40ba-ad4c-a308f1555cde",
   "metadata": {
    "tags": []
   },
   "outputs": [],
   "source": [
    "import pandas as pd\n",
    "import torch\n",
    "from pykeen.pipeline import pipeline\n",
    "import numpy as np\n",
    "from pykeen.datasets import WN18RR, FB15k237\n",
    "from pykeen.nn.init import PretrainedInitializer\n",
    "from functions import *\n",
    "\n",
    "device=\"cpu\""
   ]
  },
  {
   "cell_type": "code",
   "execution_count": null,
   "id": "4c949c38-6f06-4092-933f-17459fd4e17a",
   "metadata": {
    "tags": []
   },
   "outputs": [],
   "source": [
    "dataset = FB15k237()"
   ]
  },
  {
   "cell_type": "markdown",
   "id": "78398da3-59bf-43fa-8e51-b3f307dfb5bc",
   "metadata": {
    "jp-MarkdownHeadingCollapsed": true,
    "tags": []
   },
   "source": [
    "#### Prepare embeddings to fit RotatE input format \n",
    "- For each datapoint take half of the embedding dimension as the real part and the other half as the imaginary part of the complex tensor\n",
    "- For the relations apply the init_phases functions that rotates the embeddings"
   ]
  },
  {
   "cell_type": "markdown",
   "id": "4f0cc02f-9c83-470c-a3e7-e52c1eff0d07",
   "metadata": {
    "jp-MarkdownHeadingCollapsed": true,
    "tags": []
   },
   "source": [
    "#### Initialization with Word2vec Embeddings"
   ]
  },
  {
   "cell_type": "code",
   "execution_count": null,
   "id": "6e467fae-ed92-4e35-944f-edbb4684a5ca",
   "metadata": {},
   "outputs": [],
   "source": [
    "#Load pre-generated word embeddings\n",
    "\n",
    "entity_embedd = torch.load('03_nlm_embeddings/word2vec_wn18rr/05_word2vec_wn18rr_300dim_ent_sorted.pt', map_location = torch.device(device))\n",
    "relation_embedd = torch.load('03_nlm_embeddings/word2vec_wn18rr/06_word2vec_wn18rr_pcadim150_rel_sorted.pt', map_location = torch.device(device))\n",
    "\n",
    "entity_embedd = entity_embedd.contiguous()\n",
    "relation_embedd = relation_embedd.contiguous()"
   ]
  },
  {
   "cell_type": "code",
   "execution_count": null,
   "id": "13b7e5fa-c576-46ff-a009-d17b8df4ace8",
   "metadata": {
    "tags": []
   },
   "outputs": [],
   "source": [
    "rotate_rel = torch.unsqueeze(relation_embedd, dim=2)\n",
    "rotate_rel = torch.cat([rotate_rel, torch.full_like(rotate_rel, np.nan)], dim=2)"
   ]
  },
  {
   "cell_type": "code",
   "execution_count": null,
   "id": "246bc2e6-7de5-412d-9172-93782af257fd",
   "metadata": {
    "tags": []
   },
   "outputs": [],
   "source": [
    "rotate_rel.shape"
   ]
  },
  {
   "cell_type": "code",
   "execution_count": null,
   "id": "0d27ac55-bbf4-4b19-9281-6fa7c02ef502",
   "metadata": {
    "tags": []
   },
   "outputs": [],
   "source": [
    "rotate_ent = torch.chunk(entity_embedd, 2, dim=1)\n",
    "rotate_ent = torch.stack(rotate_ent, 1)\n",
    "rotate_ent = torch.reshape(rotate_ent, (entity_embedd.shape[0],150,2))"
   ]
  },
  {
   "cell_type": "markdown",
   "id": "71e8e760-abd7-4b87-982b-db6de1cce6bc",
   "metadata": {
    "tags": []
   },
   "source": [
    "#### Initialization with BERT Embeddings"
   ]
  },
  {
   "cell_type": "markdown",
   "id": "f5260be5-0d2e-42c1-9fc2-ae2266d993da",
   "metadata": {},
   "source": [
    "###### Load raw embeddings"
   ]
  },
  {
   "cell_type": "code",
   "execution_count": null,
   "id": "878fa162-4814-4e45-9b6a-064df0eb97ae",
   "metadata": {},
   "outputs": [],
   "source": [
    "bert_rel = torch.load('enter_path_to_file', map_location = torch.device(device))\n",
    "bert_ent = torch.load('enter_path_to_file', map_location = torch.device(device))"
   ]
  },
  {
   "cell_type": "code",
   "execution_count": null,
   "id": "3c5e00ec-915b-4686-b023-f662b366db42",
   "metadata": {
    "tags": []
   },
   "outputs": [],
   "source": [
    "len(bert_rel[0])"
   ]
  },
  {
   "cell_type": "markdown",
   "id": "3699b61a-8d05-405c-95db-210026e0910b",
   "metadata": {},
   "source": [
    "#### RotatE Model"
   ]
  },
  {
   "cell_type": "markdown",
   "id": "5caf372a-ebe1-402b-94d0-7695933122eb",
   "metadata": {},
   "source": [
    "###### Compute complex relation embeddings"
   ]
  },
  {
   "cell_type": "code",
   "execution_count": null,
   "id": "5c031a80-ff00-45fd-9c7a-f4cd455b5ac1",
   "metadata": {
    "tags": []
   },
   "outputs": [],
   "source": [
    "rotate_rel = init_phases(rotate_rel)\n",
    "rotate_rel.shape"
   ]
  },
  {
   "cell_type": "code",
   "execution_count": null,
   "id": "5b1c51be-ef8f-4222-93a3-53781a4e12ca",
   "metadata": {
    "tags": []
   },
   "outputs": [],
   "source": [
    "result = pipeline(\n",
    "    dataset=\"wn18rr\",\n",
    "    dataset_kwargs=dict(create_inverse_triples=False),\n",
    "    model=\"rotate\",\n",
    "    model_kwargs=dict(\n",
    "        embedding_dim=768,\n",
    "        entity_initializer=PretrainedInitializer(tensor=rotate_ent),\n",
    "        relation_initializer=PretrainedInitializer(tensor=rotate_rel),\n",
    "    ),\n",
    "    stopper=\"early\",\n",
    "    stopper_kwargs=dict(frequency=50, patience=3, relative_delta=0.002),\n",
    "    result_tracker='wandb',\n",
    "    result_tracker_kwargs=dict(\n",
    "        project='rotatE',\n",
    "    ),\n",
    "    optimizer='adam',\n",
    "    optimizer_kwargs=dict(lr=0.00005, weight_decay=0.0),\n",
    "    loss='NSSALoss',\n",
    "    loss_kwargs=dict(margin=9, adversarial_temperature=1.0),\n",
    "    training_loop='lcwa',\n",
    "    training_kwargs=dict(num_epochs=500, \n",
    "                         checkpoint_name='enter_checkpoint_name',\n",
    "                         checkpoint_directory='enter_checkpoint_directory',\n",
    "                         checkpoint_frequency=30,\n",
    "                         batch_size=8),\n",
    "    evaluator=\"rankbased\",\n",
    "    evaluator_kwargs=dict(filtered=True),\n",
    "    negative_sampler_kwargs=dict(num_negs_per_pos=256)\n",
    ")\n",
    "\n",
    "result.save_to_directory(\"enter_save_model_path\")"
   ]
  }
 ],
 "metadata": {
  "kernelspec": {
   "display_name": "nlm_kge2",
   "language": "python",
   "name": "nlm_kge2"
  },
  "language_info": {
   "codemirror_mode": {
    "name": "ipython",
    "version": 3
   },
   "file_extension": ".py",
   "mimetype": "text/x-python",
   "name": "python",
   "nbconvert_exporter": "python",
   "pygments_lexer": "ipython3",
   "version": "3.9.7"
  }
 },
 "nbformat": 4,
 "nbformat_minor": 5
}
