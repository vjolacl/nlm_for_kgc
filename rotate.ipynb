{
 "cells": [
  {
   "cell_type": "code",
   "execution_count": 1,
   "id": "c16fec33-819a-40ba-ad4c-a308f1555cde",
   "metadata": {
    "tags": []
   },
   "outputs": [],
   "source": [
    "#import pandas as pd\n",
    "import torch\n",
    "from pykeen.pipeline import pipeline\n",
    "import numpy as np\n",
    "from pykeen.datasets import WN18RR, FB15k237\n",
    "from pykeen.nn.init import PretrainedInitializer\n",
    "from functions import *\n",
    "\n",
    "device=\"cuda\"\n",
    "\n",
    "#Load pre-generated word embeddings\n",
    "\n",
    "entity_embedd = torch.load('03_nlm_embeddings/word2vec_wn18rr/05_word2vec_wn18rr_300dim_ent_sorted.pt', map_location = torch.device(device))\n",
    "relation_embedd = torch.load('03_nlm_embeddings/word2vec_wn18rr/06_word2vec_wn18rr_pcadim150_rel_sorted.pt', map_location = torch.device(device))\n",
    "\n",
    "entity_embedd = entity_embedd.contiguous()\n",
    "relation_embedd = relation_embedd.contiguous()"
   ]
  },
  {
   "cell_type": "markdown",
   "id": "78398da3-59bf-43fa-8e51-b3f307dfb5bc",
   "metadata": {
    "tags": []
   },
   "source": [
    "#### Prepare embeddings to fit RotatE input format \n",
    "- For each datapoint take half of the embedding dimension as the real part and the other half as the imaginary part of the complex tensor\n",
    "- For the relations apply the init_phases functions that rotates the embeddings"
   ]
  },
  {
   "cell_type": "markdown",
   "id": "4f0cc02f-9c83-470c-a3e7-e52c1eff0d07",
   "metadata": {
    "tags": []
   },
   "source": [
    "###### Word2vec Embeddings"
   ]
  },
  {
   "cell_type": "code",
   "execution_count": 2,
   "id": "13b7e5fa-c576-46ff-a009-d17b8df4ace8",
   "metadata": {
    "tags": []
   },
   "outputs": [],
   "source": [
    "rotate_rel = torch.unsqueeze(relation_embedd, dim=2)\n",
    "rotate_rel = torch.cat([rotate_rel, torch.full_like(rotate_rel, np.nan)], dim=2)"
   ]
  },
  {
   "cell_type": "code",
   "execution_count": 3,
   "id": "246bc2e6-7de5-412d-9172-93782af257fd",
   "metadata": {
    "tags": []
   },
   "outputs": [
    {
     "data": {
      "text/plain": [
       "torch.Size([11, 150, 2])"
      ]
     },
     "execution_count": 3,
     "metadata": {},
     "output_type": "execute_result"
    }
   ],
   "source": [
    "rotate_rel.shape"
   ]
  },
  {
   "cell_type": "code",
   "execution_count": 4,
   "id": "0d27ac55-bbf4-4b19-9281-6fa7c02ef502",
   "metadata": {
    "tags": []
   },
   "outputs": [],
   "source": [
    "rotate_ent = torch.chunk(entity_embedd, 2, dim=1)\n",
    "rotate_ent = torch.stack(rotate_ent, 1)\n",
    "rotate_ent = torch.reshape(rotate_ent, (entity_embedd.shape[0],150,2))"
   ]
  },
  {
   "cell_type": "markdown",
   "id": "71e8e760-abd7-4b87-982b-db6de1cce6bc",
   "metadata": {
    "jp-MarkdownHeadingCollapsed": true,
    "tags": []
   },
   "source": [
    "###### BERT Embeddings"
   ]
  },
  {
   "cell_type": "code",
   "execution_count": 2,
   "id": "d957e806-5214-40c5-abfe-225ddc555a58",
   "metadata": {},
   "outputs": [],
   "source": [
    "# Load raw embeddings \n",
    "bert_rel = torch.load('03_nlm_embeddings/bert_fb15k237/4lastlayers/00_bert_4lastlayers_fb15k237_rel.pt', map_location = torch.device(device))\n",
    "# Store 2 second last layers separately\n",
    "bert_rel_re = bert_rel[-1]\n",
    "bert_rel_im = bert_rel[-2]"
   ]
  },
  {
   "cell_type": "code",
   "execution_count": 3,
   "id": "9664913d-68e5-42c3-a7fc-82eb13619297",
   "metadata": {},
   "outputs": [
    {
     "data": {
      "text/plain": [
       "torch.Size([237, 768, 2])"
      ]
     },
     "execution_count": 3,
     "metadata": {},
     "output_type": "execute_result"
    }
   ],
   "source": [
    "rotate_rel = rotate_bert_init(bert_rel_re, bert_rel_im)\n",
    "rotate_rel.shape"
   ]
  },
  {
   "cell_type": "code",
   "execution_count": 4,
   "id": "00273d42-29c5-4fa3-afc9-cd8f2c7a51c6",
   "metadata": {},
   "outputs": [
    {
     "name": "stdout",
     "output_type": "stream",
     "text": [
      "['00_bert_4lastlayers_fb15k237_rel.pt', '01_bert_4lastlayers_fb15k237_ent.pt', '02_bert_4lastlayers_fb15k237_ent.pt', '03_bert_4lastlayers_fb15k237_ent.pt', '04_bert_4lastlayers_fb15k237_ent.pt', '05_bert_4lastlayers_fb15k237_ent.pt', '06_bert_4lastlayers_fb15k237_ent.pt']\n"
     ]
    }
   ],
   "source": [
    "bert_ent = load_ent_embeddings('03_nlm_embeddings/bert_fb15k237/4lastlayers', device)\n",
    "bert_ent_concat = concat_ent_embeddings(bert_ent)"
   ]
  },
  {
   "cell_type": "code",
   "execution_count": 5,
   "id": "ec0e08ce-40fd-4366-a90a-236da74a8694",
   "metadata": {},
   "outputs": [],
   "source": [
    "bert_ent_re = bert_ent_concat[-1]\n",
    "bert_ent_im = bert_ent_concat[-2]"
   ]
  },
  {
   "cell_type": "code",
   "execution_count": 6,
   "id": "49fae794-e37e-4ffe-9757-f9b43feb5f4d",
   "metadata": {},
   "outputs": [
    {
     "data": {
      "text/plain": [
       "torch.Size([14951, 768, 2])"
      ]
     },
     "execution_count": 6,
     "metadata": {},
     "output_type": "execute_result"
    }
   ],
   "source": [
    "rotate_ent = rotate_bert_init(bert_ent_re, bert_ent_im)\n",
    "rotate_ent.shape"
   ]
  },
  {
   "cell_type": "markdown",
   "id": "3699b61a-8d05-405c-95db-210026e0910b",
   "metadata": {},
   "source": [
    "#### RotatE Model"
   ]
  },
  {
   "cell_type": "code",
   "execution_count": 5,
   "id": "5c031a80-ff00-45fd-9c7a-f4cd455b5ac1",
   "metadata": {
    "tags": []
   },
   "outputs": [
    {
     "data": {
      "text/plain": [
       "torch.Size([11, 150, 2])"
      ]
     },
     "execution_count": 5,
     "metadata": {},
     "output_type": "execute_result"
    }
   ],
   "source": [
    "rotate_rel = init_phases(rotate_rel)\n",
    "rotate_rel.shape"
   ]
  },
  {
   "cell_type": "code",
   "execution_count": 6,
   "id": "5b1c51be-ef8f-4222-93a3-53781a4e12ca",
   "metadata": {
    "tags": []
   },
   "outputs": [
    {
     "name": "stderr",
     "output_type": "stream",
     "text": [
      "Failed to detect the name of this notebook, you can set it manually with the WANDB_NOTEBOOK_NAME environment variable to enable code saving.\n",
      "\u001B[34m\u001B[1mwandb\u001B[0m: Currently logged in as: \u001B[33mvjolacl\u001B[0m (\u001B[33mnlm_kgc\u001B[0m). Use \u001B[1m`wandb login --relogin`\u001B[0m to force relogin\n"
     ]
    },
    {
     "data": {
      "text/html": [
       "wandb version 0.15.4 is available!  To upgrade, please run:\n",
       " $ pip install wandb --upgrade"
      ],
      "text/plain": [
       "<IPython.core.display.HTML object>"
      ]
     },
     "metadata": {},
     "output_type": "display_data"
    },
    {
     "data": {
      "text/html": [
       "Tracking run with wandb version 0.13.5"
      ],
      "text/plain": [
       "<IPython.core.display.HTML object>"
      ]
     },
     "metadata": {},
     "output_type": "display_data"
    },
    {
     "data": {
      "text/html": [
       "Run data is saved locally in <code>/pfs/data5/home/kit/aifb/ho8030/wandb/run-20230628_152204-1nkhqz13</code>"
      ],
      "text/plain": [
       "<IPython.core.display.HTML object>"
      ]
     },
     "metadata": {},
     "output_type": "display_data"
    },
    {
     "data": {
      "text/html": [
       "Syncing run <strong><a href=\"https://wandb.ai/nlm_kgc/rotatE/runs/1nkhqz13\" target=\"_blank\">silvery-meadow-74</a></strong> to <a href=\"https://wandb.ai/nlm_kgc/rotatE\" target=\"_blank\">Weights & Biases</a> (<a href=\"https://wandb.me/run\" target=\"_blank\">docs</a>)<br/>"
      ],
      "text/plain": [
       "<IPython.core.display.HTML object>"
      ]
     },
     "metadata": {},
     "output_type": "display_data"
    },
    {
     "name": "stderr",
     "output_type": "stream",
     "text": [
      "INFO:pykeen.training.training_loop:=> loading checkpoint '01_models/rotatE/wn18rr/checkpoints/rotate_wn18rr_word2vec300dim_paperP_1000epochs.pt'\n",
      "INFO:pykeen.training.training_loop:=> loaded checkpoint '01_models/rotatE/wn18rr/checkpoints/rotate_wn18rr_word2vec300dim_paperP_1000epochs.pt' stopped after having finished epoch 1461\n",
      "INFO:pykeen.stoppers.stopper:=> loading stopper summary dict from training loop checkpoint in '01_models/rotatE/wn18rr/checkpoints/rotate_wn18rr_word2vec300dim_paperP_1000epochs.pt'\n",
      "INFO:pykeen.stoppers.stopper:=> loaded stopper summary dictionary from checkpoint in '01_models/rotatE/wn18rr/checkpoints/rotate_wn18rr_word2vec300dim_paperP_1000epochs.pt'\n"
     ]
    },
    {
     "data": {
      "application/vnd.jupyter.widget-view+json": {
       "model_id": "7f102c7e7ba24aac83779d3c175e2b84",
       "version_major": 2,
       "version_minor": 0
      },
      "text/plain": [
       "Training epochs on cuda:0:  97%|#########7| 1461/1500 [00:00<?, ?epoch/s]"
      ]
     },
     "metadata": {},
     "output_type": "display_data"
    },
    {
     "data": {
      "application/vnd.jupyter.widget-view+json": {
       "model_id": "",
       "version_major": 2,
       "version_minor": 0
      },
      "text/plain": [
       "Training batches on cuda:0:   0%|          | 0/7819 [00:00<?, ?batch/s]"
      ]
     },
     "metadata": {},
     "output_type": "display_data"
    },
    {
     "name": "stderr",
     "output_type": "stream",
     "text": [
      "INFO:pykeen.training.training_loop:=> Saved checkpoint after having finished epoch 1462.\n"
     ]
    },
    {
     "data": {
      "application/vnd.jupyter.widget-view+json": {
       "model_id": "",
       "version_major": 2,
       "version_minor": 0
      },
      "text/plain": [
       "Training batches on cuda:0:   0%|          | 0/7819 [00:00<?, ?batch/s]"
      ]
     },
     "metadata": {},
     "output_type": "display_data"
    },
    {
     "name": "stderr",
     "output_type": "stream",
     "text": [
      "INFO:pykeen.training.training_loop:=> Saved checkpoint after having finished epoch 1463.\n"
     ]
    },
    {
     "data": {
      "application/vnd.jupyter.widget-view+json": {
       "model_id": "",
       "version_major": 2,
       "version_minor": 0
      },
      "text/plain": [
       "Training batches on cuda:0:   0%|          | 0/7819 [00:00<?, ?batch/s]"
      ]
     },
     "metadata": {},
     "output_type": "display_data"
    },
    {
     "name": "stderr",
     "output_type": "stream",
     "text": [
      "INFO:pykeen.training.training_loop:=> Saved checkpoint after having finished epoch 1464.\n"
     ]
    },
    {
     "data": {
      "application/vnd.jupyter.widget-view+json": {
       "model_id": "",
       "version_major": 2,
       "version_minor": 0
      },
      "text/plain": [
       "Training batches on cuda:0:   0%|          | 0/7819 [00:00<?, ?batch/s]"
      ]
     },
     "metadata": {},
     "output_type": "display_data"
    },
    {
     "name": "stderr",
     "output_type": "stream",
     "text": [
      "INFO:pykeen.training.training_loop:=> Saved checkpoint after having finished epoch 1465.\n"
     ]
    },
    {
     "data": {
      "application/vnd.jupyter.widget-view+json": {
       "model_id": "",
       "version_major": 2,
       "version_minor": 0
      },
      "text/plain": [
       "Training batches on cuda:0:   0%|          | 0/7819 [00:00<?, ?batch/s]"
      ]
     },
     "metadata": {},
     "output_type": "display_data"
    },
    {
     "name": "stderr",
     "output_type": "stream",
     "text": [
      "INFO:pykeen.training.training_loop:=> Saved checkpoint after having finished epoch 1466.\n"
     ]
    },
    {
     "data": {
      "application/vnd.jupyter.widget-view+json": {
       "model_id": "",
       "version_major": 2,
       "version_minor": 0
      },
      "text/plain": [
       "Training batches on cuda:0:   0%|          | 0/7819 [00:00<?, ?batch/s]"
      ]
     },
     "metadata": {},
     "output_type": "display_data"
    },
    {
     "name": "stderr",
     "output_type": "stream",
     "text": [
      "INFO:pykeen.training.training_loop:=> Saved checkpoint after having finished epoch 1467.\n"
     ]
    },
    {
     "data": {
      "application/vnd.jupyter.widget-view+json": {
       "model_id": "",
       "version_major": 2,
       "version_minor": 0
      },
      "text/plain": [
       "Training batches on cuda:0:   0%|          | 0/7819 [00:00<?, ?batch/s]"
      ]
     },
     "metadata": {},
     "output_type": "display_data"
    },
    {
     "name": "stderr",
     "output_type": "stream",
     "text": [
      "INFO:pykeen.training.training_loop:=> Saved checkpoint after having finished epoch 1468.\n"
     ]
    },
    {
     "data": {
      "application/vnd.jupyter.widget-view+json": {
       "model_id": "",
       "version_major": 2,
       "version_minor": 0
      },
      "text/plain": [
       "Training batches on cuda:0:   0%|          | 0/7819 [00:00<?, ?batch/s]"
      ]
     },
     "metadata": {},
     "output_type": "display_data"
    },
    {
     "name": "stderr",
     "output_type": "stream",
     "text": [
      "INFO:pykeen.training.training_loop:=> Saved checkpoint after having finished epoch 1469.\n"
     ]
    },
    {
     "data": {
      "application/vnd.jupyter.widget-view+json": {
       "model_id": "",
       "version_major": 2,
       "version_minor": 0
      },
      "text/plain": [
       "Training batches on cuda:0:   0%|          | 0/7819 [00:00<?, ?batch/s]"
      ]
     },
     "metadata": {},
     "output_type": "display_data"
    },
    {
     "name": "stderr",
     "output_type": "stream",
     "text": [
      "INFO:pykeen.training.training_loop:=> Saved checkpoint after having finished epoch 1470.\n"
     ]
    },
    {
     "data": {
      "application/vnd.jupyter.widget-view+json": {
       "model_id": "",
       "version_major": 2,
       "version_minor": 0
      },
      "text/plain": [
       "Training batches on cuda:0:   0%|          | 0/7819 [00:00<?, ?batch/s]"
      ]
     },
     "metadata": {},
     "output_type": "display_data"
    },
    {
     "name": "stderr",
     "output_type": "stream",
     "text": [
      "INFO:pykeen.training.training_loop:=> Saved checkpoint after having finished epoch 1471.\n"
     ]
    },
    {
     "data": {
      "application/vnd.jupyter.widget-view+json": {
       "model_id": "",
       "version_major": 2,
       "version_minor": 0
      },
      "text/plain": [
       "Training batches on cuda:0:   0%|          | 0/7819 [00:00<?, ?batch/s]"
      ]
     },
     "metadata": {},
     "output_type": "display_data"
    },
    {
     "name": "stderr",
     "output_type": "stream",
     "text": [
      "INFO:pykeen.training.training_loop:=> Saved checkpoint after having finished epoch 1472.\n"
     ]
    },
    {
     "data": {
      "application/vnd.jupyter.widget-view+json": {
       "model_id": "",
       "version_major": 2,
       "version_minor": 0
      },
      "text/plain": [
       "Training batches on cuda:0:   0%|          | 0/7819 [00:00<?, ?batch/s]"
      ]
     },
     "metadata": {},
     "output_type": "display_data"
    },
    {
     "name": "stderr",
     "output_type": "stream",
     "text": [
      "INFO:pykeen.training.training_loop:=> Saved checkpoint after having finished epoch 1473.\n"
     ]
    },
    {
     "data": {
      "application/vnd.jupyter.widget-view+json": {
       "model_id": "",
       "version_major": 2,
       "version_minor": 0
      },
      "text/plain": [
       "Training batches on cuda:0:   0%|          | 0/7819 [00:00<?, ?batch/s]"
      ]
     },
     "metadata": {},
     "output_type": "display_data"
    },
    {
     "name": "stderr",
     "output_type": "stream",
     "text": [
      "INFO:pykeen.training.training_loop:=> Saved checkpoint after having finished epoch 1474.\n"
     ]
    },
    {
     "data": {
      "application/vnd.jupyter.widget-view+json": {
       "model_id": "",
       "version_major": 2,
       "version_minor": 0
      },
      "text/plain": [
       "Training batches on cuda:0:   0%|          | 0/7819 [00:00<?, ?batch/s]"
      ]
     },
     "metadata": {},
     "output_type": "display_data"
    },
    {
     "name": "stderr",
     "output_type": "stream",
     "text": [
      "INFO:pykeen.training.training_loop:=> Saved checkpoint after having finished epoch 1475.\n"
     ]
    },
    {
     "data": {
      "application/vnd.jupyter.widget-view+json": {
       "model_id": "",
       "version_major": 2,
       "version_minor": 0
      },
      "text/plain": [
       "Training batches on cuda:0:   0%|          | 0/7819 [00:00<?, ?batch/s]"
      ]
     },
     "metadata": {},
     "output_type": "display_data"
    },
    {
     "name": "stderr",
     "output_type": "stream",
     "text": [
      "INFO:pykeen.training.training_loop:=> Saved checkpoint after having finished epoch 1476.\n"
     ]
    },
    {
     "data": {
      "application/vnd.jupyter.widget-view+json": {
       "model_id": "",
       "version_major": 2,
       "version_minor": 0
      },
      "text/plain": [
       "Training batches on cuda:0:   0%|          | 0/7819 [00:00<?, ?batch/s]"
      ]
     },
     "metadata": {},
     "output_type": "display_data"
    },
    {
     "name": "stderr",
     "output_type": "stream",
     "text": [
      "INFO:pykeen.training.training_loop:=> Saved checkpoint after having finished epoch 1477.\n"
     ]
    },
    {
     "data": {
      "application/vnd.jupyter.widget-view+json": {
       "model_id": "",
       "version_major": 2,
       "version_minor": 0
      },
      "text/plain": [
       "Training batches on cuda:0:   0%|          | 0/7819 [00:00<?, ?batch/s]"
      ]
     },
     "metadata": {},
     "output_type": "display_data"
    },
    {
     "name": "stderr",
     "output_type": "stream",
     "text": [
      "INFO:pykeen.training.training_loop:=> Saved checkpoint after having finished epoch 1478.\n"
     ]
    },
    {
     "data": {
      "application/vnd.jupyter.widget-view+json": {
       "model_id": "",
       "version_major": 2,
       "version_minor": 0
      },
      "text/plain": [
       "Training batches on cuda:0:   0%|          | 0/7819 [00:00<?, ?batch/s]"
      ]
     },
     "metadata": {},
     "output_type": "display_data"
    },
    {
     "name": "stderr",
     "output_type": "stream",
     "text": [
      "INFO:pykeen.training.training_loop:=> Saved checkpoint after having finished epoch 1479.\n"
     ]
    },
    {
     "data": {
      "application/vnd.jupyter.widget-view+json": {
       "model_id": "",
       "version_major": 2,
       "version_minor": 0
      },
      "text/plain": [
       "Training batches on cuda:0:   0%|          | 0/7819 [00:00<?, ?batch/s]"
      ]
     },
     "metadata": {},
     "output_type": "display_data"
    },
    {
     "name": "stderr",
     "output_type": "stream",
     "text": [
      "INFO:pykeen.training.training_loop:=> Saved checkpoint after having finished epoch 1480.\n"
     ]
    },
    {
     "data": {
      "application/vnd.jupyter.widget-view+json": {
       "model_id": "",
       "version_major": 2,
       "version_minor": 0
      },
      "text/plain": [
       "Training batches on cuda:0:   0%|          | 0/7819 [00:00<?, ?batch/s]"
      ]
     },
     "metadata": {},
     "output_type": "display_data"
    },
    {
     "name": "stderr",
     "output_type": "stream",
     "text": [
      "INFO:pykeen.training.training_loop:=> Saved checkpoint after having finished epoch 1481.\n"
     ]
    },
    {
     "data": {
      "application/vnd.jupyter.widget-view+json": {
       "model_id": "",
       "version_major": 2,
       "version_minor": 0
      },
      "text/plain": [
       "Training batches on cuda:0:   0%|          | 0/7819 [00:00<?, ?batch/s]"
      ]
     },
     "metadata": {},
     "output_type": "display_data"
    },
    {
     "name": "stderr",
     "output_type": "stream",
     "text": [
      "INFO:pykeen.training.training_loop:=> Saved checkpoint after having finished epoch 1482.\n"
     ]
    },
    {
     "data": {
      "application/vnd.jupyter.widget-view+json": {
       "model_id": "",
       "version_major": 2,
       "version_minor": 0
      },
      "text/plain": [
       "Training batches on cuda:0:   0%|          | 0/7819 [00:00<?, ?batch/s]"
      ]
     },
     "metadata": {},
     "output_type": "display_data"
    },
    {
     "name": "stderr",
     "output_type": "stream",
     "text": [
      "INFO:pykeen.training.training_loop:=> Saved checkpoint after having finished epoch 1483.\n"
     ]
    },
    {
     "data": {
      "application/vnd.jupyter.widget-view+json": {
       "model_id": "2c2776e0d51046c98a6821bb8ec1b01f",
       "version_major": 2,
       "version_minor": 0
      },
      "text/plain": [
       "Training batches on cuda:0:   0%|          | 0/7819 [00:00<?, ?batch/s]"
      ]
     },
     "metadata": {},
     "output_type": "display_data"
    },
    {
     "name": "stderr",
     "output_type": "stream",
     "text": [
      "INFO:pykeen.training.training_loop:=> Saved checkpoint after having finished epoch 1484.\n",
      "INFO:pykeen.training.training_loop:=> Saved checkpoint after having finished epoch 1484.\n"
     ]
    },
    {
     "data": {
      "application/vnd.jupyter.widget-view+json": {
       "model_id": "1ea4819e40ff4e9b9685c2287a25d2df",
       "version_major": 2,
       "version_minor": 0
      },
      "text/plain": [
       "Training batches on cuda:0:   0%|          | 0/7819 [00:00<?, ?batch/s]"
      ]
     },
     "metadata": {},
     "output_type": "display_data"
    },
    {
     "name": "stderr",
     "output_type": "stream",
     "text": [
      "INFO:pykeen.training.training_loop:=> Saved checkpoint after having finished epoch 1485.\n"
     ]
    },
    {
     "data": {
      "application/vnd.jupyter.widget-view+json": {
       "model_id": "79ee453906b94730aef942d0cbcbf2ab",
       "version_major": 2,
       "version_minor": 0
      },
      "text/plain": [
       "Training batches on cuda:0:   0%|          | 0/7819 [00:00<?, ?batch/s]"
      ]
     },
     "metadata": {},
     "output_type": "display_data"
    },
    {
     "name": "stderr",
     "output_type": "stream",
     "text": [
      "INFO:pykeen.training.training_loop:=> Saved checkpoint after having finished epoch 1486.\n"
     ]
    },
    {
     "data": {
      "application/vnd.jupyter.widget-view+json": {
       "model_id": "1f7e07011cdb4f5896333e54183f0160",
       "version_major": 2,
       "version_minor": 0
      },
      "text/plain": [
       "Training batches on cuda:0:   0%|          | 0/7819 [00:00<?, ?batch/s]"
      ]
     },
     "metadata": {},
     "output_type": "display_data"
    },
    {
     "name": "stderr",
     "output_type": "stream",
     "text": [
      "INFO:pykeen.training.training_loop:=> Saved checkpoint after having finished epoch 1487.\n"
     ]
    },
    {
     "data": {
      "application/vnd.jupyter.widget-view+json": {
       "model_id": "8ce337dc2f6647269e325bf62273ad42",
       "version_major": 2,
       "version_minor": 0
      },
      "text/plain": [
       "Training batches on cuda:0:   0%|          | 0/7819 [00:00<?, ?batch/s]"
      ]
     },
     "metadata": {},
     "output_type": "display_data"
    },
    {
     "name": "stderr",
     "output_type": "stream",
     "text": [
      "INFO:pykeen.training.training_loop:=> Saved checkpoint after having finished epoch 1488.\n"
     ]
    },
    {
     "data": {
      "application/vnd.jupyter.widget-view+json": {
       "model_id": "d48515739c7e45b2b31a38dcea757953",
       "version_major": 2,
       "version_minor": 0
      },
      "text/plain": [
       "Training batches on cuda:0:   0%|          | 0/7819 [00:00<?, ?batch/s]"
      ]
     },
     "metadata": {},
     "output_type": "display_data"
    },
    {
     "name": "stderr",
     "output_type": "stream",
     "text": [
      "INFO:pykeen.training.training_loop:=> Saved checkpoint after having finished epoch 1489.\n"
     ]
    },
    {
     "data": {
      "application/vnd.jupyter.widget-view+json": {
       "model_id": "80ffd42172f249169d893886a5b90bd1",
       "version_major": 2,
       "version_minor": 0
      },
      "text/plain": [
       "Training batches on cuda:0:   0%|          | 0/7819 [00:00<?, ?batch/s]"
      ]
     },
     "metadata": {},
     "output_type": "display_data"
    },
    {
     "name": "stderr",
     "output_type": "stream",
     "text": [
      "INFO:pykeen.training.training_loop:=> Saved checkpoint after having finished epoch 1490.\n"
     ]
    },
    {
     "data": {
      "application/vnd.jupyter.widget-view+json": {
       "model_id": "772bbb585d414b568936b1a9f0c3a785",
       "version_major": 2,
       "version_minor": 0
      },
      "text/plain": [
       "Training batches on cuda:0:   0%|          | 0/7819 [00:00<?, ?batch/s]"
      ]
     },
     "metadata": {},
     "output_type": "display_data"
    },
    {
     "name": "stderr",
     "output_type": "stream",
     "text": [
      "INFO:pykeen.training.training_loop:=> Saved checkpoint after having finished epoch 1491.\n"
     ]
    },
    {
     "data": {
      "application/vnd.jupyter.widget-view+json": {
       "model_id": "3d34f38861c84ccda87f0cb58f72ba5f",
       "version_major": 2,
       "version_minor": 0
      },
      "text/plain": [
       "Training batches on cuda:0:   0%|          | 0/7819 [00:00<?, ?batch/s]"
      ]
     },
     "metadata": {},
     "output_type": "display_data"
    },
    {
     "name": "stderr",
     "output_type": "stream",
     "text": [
      "INFO:pykeen.training.training_loop:=> Saved checkpoint after having finished epoch 1492.\n"
     ]
    },
    {
     "data": {
      "application/vnd.jupyter.widget-view+json": {
       "model_id": "148311debac84b72b99d14114687ae17",
       "version_major": 2,
       "version_minor": 0
      },
      "text/plain": [
       "Training batches on cuda:0:   0%|          | 0/7819 [00:00<?, ?batch/s]"
      ]
     },
     "metadata": {},
     "output_type": "display_data"
    },
    {
     "name": "stderr",
     "output_type": "stream",
     "text": [
      "INFO:pykeen.training.training_loop:=> Saved checkpoint after having finished epoch 1493.\n"
     ]
    },
    {
     "data": {
      "application/vnd.jupyter.widget-view+json": {
       "model_id": "f7a68c4f706d42cba90292a2d12cc532",
       "version_major": 2,
       "version_minor": 0
      },
      "text/plain": [
       "Training batches on cuda:0:   0%|          | 0/7819 [00:00<?, ?batch/s]"
      ]
     },
     "metadata": {},
     "output_type": "display_data"
    },
    {
     "name": "stderr",
     "output_type": "stream",
     "text": [
      "INFO:pykeen.training.training_loop:=> Saved checkpoint after having finished epoch 1494.\n"
     ]
    },
    {
     "data": {
      "application/vnd.jupyter.widget-view+json": {
       "model_id": "534f637db1c24fe7bf2a8d09d40be577",
       "version_major": 2,
       "version_minor": 0
      },
      "text/plain": [
       "Training batches on cuda:0:   0%|          | 0/7819 [00:00<?, ?batch/s]"
      ]
     },
     "metadata": {},
     "output_type": "display_data"
    },
    {
     "name": "stderr",
     "output_type": "stream",
     "text": [
      "INFO:pykeen.training.training_loop:=> Saved checkpoint after having finished epoch 1495.\n"
     ]
    },
    {
     "data": {
      "application/vnd.jupyter.widget-view+json": {
       "model_id": "89b27a9d391c4d97b4c643bf51bc44ef",
       "version_major": 2,
       "version_minor": 0
      },
      "text/plain": [
       "Training batches on cuda:0:   0%|          | 0/7819 [00:00<?, ?batch/s]"
      ]
     },
     "metadata": {},
     "output_type": "display_data"
    },
    {
     "name": "stderr",
     "output_type": "stream",
     "text": [
      "INFO:pykeen.training.training_loop:=> Saved checkpoint after having finished epoch 1496.\n"
     ]
    },
    {
     "data": {
      "application/vnd.jupyter.widget-view+json": {
       "model_id": "36582e6c39a94f219aa9591713c4d17a",
       "version_major": 2,
       "version_minor": 0
      },
      "text/plain": [
       "Training batches on cuda:0:   0%|          | 0/7819 [00:00<?, ?batch/s]"
      ]
     },
     "metadata": {},
     "output_type": "display_data"
    },
    {
     "name": "stderr",
     "output_type": "stream",
     "text": [
      "INFO:pykeen.training.training_loop:=> Saved checkpoint after having finished epoch 1497.\n"
     ]
    },
    {
     "data": {
      "application/vnd.jupyter.widget-view+json": {
       "model_id": "1267834d5dd74a8c8573a0cbcbad9c05",
       "version_major": 2,
       "version_minor": 0
      },
      "text/plain": [
       "Training batches on cuda:0:   0%|          | 0/7819 [00:00<?, ?batch/s]"
      ]
     },
     "metadata": {},
     "output_type": "display_data"
    },
    {
     "name": "stderr",
     "output_type": "stream",
     "text": [
      "INFO:pykeen.training.training_loop:=> Saved checkpoint after having finished epoch 1498.\n"
     ]
    },
    {
     "data": {
      "application/vnd.jupyter.widget-view+json": {
       "model_id": "e994cc78324a47e6963c6ee55344747a",
       "version_major": 2,
       "version_minor": 0
      },
      "text/plain": [
       "Training batches on cuda:0:   0%|          | 0/7819 [00:00<?, ?batch/s]"
      ]
     },
     "metadata": {},
     "output_type": "display_data"
    },
    {
     "name": "stderr",
     "output_type": "stream",
     "text": [
      "INFO:pykeen.training.training_loop:=> Saved checkpoint after having finished epoch 1499.\n"
     ]
    },
    {
     "data": {
      "application/vnd.jupyter.widget-view+json": {
       "model_id": "e6dad540d054484fbf07a0d7fef02e5f",
       "version_major": 2,
       "version_minor": 0
      },
      "text/plain": [
       "Training batches on cuda:0:   0%|          | 0/7819 [00:00<?, ?batch/s]"
      ]
     },
     "metadata": {},
     "output_type": "display_data"
    },
    {
     "name": "stderr",
     "output_type": "stream",
     "text": [
      "INFO:pykeen.evaluation.evaluator:Starting batch_size search for evaluation now...\n",
      "INFO:pykeen.evaluation.evaluator:Concluded batch_size search with batch_size=512.\n",
      "INFO:pykeen.evaluation.evaluator:Evaluation took 1.53s seconds\n",
      "INFO:pykeen.stoppers.early_stopping:New best result at epoch 1500: 0.5552407932011332. Saved model weights to /home/kit/aifb/ho8030/.data/pykeen/checkpoints/best-model-weights-e672b70c-3e64-43f3-b4ff-ddc198e1930f.pt\n",
      "INFO:pykeen.training.training_loop:=> Saved checkpoint after having finished epoch 1500.\n",
      "INFO:pykeen.training.training_loop:=> Saved checkpoint after having finished epoch 1500.\n"
     ]
    },
    {
     "data": {
      "application/vnd.jupyter.widget-view+json": {
       "model_id": "e0479ff8087240e6b7022846b994d6fa",
       "version_major": 2,
       "version_minor": 0
      },
      "text/plain": [
       "Evaluating on cuda:0:   0%|          | 0.00/2.92k [00:00<?, ?triple/s]"
      ]
     },
     "metadata": {},
     "output_type": "display_data"
    },
    {
     "name": "stderr",
     "output_type": "stream",
     "text": [
      "INFO:pykeen.evaluation.evaluator:Evaluation took 1.85s seconds\n"
     ]
    },
    {
     "data": {
      "text/html": [
       "Waiting for W&B process to finish... <strong style=\"color:green\">(success).</strong>"
      ],
      "text/plain": [
       "<IPython.core.display.HTML object>"
      ]
     },
     "metadata": {},
     "output_type": "display_data"
    },
    {
     "data": {
      "text/html": [
       "<style>\n",
       "    table.wandb td:nth-child(1) { padding: 0 10px; text-align: left ; width: auto;} td:nth-child(2) {text-align: left ; width: 100%}\n",
       "    .wandb-row { display: flex; flex-direction: row; flex-wrap: wrap; justify-content: flex-start; width: 100% }\n",
       "    .wandb-col { display: flex; flex-direction: column; flex-basis: 100%; flex: 1; padding: 10px; }\n",
       "    </style>\n",
       "<div class=\"wandb-row\"><div class=\"wandb-col\"><h3>Run history:</h3><br/><table class=\"wandb\"><tr><td>loss</td><td>█▆▅▅▆▆▆▇▅▆▆▆▆▅▄▆▄▅▄▅▅▄▄▄▅▄▃▁▄▃▄▃▂▄▂▂▂▂▃</td></tr><tr><td>testing.both.optimistic.adjusted_arithmetic_mean_rank</td><td>▁</td></tr><tr><td>testing.both.optimistic.adjusted_arithmetic_mean_rank_index</td><td>▁</td></tr><tr><td>testing.both.optimistic.adjusted_geometric_mean_rank_index</td><td>▁</td></tr><tr><td>testing.both.optimistic.adjusted_hits_at_k</td><td>▁</td></tr><tr><td>testing.both.optimistic.adjusted_inverse_harmonic_mean_rank</td><td>▁</td></tr><tr><td>testing.both.optimistic.arithmetic_mean_rank</td><td>▁</td></tr><tr><td>testing.both.optimistic.count</td><td>▁</td></tr><tr><td>testing.both.optimistic.geometric_mean_rank</td><td>▁</td></tr><tr><td>testing.both.optimistic.harmonic_mean_rank</td><td>▁</td></tr><tr><td>testing.both.optimistic.hits_at_1</td><td>▁</td></tr><tr><td>testing.both.optimistic.hits_at_10</td><td>▁</td></tr><tr><td>testing.both.optimistic.hits_at_3</td><td>▁</td></tr><tr><td>testing.both.optimistic.hits_at_5</td><td>▁</td></tr><tr><td>testing.both.optimistic.inverse_arithmetic_mean_rank</td><td>▁</td></tr><tr><td>testing.both.optimistic.inverse_geometric_mean_rank</td><td>▁</td></tr><tr><td>testing.both.optimistic.inverse_harmonic_mean_rank</td><td>▁</td></tr><tr><td>testing.both.optimistic.inverse_median_rank</td><td>▁</td></tr><tr><td>testing.both.optimistic.median_absolute_deviation</td><td>▁</td></tr><tr><td>testing.both.optimistic.median_rank</td><td>▁</td></tr><tr><td>testing.both.optimistic.standard_deviation</td><td>▁</td></tr><tr><td>testing.both.optimistic.variance</td><td>▁</td></tr><tr><td>testing.both.optimistic.z_arithmetic_mean_rank</td><td>▁</td></tr><tr><td>testing.both.optimistic.z_geometric_mean_rank</td><td>▁</td></tr><tr><td>testing.both.optimistic.z_hits_at_k</td><td>▁</td></tr><tr><td>testing.both.optimistic.z_inverse_harmonic_mean_rank</td><td>▁</td></tr><tr><td>testing.both.pessimistic.adjusted_arithmetic_mean_rank</td><td>▁</td></tr><tr><td>testing.both.pessimistic.adjusted_arithmetic_mean_rank_index</td><td>▁</td></tr><tr><td>testing.both.pessimistic.adjusted_geometric_mean_rank_index</td><td>▁</td></tr><tr><td>testing.both.pessimistic.adjusted_hits_at_k</td><td>▁</td></tr><tr><td>testing.both.pessimistic.adjusted_inverse_harmonic_mean_rank</td><td>▁</td></tr><tr><td>testing.both.pessimistic.arithmetic_mean_rank</td><td>▁</td></tr><tr><td>testing.both.pessimistic.count</td><td>▁</td></tr><tr><td>testing.both.pessimistic.geometric_mean_rank</td><td>▁</td></tr><tr><td>testing.both.pessimistic.harmonic_mean_rank</td><td>▁</td></tr><tr><td>testing.both.pessimistic.hits_at_1</td><td>▁</td></tr><tr><td>testing.both.pessimistic.hits_at_10</td><td>▁</td></tr><tr><td>testing.both.pessimistic.hits_at_3</td><td>▁</td></tr><tr><td>testing.both.pessimistic.hits_at_5</td><td>▁</td></tr><tr><td>testing.both.pessimistic.inverse_arithmetic_mean_rank</td><td>▁</td></tr><tr><td>testing.both.pessimistic.inverse_geometric_mean_rank</td><td>▁</td></tr><tr><td>testing.both.pessimistic.inverse_harmonic_mean_rank</td><td>▁</td></tr><tr><td>testing.both.pessimistic.inverse_median_rank</td><td>▁</td></tr><tr><td>testing.both.pessimistic.median_absolute_deviation</td><td>▁</td></tr><tr><td>testing.both.pessimistic.median_rank</td><td>▁</td></tr><tr><td>testing.both.pessimistic.standard_deviation</td><td>▁</td></tr><tr><td>testing.both.pessimistic.variance</td><td>▁</td></tr><tr><td>testing.both.pessimistic.z_arithmetic_mean_rank</td><td>▁</td></tr><tr><td>testing.both.pessimistic.z_geometric_mean_rank</td><td>▁</td></tr><tr><td>testing.both.pessimistic.z_hits_at_k</td><td>▁</td></tr><tr><td>testing.both.pessimistic.z_inverse_harmonic_mean_rank</td><td>▁</td></tr><tr><td>testing.both.realistic.adjusted_arithmetic_mean_rank</td><td>▁</td></tr><tr><td>testing.both.realistic.adjusted_arithmetic_mean_rank_index</td><td>▁</td></tr><tr><td>testing.both.realistic.adjusted_geometric_mean_rank_index</td><td>▁</td></tr><tr><td>testing.both.realistic.adjusted_hits_at_k</td><td>▁</td></tr><tr><td>testing.both.realistic.adjusted_inverse_harmonic_mean_rank</td><td>▁</td></tr><tr><td>testing.both.realistic.arithmetic_mean_rank</td><td>▁</td></tr><tr><td>testing.both.realistic.count</td><td>▁</td></tr><tr><td>testing.both.realistic.geometric_mean_rank</td><td>▁</td></tr><tr><td>testing.both.realistic.harmonic_mean_rank</td><td>▁</td></tr><tr><td>testing.both.realistic.hits_at_1</td><td>▁</td></tr><tr><td>testing.both.realistic.hits_at_10</td><td>▁</td></tr><tr><td>testing.both.realistic.hits_at_3</td><td>▁</td></tr><tr><td>testing.both.realistic.hits_at_5</td><td>▁</td></tr><tr><td>testing.both.realistic.inverse_arithmetic_mean_rank</td><td>▁</td></tr><tr><td>testing.both.realistic.inverse_geometric_mean_rank</td><td>▁</td></tr><tr><td>testing.both.realistic.inverse_harmonic_mean_rank</td><td>▁</td></tr><tr><td>testing.both.realistic.inverse_median_rank</td><td>▁</td></tr><tr><td>testing.both.realistic.median_absolute_deviation</td><td>▁</td></tr><tr><td>testing.both.realistic.median_rank</td><td>▁</td></tr><tr><td>testing.both.realistic.standard_deviation</td><td>▁</td></tr><tr><td>testing.both.realistic.variance</td><td>▁</td></tr><tr><td>testing.both.realistic.z_arithmetic_mean_rank</td><td>▁</td></tr><tr><td>testing.both.realistic.z_geometric_mean_rank</td><td>▁</td></tr><tr><td>testing.both.realistic.z_hits_at_k</td><td>▁</td></tr><tr><td>testing.both.realistic.z_inverse_harmonic_mean_rank</td><td>▁</td></tr><tr><td>testing.head.optimistic.adjusted_arithmetic_mean_rank</td><td>▁</td></tr><tr><td>testing.head.optimistic.adjusted_arithmetic_mean_rank_index</td><td>▁</td></tr><tr><td>testing.head.optimistic.adjusted_geometric_mean_rank_index</td><td>▁</td></tr><tr><td>testing.head.optimistic.adjusted_hits_at_k</td><td>▁</td></tr><tr><td>testing.head.optimistic.adjusted_inverse_harmonic_mean_rank</td><td>▁</td></tr><tr><td>testing.head.optimistic.arithmetic_mean_rank</td><td>▁</td></tr><tr><td>testing.head.optimistic.count</td><td>▁</td></tr><tr><td>testing.head.optimistic.geometric_mean_rank</td><td>▁</td></tr><tr><td>testing.head.optimistic.harmonic_mean_rank</td><td>▁</td></tr><tr><td>testing.head.optimistic.hits_at_1</td><td>▁</td></tr><tr><td>testing.head.optimistic.hits_at_10</td><td>▁</td></tr><tr><td>testing.head.optimistic.hits_at_3</td><td>▁</td></tr><tr><td>testing.head.optimistic.hits_at_5</td><td>▁</td></tr><tr><td>testing.head.optimistic.inverse_arithmetic_mean_rank</td><td>▁</td></tr><tr><td>testing.head.optimistic.inverse_geometric_mean_rank</td><td>▁</td></tr><tr><td>testing.head.optimistic.inverse_harmonic_mean_rank</td><td>▁</td></tr><tr><td>testing.head.optimistic.inverse_median_rank</td><td>▁</td></tr><tr><td>testing.head.optimistic.median_absolute_deviation</td><td>▁</td></tr><tr><td>testing.head.optimistic.median_rank</td><td>▁</td></tr><tr><td>testing.head.optimistic.standard_deviation</td><td>▁</td></tr><tr><td>testing.head.optimistic.variance</td><td>▁</td></tr><tr><td>testing.head.optimistic.z_arithmetic_mean_rank</td><td>▁</td></tr><tr><td>testing.head.optimistic.z_geometric_mean_rank</td><td>▁</td></tr><tr><td>testing.head.optimistic.z_hits_at_k</td><td>▁</td></tr><tr><td>testing.head.optimistic.z_inverse_harmonic_mean_rank</td><td>▁</td></tr><tr><td>testing.head.pessimistic.adjusted_arithmetic_mean_rank</td><td>▁</td></tr><tr><td>testing.head.pessimistic.adjusted_arithmetic_mean_rank_index</td><td>▁</td></tr><tr><td>testing.head.pessimistic.adjusted_geometric_mean_rank_index</td><td>▁</td></tr><tr><td>testing.head.pessimistic.adjusted_hits_at_k</td><td>▁</td></tr><tr><td>testing.head.pessimistic.adjusted_inverse_harmonic_mean_rank</td><td>▁</td></tr><tr><td>testing.head.pessimistic.arithmetic_mean_rank</td><td>▁</td></tr><tr><td>testing.head.pessimistic.count</td><td>▁</td></tr><tr><td>testing.head.pessimistic.geometric_mean_rank</td><td>▁</td></tr><tr><td>testing.head.pessimistic.harmonic_mean_rank</td><td>▁</td></tr><tr><td>testing.head.pessimistic.hits_at_1</td><td>▁</td></tr><tr><td>testing.head.pessimistic.hits_at_10</td><td>▁</td></tr><tr><td>testing.head.pessimistic.hits_at_3</td><td>▁</td></tr><tr><td>testing.head.pessimistic.hits_at_5</td><td>▁</td></tr><tr><td>testing.head.pessimistic.inverse_arithmetic_mean_rank</td><td>▁</td></tr><tr><td>testing.head.pessimistic.inverse_geometric_mean_rank</td><td>▁</td></tr><tr><td>testing.head.pessimistic.inverse_harmonic_mean_rank</td><td>▁</td></tr><tr><td>testing.head.pessimistic.inverse_median_rank</td><td>▁</td></tr><tr><td>testing.head.pessimistic.median_absolute_deviation</td><td>▁</td></tr><tr><td>testing.head.pessimistic.median_rank</td><td>▁</td></tr><tr><td>testing.head.pessimistic.standard_deviation</td><td>▁</td></tr><tr><td>testing.head.pessimistic.variance</td><td>▁</td></tr><tr><td>testing.head.pessimistic.z_arithmetic_mean_rank</td><td>▁</td></tr><tr><td>testing.head.pessimistic.z_geometric_mean_rank</td><td>▁</td></tr><tr><td>testing.head.pessimistic.z_hits_at_k</td><td>▁</td></tr><tr><td>testing.head.pessimistic.z_inverse_harmonic_mean_rank</td><td>▁</td></tr><tr><td>testing.head.realistic.adjusted_arithmetic_mean_rank</td><td>▁</td></tr><tr><td>testing.head.realistic.adjusted_arithmetic_mean_rank_index</td><td>▁</td></tr><tr><td>testing.head.realistic.adjusted_geometric_mean_rank_index</td><td>▁</td></tr><tr><td>testing.head.realistic.adjusted_hits_at_k</td><td>▁</td></tr><tr><td>testing.head.realistic.adjusted_inverse_harmonic_mean_rank</td><td>▁</td></tr><tr><td>testing.head.realistic.arithmetic_mean_rank</td><td>▁</td></tr><tr><td>testing.head.realistic.count</td><td>▁</td></tr><tr><td>testing.head.realistic.geometric_mean_rank</td><td>▁</td></tr><tr><td>testing.head.realistic.harmonic_mean_rank</td><td>▁</td></tr><tr><td>testing.head.realistic.hits_at_1</td><td>▁</td></tr><tr><td>testing.head.realistic.hits_at_10</td><td>▁</td></tr><tr><td>testing.head.realistic.hits_at_3</td><td>▁</td></tr><tr><td>testing.head.realistic.hits_at_5</td><td>▁</td></tr><tr><td>testing.head.realistic.inverse_arithmetic_mean_rank</td><td>▁</td></tr><tr><td>testing.head.realistic.inverse_geometric_mean_rank</td><td>▁</td></tr><tr><td>testing.head.realistic.inverse_harmonic_mean_rank</td><td>▁</td></tr><tr><td>testing.head.realistic.inverse_median_rank</td><td>▁</td></tr><tr><td>testing.head.realistic.median_absolute_deviation</td><td>▁</td></tr><tr><td>testing.head.realistic.median_rank</td><td>▁</td></tr><tr><td>testing.head.realistic.standard_deviation</td><td>▁</td></tr><tr><td>testing.head.realistic.variance</td><td>▁</td></tr><tr><td>testing.head.realistic.z_arithmetic_mean_rank</td><td>▁</td></tr><tr><td>testing.head.realistic.z_geometric_mean_rank</td><td>▁</td></tr><tr><td>testing.head.realistic.z_hits_at_k</td><td>▁</td></tr><tr><td>testing.head.realistic.z_inverse_harmonic_mean_rank</td><td>▁</td></tr><tr><td>testing.tail.optimistic.adjusted_arithmetic_mean_rank</td><td>▁</td></tr><tr><td>testing.tail.optimistic.adjusted_arithmetic_mean_rank_index</td><td>▁</td></tr><tr><td>testing.tail.optimistic.adjusted_geometric_mean_rank_index</td><td>▁</td></tr><tr><td>testing.tail.optimistic.adjusted_hits_at_k</td><td>▁</td></tr><tr><td>testing.tail.optimistic.adjusted_inverse_harmonic_mean_rank</td><td>▁</td></tr><tr><td>testing.tail.optimistic.arithmetic_mean_rank</td><td>▁</td></tr><tr><td>testing.tail.optimistic.count</td><td>▁</td></tr><tr><td>testing.tail.optimistic.geometric_mean_rank</td><td>▁</td></tr><tr><td>testing.tail.optimistic.harmonic_mean_rank</td><td>▁</td></tr><tr><td>testing.tail.optimistic.hits_at_1</td><td>▁</td></tr><tr><td>testing.tail.optimistic.hits_at_10</td><td>▁</td></tr><tr><td>testing.tail.optimistic.hits_at_3</td><td>▁</td></tr><tr><td>testing.tail.optimistic.hits_at_5</td><td>▁</td></tr><tr><td>testing.tail.optimistic.inverse_arithmetic_mean_rank</td><td>▁</td></tr><tr><td>testing.tail.optimistic.inverse_geometric_mean_rank</td><td>▁</td></tr><tr><td>testing.tail.optimistic.inverse_harmonic_mean_rank</td><td>▁</td></tr><tr><td>testing.tail.optimistic.inverse_median_rank</td><td>▁</td></tr><tr><td>testing.tail.optimistic.median_absolute_deviation</td><td>▁</td></tr><tr><td>testing.tail.optimistic.median_rank</td><td>▁</td></tr><tr><td>testing.tail.optimistic.standard_deviation</td><td>▁</td></tr><tr><td>testing.tail.optimistic.variance</td><td>▁</td></tr><tr><td>testing.tail.optimistic.z_arithmetic_mean_rank</td><td>▁</td></tr><tr><td>testing.tail.optimistic.z_geometric_mean_rank</td><td>▁</td></tr><tr><td>testing.tail.optimistic.z_hits_at_k</td><td>▁</td></tr><tr><td>testing.tail.optimistic.z_inverse_harmonic_mean_rank</td><td>▁</td></tr><tr><td>testing.tail.pessimistic.adjusted_arithmetic_mean_rank</td><td>▁</td></tr><tr><td>testing.tail.pessimistic.adjusted_arithmetic_mean_rank_index</td><td>▁</td></tr><tr><td>testing.tail.pessimistic.adjusted_geometric_mean_rank_index</td><td>▁</td></tr><tr><td>testing.tail.pessimistic.adjusted_hits_at_k</td><td>▁</td></tr><tr><td>testing.tail.pessimistic.adjusted_inverse_harmonic_mean_rank</td><td>▁</td></tr><tr><td>testing.tail.pessimistic.arithmetic_mean_rank</td><td>▁</td></tr><tr><td>testing.tail.pessimistic.count</td><td>▁</td></tr><tr><td>testing.tail.pessimistic.geometric_mean_rank</td><td>▁</td></tr><tr><td>testing.tail.pessimistic.harmonic_mean_rank</td><td>▁</td></tr><tr><td>testing.tail.pessimistic.hits_at_1</td><td>▁</td></tr><tr><td>testing.tail.pessimistic.hits_at_10</td><td>▁</td></tr><tr><td>testing.tail.pessimistic.hits_at_3</td><td>▁</td></tr><tr><td>testing.tail.pessimistic.hits_at_5</td><td>▁</td></tr><tr><td>testing.tail.pessimistic.inverse_arithmetic_mean_rank</td><td>▁</td></tr><tr><td>testing.tail.pessimistic.inverse_geometric_mean_rank</td><td>▁</td></tr><tr><td>testing.tail.pessimistic.inverse_harmonic_mean_rank</td><td>▁</td></tr><tr><td>testing.tail.pessimistic.inverse_median_rank</td><td>▁</td></tr><tr><td>testing.tail.pessimistic.median_absolute_deviation</td><td>▁</td></tr><tr><td>testing.tail.pessimistic.median_rank</td><td>▁</td></tr><tr><td>testing.tail.pessimistic.standard_deviation</td><td>▁</td></tr><tr><td>testing.tail.pessimistic.variance</td><td>▁</td></tr><tr><td>testing.tail.pessimistic.z_arithmetic_mean_rank</td><td>▁</td></tr><tr><td>testing.tail.pessimistic.z_geometric_mean_rank</td><td>▁</td></tr><tr><td>testing.tail.pessimistic.z_hits_at_k</td><td>▁</td></tr><tr><td>testing.tail.pessimistic.z_inverse_harmonic_mean_rank</td><td>▁</td></tr><tr><td>testing.tail.realistic.adjusted_arithmetic_mean_rank</td><td>▁</td></tr><tr><td>testing.tail.realistic.adjusted_arithmetic_mean_rank_index</td><td>▁</td></tr><tr><td>testing.tail.realistic.adjusted_geometric_mean_rank_index</td><td>▁</td></tr><tr><td>testing.tail.realistic.adjusted_hits_at_k</td><td>▁</td></tr><tr><td>testing.tail.realistic.adjusted_inverse_harmonic_mean_rank</td><td>▁</td></tr><tr><td>testing.tail.realistic.arithmetic_mean_rank</td><td>▁</td></tr><tr><td>testing.tail.realistic.count</td><td>▁</td></tr><tr><td>testing.tail.realistic.geometric_mean_rank</td><td>▁</td></tr><tr><td>testing.tail.realistic.harmonic_mean_rank</td><td>▁</td></tr><tr><td>testing.tail.realistic.hits_at_1</td><td>▁</td></tr><tr><td>testing.tail.realistic.hits_at_10</td><td>▁</td></tr><tr><td>testing.tail.realistic.hits_at_3</td><td>▁</td></tr><tr><td>testing.tail.realistic.hits_at_5</td><td>▁</td></tr><tr><td>testing.tail.realistic.inverse_arithmetic_mean_rank</td><td>▁</td></tr><tr><td>testing.tail.realistic.inverse_geometric_mean_rank</td><td>▁</td></tr><tr><td>testing.tail.realistic.inverse_harmonic_mean_rank</td><td>▁</td></tr><tr><td>testing.tail.realistic.inverse_median_rank</td><td>▁</td></tr><tr><td>testing.tail.realistic.median_absolute_deviation</td><td>▁</td></tr><tr><td>testing.tail.realistic.median_rank</td><td>▁</td></tr><tr><td>testing.tail.realistic.standard_deviation</td><td>▁</td></tr><tr><td>testing.tail.realistic.variance</td><td>▁</td></tr><tr><td>testing.tail.realistic.z_arithmetic_mean_rank</td><td>▁</td></tr><tr><td>testing.tail.realistic.z_geometric_mean_rank</td><td>▁</td></tr><tr><td>testing.tail.realistic.z_hits_at_k</td><td>▁</td></tr><tr><td>testing.tail.realistic.z_inverse_harmonic_mean_rank</td><td>▁</td></tr><tr><td>times.final_evaluation</td><td>▁</td></tr><tr><td>times.total_training</td><td>▁</td></tr><tr><td>validation.both.optimistic.adjusted_arithmetic_mean_rank</td><td>▁</td></tr><tr><td>validation.both.optimistic.adjusted_arithmetic_mean_rank_index</td><td>▁</td></tr><tr><td>validation.both.optimistic.adjusted_geometric_mean_rank_index</td><td>▁</td></tr><tr><td>validation.both.optimistic.adjusted_hits_at_k</td><td>▁</td></tr><tr><td>validation.both.optimistic.adjusted_inverse_harmonic_mean_rank</td><td>▁</td></tr><tr><td>validation.both.optimistic.arithmetic_mean_rank</td><td>▁</td></tr><tr><td>validation.both.optimistic.count</td><td>▁</td></tr><tr><td>validation.both.optimistic.geometric_mean_rank</td><td>▁</td></tr><tr><td>validation.both.optimistic.harmonic_mean_rank</td><td>▁</td></tr><tr><td>validation.both.optimistic.hits_at_1</td><td>▁</td></tr><tr><td>validation.both.optimistic.hits_at_10</td><td>▁</td></tr><tr><td>validation.both.optimistic.hits_at_3</td><td>▁</td></tr><tr><td>validation.both.optimistic.hits_at_5</td><td>▁</td></tr><tr><td>validation.both.optimistic.inverse_arithmetic_mean_rank</td><td>▁</td></tr><tr><td>validation.both.optimistic.inverse_geometric_mean_rank</td><td>▁</td></tr><tr><td>validation.both.optimistic.inverse_harmonic_mean_rank</td><td>▁</td></tr><tr><td>validation.both.optimistic.inverse_median_rank</td><td>▁</td></tr><tr><td>validation.both.optimistic.median_absolute_deviation</td><td>▁</td></tr><tr><td>validation.both.optimistic.median_rank</td><td>▁</td></tr><tr><td>validation.both.optimistic.standard_deviation</td><td>▁</td></tr><tr><td>validation.both.optimistic.variance</td><td>▁</td></tr><tr><td>validation.both.optimistic.z_arithmetic_mean_rank</td><td>▁</td></tr><tr><td>validation.both.optimistic.z_geometric_mean_rank</td><td>▁</td></tr><tr><td>validation.both.optimistic.z_hits_at_k</td><td>▁</td></tr><tr><td>validation.both.optimistic.z_inverse_harmonic_mean_rank</td><td>▁</td></tr><tr><td>validation.both.pessimistic.adjusted_arithmetic_mean_rank</td><td>▁</td></tr><tr><td>validation.both.pessimistic.adjusted_arithmetic_mean_rank_index</td><td>▁</td></tr><tr><td>validation.both.pessimistic.adjusted_geometric_mean_rank_index</td><td>▁</td></tr><tr><td>validation.both.pessimistic.adjusted_hits_at_k</td><td>▁</td></tr><tr><td>validation.both.pessimistic.adjusted_inverse_harmonic_mean_rank</td><td>▁</td></tr><tr><td>validation.both.pessimistic.arithmetic_mean_rank</td><td>▁</td></tr><tr><td>validation.both.pessimistic.count</td><td>▁</td></tr><tr><td>validation.both.pessimistic.geometric_mean_rank</td><td>▁</td></tr><tr><td>validation.both.pessimistic.harmonic_mean_rank</td><td>▁</td></tr><tr><td>validation.both.pessimistic.hits_at_1</td><td>▁</td></tr><tr><td>validation.both.pessimistic.hits_at_10</td><td>▁</td></tr><tr><td>validation.both.pessimistic.hits_at_3</td><td>▁</td></tr><tr><td>validation.both.pessimistic.hits_at_5</td><td>▁</td></tr><tr><td>validation.both.pessimistic.inverse_arithmetic_mean_rank</td><td>▁</td></tr><tr><td>validation.both.pessimistic.inverse_geometric_mean_rank</td><td>▁</td></tr><tr><td>validation.both.pessimistic.inverse_harmonic_mean_rank</td><td>▁</td></tr><tr><td>validation.both.pessimistic.inverse_median_rank</td><td>▁</td></tr><tr><td>validation.both.pessimistic.median_absolute_deviation</td><td>▁</td></tr><tr><td>validation.both.pessimistic.median_rank</td><td>▁</td></tr><tr><td>validation.both.pessimistic.standard_deviation</td><td>▁</td></tr><tr><td>validation.both.pessimistic.variance</td><td>▁</td></tr><tr><td>validation.both.pessimistic.z_arithmetic_mean_rank</td><td>▁</td></tr><tr><td>validation.both.pessimistic.z_geometric_mean_rank</td><td>▁</td></tr><tr><td>validation.both.pessimistic.z_hits_at_k</td><td>▁</td></tr><tr><td>validation.both.pessimistic.z_inverse_harmonic_mean_rank</td><td>▁</td></tr><tr><td>validation.both.realistic.adjusted_arithmetic_mean_rank</td><td>▁</td></tr><tr><td>validation.both.realistic.adjusted_arithmetic_mean_rank_index</td><td>▁</td></tr><tr><td>validation.both.realistic.adjusted_geometric_mean_rank_index</td><td>▁</td></tr><tr><td>validation.both.realistic.adjusted_hits_at_k</td><td>▁</td></tr><tr><td>validation.both.realistic.adjusted_inverse_harmonic_mean_rank</td><td>▁</td></tr><tr><td>validation.both.realistic.arithmetic_mean_rank</td><td>▁</td></tr><tr><td>validation.both.realistic.count</td><td>▁</td></tr><tr><td>validation.both.realistic.geometric_mean_rank</td><td>▁</td></tr><tr><td>validation.both.realistic.harmonic_mean_rank</td><td>▁</td></tr><tr><td>validation.both.realistic.hits_at_1</td><td>▁</td></tr><tr><td>validation.both.realistic.hits_at_10</td><td>▁</td></tr><tr><td>validation.both.realistic.hits_at_3</td><td>▁</td></tr><tr><td>validation.both.realistic.hits_at_5</td><td>▁</td></tr><tr><td>validation.both.realistic.inverse_arithmetic_mean_rank</td><td>▁</td></tr><tr><td>validation.both.realistic.inverse_geometric_mean_rank</td><td>▁</td></tr><tr><td>validation.both.realistic.inverse_harmonic_mean_rank</td><td>▁</td></tr><tr><td>validation.both.realistic.inverse_median_rank</td><td>▁</td></tr><tr><td>validation.both.realistic.median_absolute_deviation</td><td>▁</td></tr><tr><td>validation.both.realistic.median_rank</td><td>▁</td></tr><tr><td>validation.both.realistic.standard_deviation</td><td>▁</td></tr><tr><td>validation.both.realistic.variance</td><td>▁</td></tr><tr><td>validation.both.realistic.z_arithmetic_mean_rank</td><td>▁</td></tr><tr><td>validation.both.realistic.z_geometric_mean_rank</td><td>▁</td></tr><tr><td>validation.both.realistic.z_hits_at_k</td><td>▁</td></tr><tr><td>validation.both.realistic.z_inverse_harmonic_mean_rank</td><td>▁</td></tr><tr><td>validation.head.optimistic.adjusted_arithmetic_mean_rank</td><td>▁</td></tr><tr><td>validation.head.optimistic.adjusted_arithmetic_mean_rank_index</td><td>▁</td></tr><tr><td>validation.head.optimistic.adjusted_geometric_mean_rank_index</td><td>▁</td></tr><tr><td>validation.head.optimistic.adjusted_hits_at_k</td><td>▁</td></tr><tr><td>validation.head.optimistic.adjusted_inverse_harmonic_mean_rank</td><td>▁</td></tr><tr><td>validation.head.optimistic.arithmetic_mean_rank</td><td>▁</td></tr><tr><td>validation.head.optimistic.count</td><td>▁</td></tr><tr><td>validation.head.optimistic.geometric_mean_rank</td><td>▁</td></tr><tr><td>validation.head.optimistic.harmonic_mean_rank</td><td>▁</td></tr><tr><td>validation.head.optimistic.hits_at_1</td><td>▁</td></tr><tr><td>validation.head.optimistic.hits_at_10</td><td>▁</td></tr><tr><td>validation.head.optimistic.hits_at_3</td><td>▁</td></tr><tr><td>validation.head.optimistic.hits_at_5</td><td>▁</td></tr><tr><td>validation.head.optimistic.inverse_arithmetic_mean_rank</td><td>▁</td></tr><tr><td>validation.head.optimistic.inverse_geometric_mean_rank</td><td>▁</td></tr><tr><td>validation.head.optimistic.inverse_harmonic_mean_rank</td><td>▁</td></tr><tr><td>validation.head.optimistic.inverse_median_rank</td><td>▁</td></tr><tr><td>validation.head.optimistic.median_absolute_deviation</td><td>▁</td></tr><tr><td>validation.head.optimistic.median_rank</td><td>▁</td></tr><tr><td>validation.head.optimistic.standard_deviation</td><td>▁</td></tr><tr><td>validation.head.optimistic.variance</td><td>▁</td></tr><tr><td>validation.head.optimistic.z_arithmetic_mean_rank</td><td>▁</td></tr><tr><td>validation.head.optimistic.z_geometric_mean_rank</td><td>▁</td></tr><tr><td>validation.head.optimistic.z_hits_at_k</td><td>▁</td></tr><tr><td>validation.head.optimistic.z_inverse_harmonic_mean_rank</td><td>▁</td></tr><tr><td>validation.head.pessimistic.adjusted_arithmetic_mean_rank</td><td>▁</td></tr><tr><td>validation.head.pessimistic.adjusted_arithmetic_mean_rank_index</td><td>▁</td></tr><tr><td>validation.head.pessimistic.adjusted_geometric_mean_rank_index</td><td>▁</td></tr><tr><td>validation.head.pessimistic.adjusted_hits_at_k</td><td>▁</td></tr><tr><td>validation.head.pessimistic.adjusted_inverse_harmonic_mean_rank</td><td>▁</td></tr><tr><td>validation.head.pessimistic.arithmetic_mean_rank</td><td>▁</td></tr><tr><td>validation.head.pessimistic.count</td><td>▁</td></tr><tr><td>validation.head.pessimistic.geometric_mean_rank</td><td>▁</td></tr><tr><td>validation.head.pessimistic.harmonic_mean_rank</td><td>▁</td></tr><tr><td>validation.head.pessimistic.hits_at_1</td><td>▁</td></tr><tr><td>validation.head.pessimistic.hits_at_10</td><td>▁</td></tr><tr><td>validation.head.pessimistic.hits_at_3</td><td>▁</td></tr><tr><td>validation.head.pessimistic.hits_at_5</td><td>▁</td></tr><tr><td>validation.head.pessimistic.inverse_arithmetic_mean_rank</td><td>▁</td></tr><tr><td>validation.head.pessimistic.inverse_geometric_mean_rank</td><td>▁</td></tr><tr><td>validation.head.pessimistic.inverse_harmonic_mean_rank</td><td>▁</td></tr><tr><td>validation.head.pessimistic.inverse_median_rank</td><td>▁</td></tr><tr><td>validation.head.pessimistic.median_absolute_deviation</td><td>▁</td></tr><tr><td>validation.head.pessimistic.median_rank</td><td>▁</td></tr><tr><td>validation.head.pessimistic.standard_deviation</td><td>▁</td></tr><tr><td>validation.head.pessimistic.variance</td><td>▁</td></tr><tr><td>validation.head.pessimistic.z_arithmetic_mean_rank</td><td>▁</td></tr><tr><td>validation.head.pessimistic.z_geometric_mean_rank</td><td>▁</td></tr><tr><td>validation.head.pessimistic.z_hits_at_k</td><td>▁</td></tr><tr><td>validation.head.pessimistic.z_inverse_harmonic_mean_rank</td><td>▁</td></tr><tr><td>validation.head.realistic.adjusted_arithmetic_mean_rank</td><td>▁</td></tr><tr><td>validation.head.realistic.adjusted_arithmetic_mean_rank_index</td><td>▁</td></tr><tr><td>validation.head.realistic.adjusted_geometric_mean_rank_index</td><td>▁</td></tr><tr><td>validation.head.realistic.adjusted_hits_at_k</td><td>▁</td></tr><tr><td>validation.head.realistic.adjusted_inverse_harmonic_mean_rank</td><td>▁</td></tr><tr><td>validation.head.realistic.arithmetic_mean_rank</td><td>▁</td></tr><tr><td>validation.head.realistic.count</td><td>▁</td></tr><tr><td>validation.head.realistic.geometric_mean_rank</td><td>▁</td></tr><tr><td>validation.head.realistic.harmonic_mean_rank</td><td>▁</td></tr><tr><td>validation.head.realistic.hits_at_1</td><td>▁</td></tr><tr><td>validation.head.realistic.hits_at_10</td><td>▁</td></tr><tr><td>validation.head.realistic.hits_at_3</td><td>▁</td></tr><tr><td>validation.head.realistic.hits_at_5</td><td>▁</td></tr><tr><td>validation.head.realistic.inverse_arithmetic_mean_rank</td><td>▁</td></tr><tr><td>validation.head.realistic.inverse_geometric_mean_rank</td><td>▁</td></tr><tr><td>validation.head.realistic.inverse_harmonic_mean_rank</td><td>▁</td></tr><tr><td>validation.head.realistic.inverse_median_rank</td><td>▁</td></tr><tr><td>validation.head.realistic.median_absolute_deviation</td><td>▁</td></tr><tr><td>validation.head.realistic.median_rank</td><td>▁</td></tr><tr><td>validation.head.realistic.standard_deviation</td><td>▁</td></tr><tr><td>validation.head.realistic.variance</td><td>▁</td></tr><tr><td>validation.head.realistic.z_arithmetic_mean_rank</td><td>▁</td></tr><tr><td>validation.head.realistic.z_geometric_mean_rank</td><td>▁</td></tr><tr><td>validation.head.realistic.z_hits_at_k</td><td>▁</td></tr><tr><td>validation.head.realistic.z_inverse_harmonic_mean_rank</td><td>▁</td></tr><tr><td>validation.tail.optimistic.adjusted_arithmetic_mean_rank</td><td>▁</td></tr><tr><td>validation.tail.optimistic.adjusted_arithmetic_mean_rank_index</td><td>▁</td></tr><tr><td>validation.tail.optimistic.adjusted_geometric_mean_rank_index</td><td>▁</td></tr><tr><td>validation.tail.optimistic.adjusted_hits_at_k</td><td>▁</td></tr><tr><td>validation.tail.optimistic.adjusted_inverse_harmonic_mean_rank</td><td>▁</td></tr><tr><td>validation.tail.optimistic.arithmetic_mean_rank</td><td>▁</td></tr><tr><td>validation.tail.optimistic.count</td><td>▁</td></tr><tr><td>validation.tail.optimistic.geometric_mean_rank</td><td>▁</td></tr><tr><td>validation.tail.optimistic.harmonic_mean_rank</td><td>▁</td></tr><tr><td>validation.tail.optimistic.hits_at_1</td><td>▁</td></tr><tr><td>validation.tail.optimistic.hits_at_10</td><td>▁</td></tr><tr><td>validation.tail.optimistic.hits_at_3</td><td>▁</td></tr><tr><td>validation.tail.optimistic.hits_at_5</td><td>▁</td></tr><tr><td>validation.tail.optimistic.inverse_arithmetic_mean_rank</td><td>▁</td></tr><tr><td>validation.tail.optimistic.inverse_geometric_mean_rank</td><td>▁</td></tr><tr><td>validation.tail.optimistic.inverse_harmonic_mean_rank</td><td>▁</td></tr><tr><td>validation.tail.optimistic.inverse_median_rank</td><td>▁</td></tr><tr><td>validation.tail.optimistic.median_absolute_deviation</td><td>▁</td></tr><tr><td>validation.tail.optimistic.median_rank</td><td>▁</td></tr><tr><td>validation.tail.optimistic.standard_deviation</td><td>▁</td></tr><tr><td>validation.tail.optimistic.variance</td><td>▁</td></tr><tr><td>validation.tail.optimistic.z_arithmetic_mean_rank</td><td>▁</td></tr><tr><td>validation.tail.optimistic.z_geometric_mean_rank</td><td>▁</td></tr><tr><td>validation.tail.optimistic.z_hits_at_k</td><td>▁</td></tr><tr><td>validation.tail.optimistic.z_inverse_harmonic_mean_rank</td><td>▁</td></tr><tr><td>validation.tail.pessimistic.adjusted_arithmetic_mean_rank</td><td>▁</td></tr><tr><td>validation.tail.pessimistic.adjusted_arithmetic_mean_rank_index</td><td>▁</td></tr><tr><td>validation.tail.pessimistic.adjusted_geometric_mean_rank_index</td><td>▁</td></tr><tr><td>validation.tail.pessimistic.adjusted_hits_at_k</td><td>▁</td></tr><tr><td>validation.tail.pessimistic.adjusted_inverse_harmonic_mean_rank</td><td>▁</td></tr><tr><td>validation.tail.pessimistic.arithmetic_mean_rank</td><td>▁</td></tr><tr><td>validation.tail.pessimistic.count</td><td>▁</td></tr><tr><td>validation.tail.pessimistic.geometric_mean_rank</td><td>▁</td></tr><tr><td>validation.tail.pessimistic.harmonic_mean_rank</td><td>▁</td></tr><tr><td>validation.tail.pessimistic.hits_at_1</td><td>▁</td></tr><tr><td>validation.tail.pessimistic.hits_at_10</td><td>▁</td></tr><tr><td>validation.tail.pessimistic.hits_at_3</td><td>▁</td></tr><tr><td>validation.tail.pessimistic.hits_at_5</td><td>▁</td></tr><tr><td>validation.tail.pessimistic.inverse_arithmetic_mean_rank</td><td>▁</td></tr><tr><td>validation.tail.pessimistic.inverse_geometric_mean_rank</td><td>▁</td></tr><tr><td>validation.tail.pessimistic.inverse_harmonic_mean_rank</td><td>▁</td></tr><tr><td>validation.tail.pessimistic.inverse_median_rank</td><td>▁</td></tr><tr><td>validation.tail.pessimistic.median_absolute_deviation</td><td>▁</td></tr><tr><td>validation.tail.pessimistic.median_rank</td><td>▁</td></tr><tr><td>validation.tail.pessimistic.standard_deviation</td><td>▁</td></tr><tr><td>validation.tail.pessimistic.variance</td><td>▁</td></tr><tr><td>validation.tail.pessimistic.z_arithmetic_mean_rank</td><td>▁</td></tr><tr><td>validation.tail.pessimistic.z_geometric_mean_rank</td><td>▁</td></tr><tr><td>validation.tail.pessimistic.z_hits_at_k</td><td>▁</td></tr><tr><td>validation.tail.pessimistic.z_inverse_harmonic_mean_rank</td><td>▁</td></tr><tr><td>validation.tail.realistic.adjusted_arithmetic_mean_rank</td><td>▁</td></tr><tr><td>validation.tail.realistic.adjusted_arithmetic_mean_rank_index</td><td>▁</td></tr><tr><td>validation.tail.realistic.adjusted_geometric_mean_rank_index</td><td>▁</td></tr><tr><td>validation.tail.realistic.adjusted_hits_at_k</td><td>▁</td></tr><tr><td>validation.tail.realistic.adjusted_inverse_harmonic_mean_rank</td><td>▁</td></tr><tr><td>validation.tail.realistic.arithmetic_mean_rank</td><td>▁</td></tr><tr><td>validation.tail.realistic.count</td><td>▁</td></tr><tr><td>validation.tail.realistic.geometric_mean_rank</td><td>▁</td></tr><tr><td>validation.tail.realistic.harmonic_mean_rank</td><td>▁</td></tr><tr><td>validation.tail.realistic.hits_at_1</td><td>▁</td></tr><tr><td>validation.tail.realistic.hits_at_10</td><td>▁</td></tr><tr><td>validation.tail.realistic.hits_at_3</td><td>▁</td></tr><tr><td>validation.tail.realistic.hits_at_5</td><td>▁</td></tr><tr><td>validation.tail.realistic.inverse_arithmetic_mean_rank</td><td>▁</td></tr><tr><td>validation.tail.realistic.inverse_geometric_mean_rank</td><td>▁</td></tr><tr><td>validation.tail.realistic.inverse_harmonic_mean_rank</td><td>▁</td></tr><tr><td>validation.tail.realistic.inverse_median_rank</td><td>▁</td></tr><tr><td>validation.tail.realistic.median_absolute_deviation</td><td>▁</td></tr><tr><td>validation.tail.realistic.median_rank</td><td>▁</td></tr><tr><td>validation.tail.realistic.standard_deviation</td><td>▁</td></tr><tr><td>validation.tail.realistic.variance</td><td>▁</td></tr><tr><td>validation.tail.realistic.z_arithmetic_mean_rank</td><td>▁</td></tr><tr><td>validation.tail.realistic.z_geometric_mean_rank</td><td>▁</td></tr><tr><td>validation.tail.realistic.z_hits_at_k</td><td>▁</td></tr><tr><td>validation.tail.realistic.z_inverse_harmonic_mean_rank</td><td>▁</td></tr></table><br/></div><div class=\"wandb-col\"><h3>Run summary:</h3><br/><table class=\"wandb\"><tr><td>loss</td><td>0.05488</td></tr><tr><td>testing.both.optimistic.adjusted_arithmetic_mean_rank</td><td>0.15968</td></tr><tr><td>testing.both.optimistic.adjusted_arithmetic_mean_rank_index</td><td>0.84036</td></tr><tr><td>testing.both.optimistic.adjusted_geometric_mean_rank_index</td><td>0.99858</td></tr><tr><td>testing.both.optimistic.adjusted_hits_at_k</td><td>0.5635</td></tr><tr><td>testing.both.optimistic.adjusted_inverse_harmonic_mean_rank</td><td>0.47221</td></tr><tr><td>testing.both.optimistic.arithmetic_mean_rank</td><td>3237.09918</td></tr><tr><td>testing.both.optimistic.count</td><td>5848.0</td></tr><tr><td>testing.both.optimistic.geometric_mean_rank</td><td>22.20955</td></tr><tr><td>testing.both.optimistic.harmonic_mean_rank</td><td>2.11706</td></tr><tr><td>testing.both.optimistic.hits_at_1</td><td>0.42715</td></tr><tr><td>testing.both.optimistic.hits_at_10</td><td>0.56361</td></tr><tr><td>testing.both.optimistic.hits_at_3</td><td>0.48718</td></tr><tr><td>testing.both.optimistic.hits_at_5</td><td>0.51898</td></tr><tr><td>testing.both.optimistic.inverse_arithmetic_mean_rank</td><td>0.00031</td></tr><tr><td>testing.both.optimistic.inverse_geometric_mean_rank</td><td>0.04503</td></tr><tr><td>testing.both.optimistic.inverse_harmonic_mean_rank</td><td>0.47235</td></tr><tr><td>testing.both.optimistic.inverse_median_rank</td><td>0.25</td></tr><tr><td>testing.both.optimistic.median_absolute_deviation</td><td>4.44781</td></tr><tr><td>testing.both.optimistic.median_rank</td><td>4.0</td></tr><tr><td>testing.both.optimistic.standard_deviation</td><td>8675.80246</td></tr><tr><td>testing.both.optimistic.variance</td><td>75269548.34139</td></tr><tr><td>testing.both.optimistic.z_arithmetic_mean_rank</td><td>111.30631</td></tr><tr><td>testing.both.optimistic.z_geometric_mean_rank</td><td>76.42971</td></tr><tr><td>testing.both.optimistic.z_hits_at_k</td><td>2743.5339</td></tr><tr><td>testing.both.optimistic.z_inverse_harmonic_mean_rank</td><td>5673.04396</td></tr><tr><td>testing.both.pessimistic.adjusted_arithmetic_mean_rank</td><td>0.15968</td></tr><tr><td>testing.both.pessimistic.adjusted_arithmetic_mean_rank_index</td><td>0.84036</td></tr><tr><td>testing.both.pessimistic.adjusted_geometric_mean_rank_index</td><td>0.99858</td></tr><tr><td>testing.both.pessimistic.adjusted_hits_at_k</td><td>0.5635</td></tr><tr><td>testing.both.pessimistic.adjusted_inverse_harmonic_mean_rank</td><td>0.47221</td></tr><tr><td>testing.both.pessimistic.arithmetic_mean_rank</td><td>3237.10363</td></tr><tr><td>testing.both.pessimistic.count</td><td>5848.0</td></tr><tr><td>testing.both.pessimistic.geometric_mean_rank</td><td>22.20956</td></tr><tr><td>testing.both.pessimistic.harmonic_mean_rank</td><td>2.11706</td></tr><tr><td>testing.both.pessimistic.hits_at_1</td><td>0.42715</td></tr><tr><td>testing.both.pessimistic.hits_at_10</td><td>0.56361</td></tr><tr><td>testing.both.pessimistic.hits_at_3</td><td>0.48718</td></tr><tr><td>testing.both.pessimistic.hits_at_5</td><td>0.51898</td></tr><tr><td>testing.both.pessimistic.inverse_arithmetic_mean_rank</td><td>0.00031</td></tr><tr><td>testing.both.pessimistic.inverse_geometric_mean_rank</td><td>0.04503</td></tr><tr><td>testing.both.pessimistic.inverse_harmonic_mean_rank</td><td>0.47235</td></tr><tr><td>testing.both.pessimistic.inverse_median_rank</td><td>0.25</td></tr><tr><td>testing.both.pessimistic.median_absolute_deviation</td><td>4.44781</td></tr><tr><td>testing.both.pessimistic.median_rank</td><td>4.0</td></tr><tr><td>testing.both.pessimistic.standard_deviation</td><td>8675.81129</td></tr><tr><td>testing.both.pessimistic.variance</td><td>75269701.60622</td></tr><tr><td>testing.both.pessimistic.z_arithmetic_mean_rank</td><td>111.30628</td></tr><tr><td>testing.both.pessimistic.z_geometric_mean_rank</td><td>76.42971</td></tr><tr><td>testing.both.pessimistic.z_hits_at_k</td><td>2743.5339</td></tr><tr><td>testing.both.pessimistic.z_inverse_harmonic_mean_rank</td><td>5673.04396</td></tr><tr><td>testing.both.realistic.adjusted_arithmetic_mean_rank</td><td>0.15968</td></tr><tr><td>testing.both.realistic.adjusted_arithmetic_mean_rank_index</td><td>0.84036</td></tr><tr><td>testing.both.realistic.adjusted_geometric_mean_rank_index</td><td>0.99858</td></tr><tr><td>testing.both.realistic.adjusted_hits_at_k</td><td>0.5635</td></tr><tr><td>testing.both.realistic.adjusted_inverse_harmonic_mean_rank</td><td>0.47221</td></tr><tr><td>testing.both.realistic.arithmetic_mean_rank</td><td>3237.10156</td></tr><tr><td>testing.both.realistic.count</td><td>5848.0</td></tr><tr><td>testing.both.realistic.geometric_mean_rank</td><td>22.20955</td></tr><tr><td>testing.both.realistic.harmonic_mean_rank</td><td>2.11706</td></tr><tr><td>testing.both.realistic.hits_at_1</td><td>0.42715</td></tr><tr><td>testing.both.realistic.hits_at_10</td><td>0.56361</td></tr><tr><td>testing.both.realistic.hits_at_3</td><td>0.48718</td></tr><tr><td>testing.both.realistic.hits_at_5</td><td>0.51898</td></tr><tr><td>testing.both.realistic.inverse_arithmetic_mean_rank</td><td>0.00031</td></tr><tr><td>testing.both.realistic.inverse_geometric_mean_rank</td><td>0.04503</td></tr><tr><td>testing.both.realistic.inverse_harmonic_mean_rank</td><td>0.47235</td></tr><tr><td>testing.both.realistic.inverse_median_rank</td><td>0.25</td></tr><tr><td>testing.both.realistic.median_absolute_deviation</td><td>4.44781</td></tr><tr><td>testing.both.realistic.median_rank</td><td>4.0</td></tr><tr><td>testing.both.realistic.standard_deviation</td><td>8675.80664</td></tr><tr><td>testing.both.realistic.variance</td><td>75269624.0</td></tr><tr><td>testing.both.realistic.z_arithmetic_mean_rank</td><td>111.3063</td></tr><tr><td>testing.both.realistic.z_geometric_mean_rank</td><td>76.42971</td></tr><tr><td>testing.both.realistic.z_hits_at_k</td><td>2743.5339</td></tr><tr><td>testing.both.realistic.z_inverse_harmonic_mean_rank</td><td>5673.04372</td></tr><tr><td>testing.head.optimistic.adjusted_arithmetic_mean_rank</td><td>0.22151</td></tr><tr><td>testing.head.optimistic.adjusted_arithmetic_mean_rank_index</td><td>0.77852</td></tr><tr><td>testing.head.optimistic.adjusted_geometric_mean_rank_index</td><td>0.99775</td></tr><tr><td>testing.head.optimistic.adjusted_hits_at_k</td><td>0.52006</td></tr><tr><td>testing.head.optimistic.adjusted_inverse_harmonic_mean_rank</td><td>0.44557</td></tr><tr><td>testing.head.optimistic.arithmetic_mean_rank</td><td>4489.67647</td></tr><tr><td>testing.head.optimistic.count</td><td>2924.0</td></tr><tr><td>testing.head.optimistic.geometric_mean_rank</td><td>34.62551</td></tr><tr><td>testing.head.optimistic.harmonic_mean_rank</td><td>2.24353</td></tr><tr><td>testing.head.optimistic.hits_at_1</td><td>0.40732</td></tr><tr><td>testing.head.optimistic.hits_at_10</td><td>0.52018</td></tr><tr><td>testing.head.optimistic.hits_at_3</td><td>0.45691</td></tr><tr><td>testing.head.optimistic.hits_at_5</td><td>0.48495</td></tr><tr><td>testing.head.optimistic.inverse_arithmetic_mean_rank</td><td>0.00022</td></tr><tr><td>testing.head.optimistic.inverse_geometric_mean_rank</td><td>0.02888</td></tr><tr><td>testing.head.optimistic.inverse_harmonic_mean_rank</td><td>0.44573</td></tr><tr><td>testing.head.optimistic.inverse_median_rank</td><td>0.14286</td></tr><tr><td>testing.head.optimistic.median_absolute_deviation</td><td>8.89561</td></tr><tr><td>testing.head.optimistic.median_rank</td><td>7.0</td></tr><tr><td>testing.head.optimistic.standard_deviation</td><td>10212.52179</td></tr><tr><td>testing.head.optimistic.variance</td><td>104295601.26674</td></tr><tr><td>testing.head.optimistic.z_arithmetic_mean_rank</td><td>72.91377</td></tr><tr><td>testing.head.optimistic.z_geometric_mean_rank</td><td>54.00575</td></tr><tr><td>testing.head.optimistic.z_hits_at_k</td><td>1790.20596</td></tr><tr><td>testing.head.optimistic.z_inverse_harmonic_mean_rank</td><td>3784.76971</td></tr><tr><td>testing.head.pessimistic.adjusted_arithmetic_mean_rank</td><td>0.22152</td></tr><tr><td>testing.head.pessimistic.adjusted_arithmetic_mean_rank_index</td><td>0.77852</td></tr><tr><td>testing.head.pessimistic.adjusted_geometric_mean_rank_index</td><td>0.99775</td></tr><tr><td>testing.head.pessimistic.adjusted_hits_at_k</td><td>0.52006</td></tr><tr><td>testing.head.pessimistic.adjusted_inverse_harmonic_mean_rank</td><td>0.44557</td></tr><tr><td>testing.head.pessimistic.arithmetic_mean_rank</td><td>4489.68228</td></tr><tr><td>testing.head.pessimistic.count</td><td>2924.0</td></tr><tr><td>testing.head.pessimistic.geometric_mean_rank</td><td>34.62552</td></tr><tr><td>testing.head.pessimistic.harmonic_mean_rank</td><td>2.24353</td></tr><tr><td>testing.head.pessimistic.hits_at_1</td><td>0.40732</td></tr><tr><td>testing.head.pessimistic.hits_at_10</td><td>0.52018</td></tr><tr><td>testing.head.pessimistic.hits_at_3</td><td>0.45691</td></tr><tr><td>testing.head.pessimistic.hits_at_5</td><td>0.48495</td></tr><tr><td>testing.head.pessimistic.inverse_arithmetic_mean_rank</td><td>0.00022</td></tr><tr><td>testing.head.pessimistic.inverse_geometric_mean_rank</td><td>0.02888</td></tr><tr><td>testing.head.pessimistic.inverse_harmonic_mean_rank</td><td>0.44573</td></tr><tr><td>testing.head.pessimistic.inverse_median_rank</td><td>0.14286</td></tr><tr><td>testing.head.pessimistic.median_absolute_deviation</td><td>8.89561</td></tr><tr><td>testing.head.pessimistic.median_rank</td><td>7.0</td></tr><tr><td>testing.head.pessimistic.standard_deviation</td><td>10212.53041</td></tr><tr><td>testing.head.pessimistic.variance</td><td>104295777.41718</td></tr><tr><td>testing.head.pessimistic.z_arithmetic_mean_rank</td><td>72.91375</td></tr><tr><td>testing.head.pessimistic.z_geometric_mean_rank</td><td>54.00575</td></tr><tr><td>testing.head.pessimistic.z_hits_at_k</td><td>1790.20596</td></tr><tr><td>testing.head.pessimistic.z_inverse_harmonic_mean_rank</td><td>3784.76971</td></tr><tr><td>testing.head.realistic.adjusted_arithmetic_mean_rank</td><td>0.22152</td></tr><tr><td>testing.head.realistic.adjusted_arithmetic_mean_rank_index</td><td>0.77852</td></tr><tr><td>testing.head.realistic.adjusted_geometric_mean_rank_index</td><td>0.99775</td></tr><tr><td>testing.head.realistic.adjusted_hits_at_k</td><td>0.52006</td></tr><tr><td>testing.head.realistic.adjusted_inverse_harmonic_mean_rank</td><td>0.44557</td></tr><tr><td>testing.head.realistic.arithmetic_mean_rank</td><td>4489.6792</td></tr><tr><td>testing.head.realistic.count</td><td>2924.0</td></tr><tr><td>testing.head.realistic.geometric_mean_rank</td><td>34.6255</td></tr><tr><td>testing.head.realistic.harmonic_mean_rank</td><td>2.24353</td></tr><tr><td>testing.head.realistic.hits_at_1</td><td>0.40732</td></tr><tr><td>testing.head.realistic.hits_at_10</td><td>0.52018</td></tr><tr><td>testing.head.realistic.hits_at_3</td><td>0.45691</td></tr><tr><td>testing.head.realistic.hits_at_5</td><td>0.48495</td></tr><tr><td>testing.head.realistic.inverse_arithmetic_mean_rank</td><td>0.00022</td></tr><tr><td>testing.head.realistic.inverse_geometric_mean_rank</td><td>0.02888</td></tr><tr><td>testing.head.realistic.inverse_harmonic_mean_rank</td><td>0.44573</td></tr><tr><td>testing.head.realistic.inverse_median_rank</td><td>0.14286</td></tr><tr><td>testing.head.realistic.median_absolute_deviation</td><td>8.89561</td></tr><tr><td>testing.head.realistic.median_rank</td><td>7.0</td></tr><tr><td>testing.head.realistic.standard_deviation</td><td>10212.52539</td></tr><tr><td>testing.head.realistic.variance</td><td>104295680.0</td></tr><tr><td>testing.head.realistic.z_arithmetic_mean_rank</td><td>72.91376</td></tr><tr><td>testing.head.realistic.z_geometric_mean_rank</td><td>54.00575</td></tr><tr><td>testing.head.realistic.z_hits_at_k</td><td>1790.20596</td></tr><tr><td>testing.head.realistic.z_inverse_harmonic_mean_rank</td><td>3784.76955</td></tr><tr><td>testing.tail.optimistic.adjusted_arithmetic_mean_rank</td><td>0.09787</td></tr><tr><td>testing.tail.optimistic.adjusted_arithmetic_mean_rank_index</td><td>0.90217</td></tr><tr><td>testing.tail.optimistic.adjusted_geometric_mean_rank_index</td><td>0.99911</td></tr><tr><td>testing.tail.optimistic.adjusted_hits_at_k</td><td>0.60695</td></tr><tr><td>testing.tail.optimistic.adjusted_inverse_harmonic_mean_rank</td><td>0.49884</td></tr><tr><td>testing.tail.optimistic.arithmetic_mean_rank</td><td>1984.52189</td></tr><tr><td>testing.tail.optimistic.count</td><td>2924.0</td></tr><tr><td>testing.tail.optimistic.geometric_mean_rank</td><td>14.24568</td></tr><tr><td>testing.tail.optimistic.harmonic_mean_rank</td><td>2.00409</td></tr><tr><td>testing.tail.optimistic.hits_at_1</td><td>0.44699</td></tr><tr><td>testing.tail.optimistic.hits_at_10</td><td>0.60705</td></tr><tr><td>testing.tail.optimistic.hits_at_3</td><td>0.51744</td></tr><tr><td>testing.tail.optimistic.hits_at_5</td><td>0.55301</td></tr><tr><td>testing.tail.optimistic.inverse_arithmetic_mean_rank</td><td>0.0005</td></tr><tr><td>testing.tail.optimistic.inverse_geometric_mean_rank</td><td>0.0702</td></tr><tr><td>testing.tail.optimistic.inverse_harmonic_mean_rank</td><td>0.49898</td></tr><tr><td>testing.tail.optimistic.inverse_median_rank</td><td>0.33333</td></tr><tr><td>testing.tail.optimistic.median_absolute_deviation</td><td>2.9652</td></tr><tr><td>testing.tail.optimistic.median_rank</td><td>3.0</td></tr><tr><td>testing.tail.optimistic.standard_deviation</td><td>6565.48518</td></tr><tr><td>testing.tail.optimistic.variance</td><td>43105595.67428</td></tr><tr><td>testing.tail.optimistic.z_arithmetic_mean_rank</td><td>84.49456</td></tr><tr><td>testing.tail.optimistic.z_geometric_mean_rank</td><td>54.07972</td></tr><tr><td>testing.tail.optimistic.z_hits_at_k</td><td>2089.77032</td></tr><tr><td>testing.tail.optimistic.z_inverse_harmonic_mean_rank</td><td>4238.17653</td></tr><tr><td>testing.tail.pessimistic.adjusted_arithmetic_mean_rank</td><td>0.09787</td></tr><tr><td>testing.tail.pessimistic.adjusted_arithmetic_mean_rank_index</td><td>0.90217</td></tr><tr><td>testing.tail.pessimistic.adjusted_geometric_mean_rank_index</td><td>0.99911</td></tr><tr><td>testing.tail.pessimistic.adjusted_hits_at_k</td><td>0.60695</td></tr><tr><td>testing.tail.pessimistic.adjusted_inverse_harmonic_mean_rank</td><td>0.49884</td></tr><tr><td>testing.tail.pessimistic.arithmetic_mean_rank</td><td>1984.52497</td></tr><tr><td>testing.tail.pessimistic.count</td><td>2924.0</td></tr><tr><td>testing.tail.pessimistic.geometric_mean_rank</td><td>14.24569</td></tr><tr><td>testing.tail.pessimistic.harmonic_mean_rank</td><td>2.00409</td></tr><tr><td>testing.tail.pessimistic.hits_at_1</td><td>0.44699</td></tr><tr><td>testing.tail.pessimistic.hits_at_10</td><td>0.60705</td></tr><tr><td>testing.tail.pessimistic.hits_at_3</td><td>0.51744</td></tr><tr><td>testing.tail.pessimistic.hits_at_5</td><td>0.55301</td></tr><tr><td>testing.tail.pessimistic.inverse_arithmetic_mean_rank</td><td>0.0005</td></tr><tr><td>testing.tail.pessimistic.inverse_geometric_mean_rank</td><td>0.0702</td></tr><tr><td>testing.tail.pessimistic.inverse_harmonic_mean_rank</td><td>0.49898</td></tr><tr><td>testing.tail.pessimistic.inverse_median_rank</td><td>0.33333</td></tr><tr><td>testing.tail.pessimistic.median_absolute_deviation</td><td>2.9652</td></tr><tr><td>testing.tail.pessimistic.median_rank</td><td>3.0</td></tr><tr><td>testing.tail.pessimistic.standard_deviation</td><td>6565.49459</td></tr><tr><td>testing.tail.pessimistic.variance</td><td>43105719.19945</td></tr><tr><td>testing.tail.pessimistic.z_arithmetic_mean_rank</td><td>84.49455</td></tr><tr><td>testing.tail.pessimistic.z_geometric_mean_rank</td><td>54.07972</td></tr><tr><td>testing.tail.pessimistic.z_hits_at_k</td><td>2089.77032</td></tr><tr><td>testing.tail.pessimistic.z_inverse_harmonic_mean_rank</td><td>4238.17653</td></tr><tr><td>testing.tail.realistic.adjusted_arithmetic_mean_rank</td><td>0.09787</td></tr><tr><td>testing.tail.realistic.adjusted_arithmetic_mean_rank_index</td><td>0.90217</td></tr><tr><td>testing.tail.realistic.adjusted_geometric_mean_rank_index</td><td>0.99911</td></tr><tr><td>testing.tail.realistic.adjusted_hits_at_k</td><td>0.60695</td></tr><tr><td>testing.tail.realistic.adjusted_inverse_harmonic_mean_rank</td><td>0.49884</td></tr><tr><td>testing.tail.realistic.arithmetic_mean_rank</td><td>1984.52344</td></tr><tr><td>testing.tail.realistic.count</td><td>2924.0</td></tr><tr><td>testing.tail.realistic.geometric_mean_rank</td><td>14.24568</td></tr><tr><td>testing.tail.realistic.harmonic_mean_rank</td><td>2.00409</td></tr><tr><td>testing.tail.realistic.hits_at_1</td><td>0.44699</td></tr><tr><td>testing.tail.realistic.hits_at_10</td><td>0.60705</td></tr><tr><td>testing.tail.realistic.hits_at_3</td><td>0.51744</td></tr><tr><td>testing.tail.realistic.hits_at_5</td><td>0.55301</td></tr><tr><td>testing.tail.realistic.inverse_arithmetic_mean_rank</td><td>0.0005</td></tr><tr><td>testing.tail.realistic.inverse_geometric_mean_rank</td><td>0.0702</td></tr><tr><td>testing.tail.realistic.inverse_harmonic_mean_rank</td><td>0.49898</td></tr><tr><td>testing.tail.realistic.inverse_median_rank</td><td>0.33333</td></tr><tr><td>testing.tail.realistic.median_absolute_deviation</td><td>2.9652</td></tr><tr><td>testing.tail.realistic.median_rank</td><td>3.0</td></tr><tr><td>testing.tail.realistic.standard_deviation</td><td>6565.48975</td></tr><tr><td>testing.tail.realistic.variance</td><td>43105656.0</td></tr><tr><td>testing.tail.realistic.z_arithmetic_mean_rank</td><td>84.49456</td></tr><tr><td>testing.tail.realistic.z_geometric_mean_rank</td><td>54.07972</td></tr><tr><td>testing.tail.realistic.z_hits_at_k</td><td>2089.77032</td></tr><tr><td>testing.tail.realistic.z_inverse_harmonic_mean_rank</td><td>4238.17661</td></tr><tr><td>times.final_evaluation</td><td>1.85407</td></tr><tr><td>times.total_training</td><td>3208.86436</td></tr><tr><td>validation.both.optimistic.adjusted_arithmetic_mean_rank</td><td>0.15392</td></tr><tr><td>validation.both.optimistic.adjusted_arithmetic_mean_rank_index</td><td>0.84612</td></tr><tr><td>validation.both.optimistic.adjusted_geometric_mean_rank_index</td><td>0.9986</td></tr><tr><td>validation.both.optimistic.adjusted_hits_at_k</td><td>0.55513</td></tr><tr><td>validation.both.optimistic.adjusted_inverse_harmonic_mean_rank</td><td>0.46384</td></tr><tr><td>validation.both.optimistic.arithmetic_mean_rank</td><td>3120.45149</td></tr><tr><td>validation.both.optimistic.count</td><td>5648.0</td></tr><tr><td>validation.both.optimistic.geometric_mean_rank</td><td>21.93552</td></tr><tr><td>validation.both.optimistic.harmonic_mean_rank</td><td>2.15522</td></tr><tr><td>validation.both.optimistic.hits_at_1</td><td>0.41555</td></tr><tr><td>validation.both.optimistic.hits_at_10</td><td>0.55524</td></tr><tr><td>validation.both.optimistic.hits_at_3</td><td>0.48088</td></tr><tr><td>validation.both.optimistic.hits_at_5</td><td>0.51576</td></tr><tr><td>validation.both.optimistic.inverse_arithmetic_mean_rank</td><td>0.00032</td></tr><tr><td>validation.both.optimistic.inverse_geometric_mean_rank</td><td>0.04559</td></tr><tr><td>validation.both.optimistic.inverse_harmonic_mean_rank</td><td>0.46399</td></tr><tr><td>validation.both.optimistic.inverse_median_rank</td><td>0.25</td></tr><tr><td>validation.both.optimistic.median_absolute_deviation</td><td>4.44781</td></tr><tr><td>validation.both.optimistic.median_rank</td><td>4.0</td></tr><tr><td>validation.both.optimistic.standard_deviation</td><td>8508.84721</td></tr><tr><td>validation.both.optimistic.variance</td><td>72400480.82343</td></tr><tr><td>validation.both.optimistic.z_arithmetic_mean_rank</td><td>110.13622</td></tr><tr><td>validation.both.optimistic.z_geometric_mean_rank</td><td>75.11314</td></tr><tr><td>validation.both.optimistic.z_hits_at_k</td><td>2656.20082</td></tr><tr><td>validation.both.optimistic.z_inverse_harmonic_mean_rank</td><td>5476.52892</td></tr><tr><td>validation.both.pessimistic.adjusted_arithmetic_mean_rank</td><td>0.15392</td></tr><tr><td>validation.both.pessimistic.adjusted_arithmetic_mean_rank_index</td><td>0.84612</td></tr><tr><td>validation.both.pessimistic.adjusted_geometric_mean_rank_index</td><td>0.9986</td></tr><tr><td>validation.both.pessimistic.adjusted_hits_at_k</td><td>0.55513</td></tr><tr><td>validation.both.pessimistic.adjusted_inverse_harmonic_mean_rank</td><td>0.46384</td></tr><tr><td>validation.both.pessimistic.arithmetic_mean_rank</td><td>3120.45361</td></tr><tr><td>validation.both.pessimistic.count</td><td>5648.0</td></tr><tr><td>validation.both.pessimistic.geometric_mean_rank</td><td>21.93556</td></tr><tr><td>validation.both.pessimistic.harmonic_mean_rank</td><td>2.15522</td></tr><tr><td>validation.both.pessimistic.hits_at_1</td><td>0.41555</td></tr><tr><td>validation.both.pessimistic.hits_at_10</td><td>0.55524</td></tr><tr><td>validation.both.pessimistic.hits_at_3</td><td>0.48088</td></tr><tr><td>validation.both.pessimistic.hits_at_5</td><td>0.51576</td></tr><tr><td>validation.both.pessimistic.inverse_arithmetic_mean_rank</td><td>0.00032</td></tr><tr><td>validation.both.pessimistic.inverse_geometric_mean_rank</td><td>0.04559</td></tr><tr><td>validation.both.pessimistic.inverse_harmonic_mean_rank</td><td>0.46399</td></tr><tr><td>validation.both.pessimistic.inverse_median_rank</td><td>0.25</td></tr><tr><td>validation.both.pessimistic.median_absolute_deviation</td><td>4.44781</td></tr><tr><td>validation.both.pessimistic.median_rank</td><td>4.0</td></tr><tr><td>validation.both.pessimistic.standard_deviation</td><td>8508.85035</td></tr><tr><td>validation.both.pessimistic.variance</td><td>72400534.26874</td></tr><tr><td>validation.both.pessimistic.z_arithmetic_mean_rank</td><td>110.1362</td></tr><tr><td>validation.both.pessimistic.z_geometric_mean_rank</td><td>75.11314</td></tr><tr><td>validation.both.pessimistic.z_hits_at_k</td><td>2656.20082</td></tr><tr><td>validation.both.pessimistic.z_inverse_harmonic_mean_rank</td><td>5476.5287</td></tr><tr><td>validation.both.realistic.adjusted_arithmetic_mean_rank</td><td>0.15392</td></tr><tr><td>validation.both.realistic.adjusted_arithmetic_mean_rank_index</td><td>0.84612</td></tr><tr><td>validation.both.realistic.adjusted_geometric_mean_rank_index</td><td>0.9986</td></tr><tr><td>validation.both.realistic.adjusted_hits_at_k</td><td>0.55513</td></tr><tr><td>validation.both.realistic.adjusted_inverse_harmonic_mean_rank</td><td>0.46384</td></tr><tr><td>validation.both.realistic.arithmetic_mean_rank</td><td>3120.45264</td></tr><tr><td>validation.both.realistic.count</td><td>5648.0</td></tr><tr><td>validation.both.realistic.geometric_mean_rank</td><td>21.93555</td></tr><tr><td>validation.both.realistic.harmonic_mean_rank</td><td>2.15522</td></tr><tr><td>validation.both.realistic.hits_at_1</td><td>0.41555</td></tr><tr><td>validation.both.realistic.hits_at_10</td><td>0.55524</td></tr><tr><td>validation.both.realistic.hits_at_3</td><td>0.48088</td></tr><tr><td>validation.both.realistic.hits_at_5</td><td>0.51576</td></tr><tr><td>validation.both.realistic.inverse_arithmetic_mean_rank</td><td>0.00032</td></tr><tr><td>validation.both.realistic.inverse_geometric_mean_rank</td><td>0.04559</td></tr><tr><td>validation.both.realistic.inverse_harmonic_mean_rank</td><td>0.46399</td></tr><tr><td>validation.both.realistic.inverse_median_rank</td><td>0.25</td></tr><tr><td>validation.both.realistic.median_absolute_deviation</td><td>4.44781</td></tr><tr><td>validation.both.realistic.median_rank</td><td>4.0</td></tr><tr><td>validation.both.realistic.standard_deviation</td><td>8508.84863</td></tr><tr><td>validation.both.realistic.variance</td><td>72400504.0</td></tr><tr><td>validation.both.realistic.z_arithmetic_mean_rank</td><td>110.13621</td></tr><tr><td>validation.both.realistic.z_geometric_mean_rank</td><td>75.11314</td></tr><tr><td>validation.both.realistic.z_hits_at_k</td><td>2656.20082</td></tr><tr><td>validation.both.realistic.z_inverse_harmonic_mean_rank</td><td>5476.52924</td></tr><tr><td>validation.head.optimistic.adjusted_arithmetic_mean_rank</td><td>0.21392</td></tr><tr><td>validation.head.optimistic.adjusted_arithmetic_mean_rank_index</td><td>0.78612</td></tr><tr><td>validation.head.optimistic.adjusted_geometric_mean_rank_index</td><td>0.99785</td></tr><tr><td>validation.head.optimistic.adjusted_hits_at_k</td><td>0.51936</td></tr><tr><td>validation.head.optimistic.adjusted_inverse_harmonic_mean_rank</td><td>0.44124</td></tr><tr><td>validation.head.optimistic.arithmetic_mean_rank</td><td>4335.96671</td></tr><tr><td>validation.head.optimistic.count</td><td>2824.0</td></tr><tr><td>validation.head.optimistic.geometric_mean_rank</td><td>33.11205</td></tr><tr><td>validation.head.optimistic.harmonic_mean_rank</td><td>2.26554</td></tr><tr><td>validation.head.optimistic.hits_at_1</td><td>0.39943</td></tr><tr><td>validation.head.optimistic.hits_at_10</td><td>0.51948</td></tr><tr><td>validation.head.optimistic.hits_at_3</td><td>0.45503</td></tr><tr><td>validation.head.optimistic.hits_at_5</td><td>0.48654</td></tr><tr><td>validation.head.optimistic.inverse_arithmetic_mean_rank</td><td>0.00023</td></tr><tr><td>validation.head.optimistic.inverse_geometric_mean_rank</td><td>0.0302</td></tr><tr><td>validation.head.optimistic.inverse_harmonic_mean_rank</td><td>0.4414</td></tr><tr><td>validation.head.optimistic.inverse_median_rank</td><td>0.14286</td></tr><tr><td>validation.head.optimistic.median_absolute_deviation</td><td>8.89561</td></tr><tr><td>validation.head.optimistic.median_rank</td><td>7.0</td></tr><tr><td>validation.head.optimistic.standard_deviation</td><td>10052.28277</td></tr><tr><td>validation.head.optimistic.variance</td><td>101048388.90824</td></tr><tr><td>validation.head.optimistic.z_arithmetic_mean_rank</td><td>72.35548</td></tr><tr><td>validation.head.optimistic.z_geometric_mean_rank</td><td>53.08011</td></tr><tr><td>validation.head.optimistic.z_hits_at_k</td><td>1757.01014</td></tr><tr><td>validation.head.optimistic.z_inverse_harmonic_mean_rank</td><td>3683.46129</td></tr><tr><td>validation.head.pessimistic.adjusted_arithmetic_mean_rank</td><td>0.21392</td></tr><tr><td>validation.head.pessimistic.adjusted_arithmetic_mean_rank_index</td><td>0.78612</td></tr><tr><td>validation.head.pessimistic.adjusted_geometric_mean_rank_index</td><td>0.99785</td></tr><tr><td>validation.head.pessimistic.adjusted_hits_at_k</td><td>0.51936</td></tr><tr><td>validation.head.pessimistic.adjusted_inverse_harmonic_mean_rank</td><td>0.44124</td></tr><tr><td>validation.head.pessimistic.arithmetic_mean_rank</td><td>4335.96884</td></tr><tr><td>validation.head.pessimistic.count</td><td>2824.0</td></tr><tr><td>validation.head.pessimistic.geometric_mean_rank</td><td>33.11218</td></tr><tr><td>validation.head.pessimistic.harmonic_mean_rank</td><td>2.26554</td></tr><tr><td>validation.head.pessimistic.hits_at_1</td><td>0.39943</td></tr><tr><td>validation.head.pessimistic.hits_at_10</td><td>0.51948</td></tr><tr><td>validation.head.pessimistic.hits_at_3</td><td>0.45503</td></tr><tr><td>validation.head.pessimistic.hits_at_5</td><td>0.48654</td></tr><tr><td>validation.head.pessimistic.inverse_arithmetic_mean_rank</td><td>0.00023</td></tr><tr><td>validation.head.pessimistic.inverse_geometric_mean_rank</td><td>0.0302</td></tr><tr><td>validation.head.pessimistic.inverse_harmonic_mean_rank</td><td>0.4414</td></tr><tr><td>validation.head.pessimistic.inverse_median_rank</td><td>0.14286</td></tr><tr><td>validation.head.pessimistic.median_absolute_deviation</td><td>8.89561</td></tr><tr><td>validation.head.pessimistic.median_rank</td><td>7.0</td></tr><tr><td>validation.head.pessimistic.standard_deviation</td><td>10052.28527</td></tr><tr><td>validation.head.pessimistic.variance</td><td>101048439.06985</td></tr><tr><td>validation.head.pessimistic.z_arithmetic_mean_rank</td><td>72.35547</td></tr><tr><td>validation.head.pessimistic.z_geometric_mean_rank</td><td>53.08011</td></tr><tr><td>validation.head.pessimistic.z_hits_at_k</td><td>1757.01014</td></tr><tr><td>validation.head.pessimistic.z_inverse_harmonic_mean_rank</td><td>3683.46097</td></tr><tr><td>validation.head.realistic.adjusted_arithmetic_mean_rank</td><td>0.21392</td></tr><tr><td>validation.head.realistic.adjusted_arithmetic_mean_rank_index</td><td>0.78612</td></tr><tr><td>validation.head.realistic.adjusted_geometric_mean_rank_index</td><td>0.99785</td></tr><tr><td>validation.head.realistic.adjusted_hits_at_k</td><td>0.51936</td></tr><tr><td>validation.head.realistic.adjusted_inverse_harmonic_mean_rank</td><td>0.44124</td></tr><tr><td>validation.head.realistic.arithmetic_mean_rank</td><td>4335.96777</td></tr><tr><td>validation.head.realistic.count</td><td>2824.0</td></tr><tr><td>validation.head.realistic.geometric_mean_rank</td><td>33.11212</td></tr><tr><td>validation.head.realistic.harmonic_mean_rank</td><td>2.26554</td></tr><tr><td>validation.head.realistic.hits_at_1</td><td>0.39943</td></tr><tr><td>validation.head.realistic.hits_at_10</td><td>0.51948</td></tr><tr><td>validation.head.realistic.hits_at_3</td><td>0.45503</td></tr><tr><td>validation.head.realistic.hits_at_5</td><td>0.48654</td></tr><tr><td>validation.head.realistic.inverse_arithmetic_mean_rank</td><td>0.00023</td></tr><tr><td>validation.head.realistic.inverse_geometric_mean_rank</td><td>0.0302</td></tr><tr><td>validation.head.realistic.inverse_harmonic_mean_rank</td><td>0.4414</td></tr><tr><td>validation.head.realistic.inverse_median_rank</td><td>0.14286</td></tr><tr><td>validation.head.realistic.median_absolute_deviation</td><td>8.89561</td></tr><tr><td>validation.head.realistic.median_rank</td><td>7.0</td></tr><tr><td>validation.head.realistic.standard_deviation</td><td>10052.28418</td></tr><tr><td>validation.head.realistic.variance</td><td>101048416.0</td></tr><tr><td>validation.head.realistic.z_arithmetic_mean_rank</td><td>72.35547</td></tr><tr><td>validation.head.realistic.z_geometric_mean_rank</td><td>53.08011</td></tr><tr><td>validation.head.realistic.z_hits_at_k</td><td>1757.01014</td></tr><tr><td>validation.head.realistic.z_inverse_harmonic_mean_rank</td><td>3683.4613</td></tr><tr><td>validation.tail.optimistic.adjusted_arithmetic_mean_rank</td><td>0.09394</td></tr><tr><td>validation.tail.optimistic.adjusted_arithmetic_mean_rank_index</td><td>0.9061</td></tr><tr><td>validation.tail.optimistic.adjusted_geometric_mean_rank_index</td><td>0.99909</td></tr><tr><td>validation.tail.optimistic.adjusted_hits_at_k</td><td>0.5909</td></tr><tr><td>validation.tail.optimistic.adjusted_inverse_harmonic_mean_rank</td><td>0.48644</td></tr><tr><td>validation.tail.optimistic.arithmetic_mean_rank</td><td>1904.93626</td></tr><tr><td>validation.tail.optimistic.count</td><td>2824.0</td></tr><tr><td>validation.tail.optimistic.geometric_mean_rank</td><td>14.53148</td></tr><tr><td>validation.tail.optimistic.harmonic_mean_rank</td><td>2.05515</td></tr><tr><td>validation.tail.optimistic.hits_at_1</td><td>0.43166</td></tr><tr><td>validation.tail.optimistic.hits_at_10</td><td>0.59101</td></tr><tr><td>validation.tail.optimistic.hits_at_3</td><td>0.50673</td></tr><tr><td>validation.tail.optimistic.hits_at_5</td><td>0.54497</td></tr><tr><td>validation.tail.optimistic.inverse_arithmetic_mean_rank</td><td>0.00052</td></tr><tr><td>validation.tail.optimistic.inverse_geometric_mean_rank</td><td>0.06882</td></tr><tr><td>validation.tail.optimistic.inverse_harmonic_mean_rank</td><td>0.48658</td></tr><tr><td>validation.tail.optimistic.inverse_median_rank</td><td>0.33333</td></tr><tr><td>validation.tail.optimistic.median_absolute_deviation</td><td>2.9652</td></tr><tr><td>validation.tail.optimistic.median_rank</td><td>3.0</td></tr><tr><td>validation.tail.optimistic.standard_deviation</td><td>6387.30132</td></tr><tr><td>validation.tail.optimistic.variance</td><td>40797618.20628</td></tr><tr><td>validation.tail.optimistic.z_arithmetic_mean_rank</td><td>83.39851</td></tr><tr><td>validation.tail.optimistic.z_geometric_mean_rank</td><td>53.14637</td></tr><tr><td>validation.tail.optimistic.z_hits_at_k</td><td>1999.44876</td></tr><tr><td>validation.tail.optimistic.z_inverse_harmonic_mean_rank</td><td>4061.55707</td></tr><tr><td>validation.tail.pessimistic.adjusted_arithmetic_mean_rank</td><td>0.09394</td></tr><tr><td>validation.tail.pessimistic.adjusted_arithmetic_mean_rank_index</td><td>0.9061</td></tr><tr><td>validation.tail.pessimistic.adjusted_geometric_mean_rank_index</td><td>0.99909</td></tr><tr><td>validation.tail.pessimistic.adjusted_hits_at_k</td><td>0.5909</td></tr><tr><td>validation.tail.pessimistic.adjusted_inverse_harmonic_mean_rank</td><td>0.48644</td></tr><tr><td>validation.tail.pessimistic.arithmetic_mean_rank</td><td>1904.93839</td></tr><tr><td>validation.tail.pessimistic.count</td><td>2824.0</td></tr><tr><td>validation.tail.pessimistic.geometric_mean_rank</td><td>14.53148</td></tr><tr><td>validation.tail.pessimistic.harmonic_mean_rank</td><td>2.05515</td></tr><tr><td>validation.tail.pessimistic.hits_at_1</td><td>0.43166</td></tr><tr><td>validation.tail.pessimistic.hits_at_10</td><td>0.59101</td></tr><tr><td>validation.tail.pessimistic.hits_at_3</td><td>0.50673</td></tr><tr><td>validation.tail.pessimistic.hits_at_5</td><td>0.54497</td></tr><tr><td>validation.tail.pessimistic.inverse_arithmetic_mean_rank</td><td>0.00052</td></tr><tr><td>validation.tail.pessimistic.inverse_geometric_mean_rank</td><td>0.06882</td></tr><tr><td>validation.tail.pessimistic.inverse_harmonic_mean_rank</td><td>0.48658</td></tr><tr><td>validation.tail.pessimistic.inverse_median_rank</td><td>0.33333</td></tr><tr><td>validation.tail.pessimistic.median_absolute_deviation</td><td>2.9652</td></tr><tr><td>validation.tail.pessimistic.median_rank</td><td>3.0</td></tr><tr><td>validation.tail.pessimistic.standard_deviation</td><td>6387.30576</td></tr><tr><td>validation.tail.pessimistic.variance</td><td>40797674.9353</td></tr><tr><td>validation.tail.pessimistic.z_arithmetic_mean_rank</td><td>83.3985</td></tr><tr><td>validation.tail.pessimistic.z_geometric_mean_rank</td><td>53.14637</td></tr><tr><td>validation.tail.pessimistic.z_hits_at_k</td><td>1999.44876</td></tr><tr><td>validation.tail.pessimistic.z_inverse_harmonic_mean_rank</td><td>4061.55707</td></tr><tr><td>validation.tail.realistic.adjusted_arithmetic_mean_rank</td><td>0.09394</td></tr><tr><td>validation.tail.realistic.adjusted_arithmetic_mean_rank_index</td><td>0.9061</td></tr><tr><td>validation.tail.realistic.adjusted_geometric_mean_rank_index</td><td>0.99909</td></tr><tr><td>validation.tail.realistic.adjusted_hits_at_k</td><td>0.5909</td></tr><tr><td>validation.tail.realistic.adjusted_inverse_harmonic_mean_rank</td><td>0.48644</td></tr><tr><td>validation.tail.realistic.arithmetic_mean_rank</td><td>1904.93738</td></tr><tr><td>validation.tail.realistic.count</td><td>2824.0</td></tr><tr><td>validation.tail.realistic.geometric_mean_rank</td><td>14.53148</td></tr><tr><td>validation.tail.realistic.harmonic_mean_rank</td><td>2.05515</td></tr><tr><td>validation.tail.realistic.hits_at_1</td><td>0.43166</td></tr><tr><td>validation.tail.realistic.hits_at_10</td><td>0.59101</td></tr><tr><td>validation.tail.realistic.hits_at_3</td><td>0.50673</td></tr><tr><td>validation.tail.realistic.hits_at_5</td><td>0.54497</td></tr><tr><td>validation.tail.realistic.inverse_arithmetic_mean_rank</td><td>0.00052</td></tr><tr><td>validation.tail.realistic.inverse_geometric_mean_rank</td><td>0.06882</td></tr><tr><td>validation.tail.realistic.inverse_harmonic_mean_rank</td><td>0.48658</td></tr><tr><td>validation.tail.realistic.inverse_median_rank</td><td>0.33333</td></tr><tr><td>validation.tail.realistic.median_absolute_deviation</td><td>2.9652</td></tr><tr><td>validation.tail.realistic.median_rank</td><td>3.0</td></tr><tr><td>validation.tail.realistic.standard_deviation</td><td>6387.30322</td></tr><tr><td>validation.tail.realistic.variance</td><td>40797644.0</td></tr><tr><td>validation.tail.realistic.z_arithmetic_mean_rank</td><td>83.39851</td></tr><tr><td>validation.tail.realistic.z_geometric_mean_rank</td><td>53.14637</td></tr><tr><td>validation.tail.realistic.z_hits_at_k</td><td>1999.44876</td></tr><tr><td>validation.tail.realistic.z_inverse_harmonic_mean_rank</td><td>4061.55725</td></tr></table><br/></div></div>"
      ],
      "text/plain": [
       "<IPython.core.display.HTML object>"
      ]
     },
     "metadata": {},
     "output_type": "display_data"
    },
    {
     "data": {
      "text/html": [
       "Synced <strong style=\"color:#cdcd00\">silvery-meadow-74</strong>: <a href=\"https://wandb.ai/nlm_kgc/rotatE/runs/1nkhqz13\" target=\"_blank\">https://wandb.ai/nlm_kgc/rotatE/runs/1nkhqz13</a><br/>Synced 5 W&B file(s), 0 media file(s), 0 artifact file(s) and 0 other file(s)"
      ],
      "text/plain": [
       "<IPython.core.display.HTML object>"
      ]
     },
     "metadata": {},
     "output_type": "display_data"
    },
    {
     "data": {
      "text/html": [
       "Find logs at: <code>./wandb/run-20230628_152204-1nkhqz13/logs</code>"
      ],
      "text/plain": [
       "<IPython.core.display.HTML object>"
      ]
     },
     "metadata": {},
     "output_type": "display_data"
    },
    {
     "name": "stderr",
     "output_type": "stream",
     "text": [
      "INFO:pykeen.triples.triples_factory:Stored TriplesFactory(num_entities=40559, num_relations=11, create_inverse_triples=False, num_triples=86835, path=\"/pfs/data5/home/kit/aifb/ho8030/.data/pykeen/datasets/wn18rr/train.txt\") to file:///pfs/data5/home/kit/aifb/ho8030/01_models/rotatE/wn18rr_word2vec300_paperP_1500epochs.pt/training_triples\n",
      "INFO:pykeen.pipeline.api:Saved to directory: file:///pfs/data5/home/kit/aifb/ho8030/01_models/rotatE/wn18rr_word2vec300_paperP_1500epochs.pt\n"
     ]
    }
   ],
   "source": [
    "result = pipeline(\n",
    "    dataset=\"wn18rr\",\n",
    "    dataset_kwargs=dict(create_inverse_triples=False),\n",
    "    model=\"rotate\",\n",
    "    model_kwargs=dict(\n",
    "        embedding_dim=150,\n",
    "        entity_initializer=PretrainedInitializer(tensor=rotate_ent),\n",
    "        relation_initializer=PretrainedInitializer(tensor=rotate_rel),\n",
    "    ),\n",
    "    stopper=\"early\",\n",
    "    stopper_kwargs=dict(frequency=50, patience=3, relative_delta=0.002),\n",
    "    result_tracker='wandb',\n",
    "    result_tracker_kwargs=dict(\n",
    "        project='rotatE',\n",
    "    ),\n",
    "    optimizer='adam',\n",
    "    optimizer_kwargs=dict(lr=0.00005, weight_decay=0.0),\n",
    "    loss='NSSALoss',\n",
    "    loss_kwargs=dict(margin=9, adversarial_temperature=1.0),\n",
    "    training_loop='lcwa',\n",
    "    training_kwargs=dict(num_epochs=1500, \n",
    "                         checkpoint_name='rotate_wn18rr_word2vec300dim_paperP_1000epochs.pt',\n",
    "                         checkpoint_directory='01_models/rotatE/wn18rr/checkpoints',\n",
    "                         checkpoint_frequency=30,\n",
    "                         batch_size=8),\n",
    "    evaluator=\"rankbased\",\n",
    "    evaluator_kwargs=dict(filtered=True),\n",
    "    negative_sampler_kwargs=dict(num_negs_per_pos=256)\n",
    ")\n",
    "\n",
    "result.save_to_directory(\"01_models/rotatE/wn18rr_word2vec300_paperP_1500epochs.pt\")"
   ]
  },
  {
   "cell_type": "markdown",
   "id": "2ecd7e54-4cc5-49c5-8e7f-224d31f60c1f",
   "metadata": {},
   "source": [
    "##### Load trained model to continue training "
   ]
  },
  {
   "cell_type": "code",
   "execution_count": null,
   "id": "6ff69119-78bd-4388-bbd1-d3ba6ec127d4",
   "metadata": {},
   "outputs": [],
   "source": []
  }
 ],
 "metadata": {
  "kernelspec": {
   "display_name": "nlm_kge2",
   "language": "python",
   "name": "nlm_kge2"
  },
  "language_info": {
   "codemirror_mode": {
    "name": "ipython",
    "version": 3
   },
   "file_extension": ".py",
   "mimetype": "text/x-python",
   "name": "python",
   "nbconvert_exporter": "python",
   "pygments_lexer": "ipython3",
   "version": "3.9.7"
  }
 },
 "nbformat": 4,
 "nbformat_minor": 5
}