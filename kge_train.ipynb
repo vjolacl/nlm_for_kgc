{
 "cells": [
  {
   "cell_type": "code",
   "execution_count": 3,
   "id": "076db8ba-97ae-4757-94ea-d2cb0c967994",
   "metadata": {
    "tags": []
   },
   "outputs": [],
   "source": [
    "import torch\n",
    "from transformers import BertTokenizer, BertModel\n",
    "import pandas as pd\n",
    "import numpy as np\n",
    "import requests\n",
    "import os\n",
    "import psutil\n",
    "from functions import *\n",
    "from pykeen.datasets import WN18RR\n",
    "from pykeen.nn.init import PretrainedInitializer\n",
    "from pykeen import pipeline\n",
    "import wandb\n",
    "from pykeen.trackers import WANDBResultTracker"
   ]
  },
  {
   "cell_type": "code",
   "execution_count": 4,
   "id": "e3dcdd4b-6aaf-4b79-8d57-f542183d7c08",
   "metadata": {
    "tags": []
   },
   "outputs": [],
   "source": [
    "device = \"cuda\""
   ]
  },
  {
   "cell_type": "code",
   "execution_count": null,
   "id": "2b8708ca-737e-49d2-9972-779217903962",
   "metadata": {},
   "outputs": [],
   "source": [
    "#WANDBResultTracker(project=\"kge_train\")"
   ]
  },
  {
   "cell_type": "code",
   "execution_count": null,
   "id": "c272003d-3669-40a8-8b5f-2e29a74a6b58",
   "metadata": {
    "tags": []
   },
   "outputs": [],
   "source": [
    "wandb.login()\n",
    "run = wandb.init(project=\"kge_train2\")"
   ]
  },
  {
   "cell_type": "code",
   "execution_count": null,
   "id": "d1a3f035-ad51-419d-ab11-759b7c5df066",
   "metadata": {},
   "outputs": [],
   "source": [
    "print(\"Virtual Memory percent: \", psutil.virtual_memory().percent)\n",
    "print('GPU:  Allocated:', round(torch.cuda.memory_allocated(0)/1024**3,1), 'GB |', \n",
    "          'Cached: ', round(torch.cuda.memory_cached(0)/1024**3,1), 'GB')"
   ]
  },
  {
   "cell_type": "markdown",
   "id": "bf5b6a8d-2ab3-4100-8021-f856052c74e9",
   "metadata": {},
   "source": [
    "#### 1. Load BERT word embeddings "
   ]
  },
  {
   "cell_type": "code",
   "execution_count": 5,
   "id": "53d0655a-ddc7-4eca-9dc5-77d0bf24ef84",
   "metadata": {
    "tags": []
   },
   "outputs": [
    {
     "name": "stdout",
     "output_type": "stream",
     "text": [
      "['.ipynb_checkpoints', '00_bert_4lastlayers_wn18rr_rel.pt', '01_bert_4lastlayers_wn18rr_ent.pt', '02_bert_4lastlayers_wn18rr_ent.pt', '03_bert_4lastlayers_wn18rr_ent.pt', '04_bert_4lastlayers_wn18rr_ent.pt', '05_bert_4lastlayers_wn18rr_ent.pt', '06_bert_4lastlayers_wn18rr_ent.pt', '07_bert_4lastlayers_wn18rr_ent.pt', '08_bert_4lastlayers_wn18rr_ent.pt', '09_bert_4lastlayers_wn18rr_ent.pt', '10_bert_4lastlayers_wn18rr_ent.pt', '11_bert_4lastlayers_wn18rr_ent.pt', '12_bert_4lastlayers_wn18rr_ent.pt', '13_bert_4lastlayers_wn18rr_ent.pt', '14_bert_4lastlayers_wn18rr_ent.pt', '15_bert_4lastlayers_wn18rr_ent.pt', '16_bert_4lastlayers_wn18rr_ent.pt', '17_bert_4lastlayers_wn18rr_ent.pt']\n"
     ]
    }
   ],
   "source": [
    "path = 'nlm_embeddings/bert_wn18rr'\n",
    "ent_embedd_raw, rel_embedd_raw = load_ent_embeddings(path, device)"
   ]
  },
  {
   "cell_type": "code",
   "execution_count": 6,
   "id": "261bf471-06c7-4643-b551-e0f846110a0e",
   "metadata": {},
   "outputs": [
    {
     "data": {
      "text/plain": [
       "torch.Size([40943, 3072])"
      ]
     },
     "execution_count": 6,
     "metadata": {},
     "output_type": "execute_result"
    }
   ],
   "source": [
    "# Raw embeddings are saved into batches → Transform dimensions so that there are 4 hidden layers each containing all entity tensors \n",
    "embeddings = []\n",
    "for layer in range(len(ent_embedd_raw[0])):\n",
    "    lst = [ent_embedd_raw[i][layer] for i in range(len(ent_embedd_raw))]\n",
    "    layer_embdd = torch.cat(lst, dim=0)\n",
    "    embeddings.append(layer_embdd)\n",
    "del ent_embedd_raw # Clear memory \n",
    "\n",
    "# Concatenate 4 last layers for each entity \n",
    "ent_embedd_concat = concat_hidden_states(embeddings)\n",
    "del embeddings # Clear memory \n",
    "ent_embedd_concat.size()"
   ]
  },
  {
   "cell_type": "code",
   "execution_count": 7,
   "id": "a779cd0f-9ed7-43d3-94c4-e5d96d6f578a",
   "metadata": {},
   "outputs": [],
   "source": [
    "relation_embedd = concat_hidden_states(rel_embedd_raw)"
   ]
  },
  {
   "cell_type": "code",
   "execution_count": 8,
   "id": "65c9c8a9-5aa0-4ef1-886c-c9b7a13a5c23",
   "metadata": {
    "tags": []
   },
   "outputs": [
    {
     "data": {
      "text/plain": [
       "torch.Size([11, 3072])"
      ]
     },
     "execution_count": 8,
     "metadata": {},
     "output_type": "execute_result"
    }
   ],
   "source": [
    "relation_embedd.size()"
   ]
  },
  {
   "cell_type": "code",
   "execution_count": 9,
   "id": "4e4f6391-4035-4e29-99c4-e230fcdbf581",
   "metadata": {},
   "outputs": [
    {
     "data": {
      "text/plain": [
       "device(type='cuda', index=0)"
      ]
     },
     "execution_count": 9,
     "metadata": {},
     "output_type": "execute_result"
    }
   ],
   "source": [
    "ent_embedd_concat.device"
   ]
  },
  {
   "cell_type": "markdown",
   "id": "648ab4df-0233-4d81-b300-7dde1c88960c",
   "metadata": {},
   "source": [
    "#### 2. Map LM generated tensors and pykeen dataset sequence"
   ]
  },
  {
   "cell_type": "markdown",
   "id": "a94d63e9-d64e-4de0-9cf0-d31b5d21ce1c",
   "metadata": {},
   "source": [
    "##### 2.1 Load dataset from pykeen & entity text description from data directory"
   ]
  },
  {
   "cell_type": "code",
   "execution_count": 10,
   "id": "5f7cb764-8971-48de-bd2a-71bf6ea5cac0",
   "metadata": {},
   "outputs": [
    {
     "data": {
      "text/html": [
       "<div>\n",
       "<style scoped>\n",
       "    .dataframe tbody tr th:only-of-type {\n",
       "        vertical-align: middle;\n",
       "    }\n",
       "\n",
       "    .dataframe tbody tr th {\n",
       "        vertical-align: top;\n",
       "    }\n",
       "\n",
       "    .dataframe thead th {\n",
       "        text-align: right;\n",
       "    }\n",
       "</style>\n",
       "<table border=\"1\" class=\"dataframe\">\n",
       "  <thead>\n",
       "    <tr style=\"text-align: right;\">\n",
       "      <th></th>\n",
       "      <th>id</th>\n",
       "      <th>definition</th>\n",
       "      <th>entity</th>\n",
       "      <th>description</th>\n",
       "    </tr>\n",
       "  </thead>\n",
       "  <tbody>\n",
       "    <tr>\n",
       "      <th>0</th>\n",
       "      <td>14854262</td>\n",
       "      <td>stool, solid excretory product evacuated from ...</td>\n",
       "      <td>stool</td>\n",
       "      <td>solid excretory product evacuated from the bo...</td>\n",
       "    </tr>\n",
       "    <tr>\n",
       "      <th>1</th>\n",
       "      <td>00590383</td>\n",
       "      <td>chieftainship, the position of chieftain</td>\n",
       "      <td>chieftainship</td>\n",
       "      <td>the position of chieftain</td>\n",
       "    </tr>\n",
       "    <tr>\n",
       "      <th>2</th>\n",
       "      <td>08769179</td>\n",
       "      <td>saxony, an area in Germany around the upper El...</td>\n",
       "      <td>saxony</td>\n",
       "      <td>an area in Germany around the upper Elbe rive...</td>\n",
       "    </tr>\n",
       "  </tbody>\n",
       "</table>\n",
       "</div>"
      ],
      "text/plain": [
       "         id                                         definition         entity  \\\n",
       "0  14854262  stool, solid excretory product evacuated from ...          stool   \n",
       "1  00590383           chieftainship, the position of chieftain  chieftainship   \n",
       "2  08769179  saxony, an area in Germany around the upper El...         saxony   \n",
       "\n",
       "                                         description  \n",
       "0   solid excretory product evacuated from the bo...  \n",
       "1                          the position of chieftain  \n",
       "2   an area in Germany around the upper Elbe rive...  "
      ]
     },
     "execution_count": 10,
     "metadata": {},
     "output_type": "execute_result"
    }
   ],
   "source": [
    "dataset = WN18RR()\n",
    "\n",
    "df_entity2text = pd.read_csv('data/wn18rr_entity2text.txt', delimiter=\"\\t\", header = None, names=[\"id\", \"definition\"])\n",
    "df_entity2text[[\"entity\", \"description\"]] = df_entity2text[\"definition\"].str.split(',', n=1, expand=True)\n",
    "df_entity2text.id = df_entity2text.id.astype(str)\n",
    "df_entity2text[\"id\"] = df_entity2text[\"id\"].str.rjust(8, '0')\n",
    "df_entity2text[:3]"
   ]
  },
  {
   "cell_type": "markdown",
   "id": "646c03d1-0c01-434e-a3c2-9d4bcda0c624",
   "metadata": {},
   "source": [
    "##### 2.2 Store entity and relation ids to list and map to BERT generated tensors"
   ]
  },
  {
   "cell_type": "code",
   "execution_count": 11,
   "id": "42efdc0a-78a8-4503-828b-193fd864d8c8",
   "metadata": {},
   "outputs": [
    {
     "name": "stderr",
     "output_type": "stream",
     "text": [
      "You're trying to map triples with 212 entities and 0 relations that are not in the training set. These triples will be excluded from the mapping.\n",
      "In total 210 from 3134 triples were filtered out\n"
     ]
    }
   ],
   "source": [
    "ent_id_list = list(dataset.entity_to_id.keys())\n",
    "rel_id_list = list(dataset.relation_to_id.keys())"
   ]
  },
  {
   "cell_type": "code",
   "execution_count": 13,
   "id": "31bc0f55-7851-48a7-8dd7-1a1036e1ae6a",
   "metadata": {},
   "outputs": [],
   "source": [
    "entity_mapping = {}\n",
    "for item in ent_id_list:\n",
    "    # Get index of item in df entity2text df \n",
    "    idx = df_entity2text[df_entity2text[\"id\"] == item].index.item()\n",
    "    \n",
    "    # Add tensor to dictionary, whereby key is the entity id \n",
    "    entity_mapping[item] = ent_embedd_concat[idx]\n",
    "    \n",
    "to_list  = list(entity_mapping.values())\n",
    "entity_embedd = torch.stack(to_list, 0)"
   ]
  },
  {
   "cell_type": "code",
   "execution_count": 14,
   "id": "726b7024-b006-4ee2-a46b-e1856942cfb3",
   "metadata": {
    "tags": []
   },
   "outputs": [],
   "source": [
    "entity_embedd = entity_embedd.to(device)\n",
    "relation_embedd = relation_embedd.to(device)"
   ]
  },
  {
   "cell_type": "code",
   "execution_count": null,
   "id": "f12d8ef3-e93e-4422-9d8c-5eb21f636b03",
   "metadata": {
    "tags": []
   },
   "outputs": [],
   "source": [
    "#tracker = WANDBResultTracker(project=\"kge_train\")\n",
    "#tracker.start_run(run_name=\"test\")"
   ]
  },
  {
   "cell_type": "code",
   "execution_count": null,
   "id": "1e7657c6-a9a3-4ee9-b980-0ea7ec8ff411",
   "metadata": {
    "tags": []
   },
   "outputs": [],
   "source": [
    "#training_triples_factory = dataset.training"
   ]
  },
  {
   "cell_type": "code",
   "execution_count": null,
   "id": "9854ba1b-45fd-4fc6-86bc-b48a34a2b47a",
   "metadata": {
    "tags": []
   },
   "outputs": [],
   "source": [
    "#training_triples_factory"
   ]
  },
  {
   "cell_type": "markdown",
   "id": "3b936bab-b03a-447a-ba84-c45cec013c06",
   "metadata": {},
   "source": [
    "##### Own Pipeline"
   ]
  },
  {
   "cell_type": "code",
   "execution_count": null,
   "id": "edbb44df-d087-497c-adfb-9183270420e5",
   "metadata": {
    "tags": []
   },
   "outputs": [],
   "source": [
    "# Pick a model\n",
    "from pykeen.models import TransE\n",
    "model = TransE(triples_factory=training_triples_factory, \n",
    "               #embedding_dim=entity_embedd.shape[-1],\n",
    "               #entity_initializer=PretrainedInitializer(tensor=entity_embedd),\n",
    "               #relation_initializer=PretrainedInitializer(tensor=relation_embedd)\n",
    "              )\n",
    "model.to(device)\n",
    "\n",
    "\n",
    "# Pick an optimizer from Torch\n",
    "from torch.optim import Adam\n",
    "optimizer = Adam(params=model.get_grad_params())\n",
    "\n",
    "# Pick a training approach (sLCWA or LCWA)\n",
    "from pykeen.training import SLCWATrainingLoop\n",
    "training_loop = SLCWATrainingLoop(\n",
    "    model = model,\n",
    "    triples_factory = training_triples_factory,\n",
    "    optimizer = optimizer,\n",
    "    #result_tracker = tracker\n",
    "    #result_tracker_kwargs=dict(project='kge_train')\n",
    ")\n",
    "\n",
    "\n",
    "# Train the model\n",
    "model_train = training_loop.train(\n",
    "    triples_factory = training_triples_factory,\n",
    "    num_epochs = 3,\n",
    "    batch_size = 256\n",
    ")"
   ]
  },
  {
   "cell_type": "code",
   "execution_count": null,
   "id": "9c65a9b1-79f2-4cf1-a799-cf5698638cc3",
   "metadata": {
    "jupyter": {
     "source_hidden": true
    },
    "tags": []
   },
   "outputs": [],
   "source": [
    "# Pick an evaluator\n",
    "from pykeen.evaluation import RankBasedEvaluator\n",
    "evaluator = RankBasedEvaluator()\n",
    "\n",
    "# Get triples to test\n",
    "mapped_triples = dataset.testing.mapped_triples\n",
    "\n",
    "# Evaluate\n",
    "results = evaluator.evaluate(\n",
    "    model = model,\n",
    "    mapped_triples = mapped_triples,\n",
    "    batch_size=10,\n",
    "    additional_filter_triples=[\n",
    "            dataset.training.mapped_triples,\n",
    "            dataset.validation.mapped_triples]\n",
    ")"
   ]
  },
  {
   "cell_type": "code",
   "execution_count": null,
   "id": "2108b018-1379-410a-8921-d62304abab82",
   "metadata": {
    "tags": []
   },
   "outputs": [],
   "source": [
    "results.get_metric('hits_at_10') \n",
    "results.get_metric('mean_rank')"
   ]
  },
  {
   "cell_type": "markdown",
   "id": "04c27179-a992-467b-9bb0-4e3cb6a29854",
   "metadata": {},
   "source": [
    "##### Pykeen Pipeline "
   ]
  },
  {
   "cell_type": "code",
   "execution_count": 15,
   "id": "4eb0d4ee-27c2-4901-8187-7de8847aa2ea",
   "metadata": {
    "tags": []
   },
   "outputs": [],
   "source": [
    "from pykeen.pipeline import pipeline"
   ]
  },
  {
   "cell_type": "code",
   "execution_count": null,
   "id": "1de71a03-19b7-4a26-9d3f-56cc595a9a76",
   "metadata": {
    "tags": []
   },
   "outputs": [
    {
     "name": "stderr",
     "output_type": "stream",
     "text": [
      "No random seed is specified. Setting to 2919109088.\n",
      "Failed to detect the name of this notebook, you can set it manually with the WANDB_NOTEBOOK_NAME environment variable to enable code saving.\n",
      "\u001b[34m\u001b[1mwandb\u001b[0m: Currently logged in as: \u001b[33mvjolacl\u001b[0m (\u001b[33mnlm_kgc\u001b[0m). Use \u001b[1m`wandb login --relogin`\u001b[0m to force relogin\n"
     ]
    },
    {
     "data": {
      "text/html": [
       "wandb version 0.14.1 is available!  To upgrade, please run:\n",
       " $ pip install wandb --upgrade"
      ],
      "text/plain": [
       "<IPython.core.display.HTML object>"
      ]
     },
     "metadata": {},
     "output_type": "display_data"
    },
    {
     "data": {
      "text/html": [
       "Tracking run with wandb version 0.14.0"
      ],
      "text/plain": [
       "<IPython.core.display.HTML object>"
      ]
     },
     "metadata": {},
     "output_type": "display_data"
    },
    {
     "data": {
      "text/html": [
       "Run data is saved locally in <code>/pfs/data5/home/kit/aifb/ho8030/wandb/run-20230406_210240-jlq9i3l5</code>"
      ],
      "text/plain": [
       "<IPython.core.display.HTML object>"
      ]
     },
     "metadata": {},
     "output_type": "display_data"
    },
    {
     "data": {
      "text/html": [
       "Syncing run <strong><a href='https://wandb.ai/nlm_kgc/transE/runs/jlq9i3l5' target=\"_blank\">vulcan-maquis-28</a></strong> to <a href='https://wandb.ai/nlm_kgc/transE' target=\"_blank\">Weights & Biases</a> (<a href='https://wandb.me/run' target=\"_blank\">docs</a>)<br/>"
      ],
      "text/plain": [
       "<IPython.core.display.HTML object>"
      ]
     },
     "metadata": {},
     "output_type": "display_data"
    },
    {
     "data": {
      "text/html": [
       " View project at <a href='https://wandb.ai/nlm_kgc/transE' target=\"_blank\">https://wandb.ai/nlm_kgc/transE</a>"
      ],
      "text/plain": [
       "<IPython.core.display.HTML object>"
      ]
     },
     "metadata": {},
     "output_type": "display_data"
    },
    {
     "data": {
      "text/html": [
       " View run at <a href='https://wandb.ai/nlm_kgc/transE/runs/jlq9i3l5' target=\"_blank\">https://wandb.ai/nlm_kgc/transE/runs/jlq9i3l5</a>"
      ],
      "text/plain": [
       "<IPython.core.display.HTML object>"
      ]
     },
     "metadata": {},
     "output_type": "display_data"
    },
    {
     "name": "stderr",
     "output_type": "stream",
     "text": [
      "INFO:pykeen.training.training_loop:Starting sub_batch_size search for training now...\n",
      "INFO:pykeen.training.training_loop:Concluded search with sub_batch_size 8.\n"
     ]
    },
    {
     "data": {
      "application/vnd.jupyter.widget-view+json": {
       "model_id": "66e276a389694b31a33437cacde49d86",
       "version_major": 2,
       "version_minor": 0
      },
      "text/plain": [
       "Training epochs on cuda:0:   0%|          | 0/10 [00:00<?, ?epoch/s]"
      ]
     },
     "metadata": {},
     "output_type": "display_data"
    },
    {
     "data": {
      "application/vnd.jupyter.widget-view+json": {
       "model_id": "",
       "version_major": 2,
       "version_minor": 0
      },
      "text/plain": [
       "Training batches on cuda:0:   0%|          | 0/245 [00:00<?, ?batch/s]"
      ]
     },
     "metadata": {},
     "output_type": "display_data"
    },
    {
     "data": {
      "application/vnd.jupyter.widget-view+json": {
       "model_id": "",
       "version_major": 2,
       "version_minor": 0
      },
      "text/plain": [
       "Training batches on cuda:0:   0%|          | 0/245 [00:00<?, ?batch/s]"
      ]
     },
     "metadata": {},
     "output_type": "display_data"
    },
    {
     "data": {
      "application/vnd.jupyter.widget-view+json": {
       "model_id": "",
       "version_major": 2,
       "version_minor": 0
      },
      "text/plain": [
       "Training batches on cuda:0:   0%|          | 0/245 [00:00<?, ?batch/s]"
      ]
     },
     "metadata": {},
     "output_type": "display_data"
    },
    {
     "data": {
      "application/vnd.jupyter.widget-view+json": {
       "model_id": "",
       "version_major": 2,
       "version_minor": 0
      },
      "text/plain": [
       "Training batches on cuda:0:   0%|          | 0/245 [00:00<?, ?batch/s]"
      ]
     },
     "metadata": {},
     "output_type": "display_data"
    },
    {
     "data": {
      "application/vnd.jupyter.widget-view+json": {
       "model_id": "",
       "version_major": 2,
       "version_minor": 0
      },
      "text/plain": [
       "Training batches on cuda:0:   0%|          | 0/245 [00:00<?, ?batch/s]"
      ]
     },
     "metadata": {},
     "output_type": "display_data"
    },
    {
     "data": {
      "application/vnd.jupyter.widget-view+json": {
       "model_id": "",
       "version_major": 2,
       "version_minor": 0
      },
      "text/plain": [
       "Training batches on cuda:0:   0%|          | 0/245 [00:00<?, ?batch/s]"
      ]
     },
     "metadata": {},
     "output_type": "display_data"
    },
    {
     "data": {
      "application/vnd.jupyter.widget-view+json": {
       "model_id": "",
       "version_major": 2,
       "version_minor": 0
      },
      "text/plain": [
       "Training batches on cuda:0:   0%|          | 0/245 [00:00<?, ?batch/s]"
      ]
     },
     "metadata": {},
     "output_type": "display_data"
    },
    {
     "data": {
      "application/vnd.jupyter.widget-view+json": {
       "model_id": "987af87bb2004d96b0b40ed7a739fccf",
       "version_major": 2,
       "version_minor": 0
      },
      "text/plain": [
       "Training batches on cuda:0:   0%|          | 0/245 [00:00<?, ?batch/s]"
      ]
     },
     "metadata": {},
     "output_type": "display_data"
    }
   ],
   "source": [
    "# Train KGE model with input data → Save results\n",
    "result = pipeline(\n",
    "    dataset=\"wn18rr\",\n",
    "    dataset_kwargs=dict(create_inverse_triples=False),\n",
    "    model=\"transe\",\n",
    "    model_kwargs=dict(\n",
    "        #automatic_memory_optimization=True,\n",
    "        #embedding_dim=256,\n",
    "        scoring_fct_norm=1,\n",
    "        embedding_dim=entity_embedd.shape[-1],\n",
    "        entity_initializer=PretrainedInitializer(tensor=entity_embedd),\n",
    "        relation_initializer=PretrainedInitializer(tensor=relation_embedd)\n",
    "    ),\n",
    "    result_tracker='wandb',\n",
    "    result_tracker_kwargs=dict(\n",
    "        project='transE',\n",
    "        #experiment='SGD_lr1e-5'\n",
    "    ),\n",
    "    optimizer='adam',\n",
    "    optimizer_kwargs=dict(lr=0.0018, weight_decay=0.0),\n",
    "    loss='softplus',\n",
    "    training_loop='lcwa',\n",
    "    training_kwargs=dict(num_epochs=10, batch_size=256, label_smoothing=0.00200051768009458),\n",
    "    regularizer=\"no\",\n",
    "    evaluator=\"rankbased\",\n",
    "    evaluator_kwargs=dict(filtered=True),\n",
    "    evaluation_kwargs=dict(batch_size=16)\n",
    ")\n",
    "\n",
    "#result.save_to_directory(\"01_models/nations_transE_word2vec_no1\")"
   ]
  },
  {
   "cell_type": "code",
   "execution_count": null,
   "id": "8aa47158-5da2-4869-95d5-4477c2ee3515",
   "metadata": {
    "tags": []
   },
   "outputs": [],
   "source": [
    "result.save_to_directory(\"models/wn18rr_transE_random_benchmarkparam.pt\")"
   ]
  },
  {
   "cell_type": "code",
   "execution_count": null,
   "id": "de7dc792-c99b-483b-9de3-e6ebd114b1e2",
   "metadata": {
    "tags": []
   },
   "outputs": [],
   "source": [
    "hitsat10 = result.get_metric(\"hits_at_10\")\n",
    "mr = result.get_metric(\"mean_rank\")\n",
    "mrr = result.get_metric(\"mean_reciprocal_rank\")\n",
    "key_metrics = {\"hits_at_10\": hitsat10, \"mean_rank\": mr, \"mean_reciprocal_rank\": mrr}"
   ]
  },
  {
   "cell_type": "code",
   "execution_count": null,
   "id": "d968099b-f798-43c9-a43c-0796d5937ca0",
   "metadata": {
    "tags": []
   },
   "outputs": [],
   "source": [
    "hitsat10"
   ]
  },
  {
   "cell_type": "code",
   "execution_count": null,
   "id": "0782c0ca-6bb4-4547-ae27-44e0d146c1a4",
   "metadata": {
    "tags": []
   },
   "outputs": [],
   "source": [
    "mr "
   ]
  },
  {
   "cell_type": "code",
   "execution_count": null,
   "id": "ee617178-cd49-4c9f-bd19-dbea53a1b98a",
   "metadata": {
    "tags": []
   },
   "outputs": [],
   "source": [
    "mrr "
   ]
  },
  {
   "cell_type": "markdown",
   "id": "319a5305-d2a0-480f-9953-3b689322dd1a",
   "metadata": {},
   "source": [
    "##### HPO Pipeline"
   ]
  },
  {
   "cell_type": "code",
   "execution_count": null,
   "id": "5b7bdf88-a377-47c8-b2da-6c36159fc3f8",
   "metadata": {
    "tags": []
   },
   "outputs": [],
   "source": [
    "from pykeen.hpo import hpo_pipeline"
   ]
  },
  {
   "cell_type": "code",
   "execution_count": null,
   "id": "bfbe92cc-42e6-47b1-a2cf-48e4a7e91533",
   "metadata": {
    "tags": []
   },
   "outputs": [],
   "source": [
    "hpo_pipeline_result = hpo_pipeline(\n",
    "    dataset='wn18rr',\n",
    "    model='TransE',\n",
    "    epochs=5,\n",
    "    device=device,\n",
    "    n_trials=10,\n",
    "    result_tracker='wandb',\n",
    "    result_tracker_kwargs=dict(\n",
    "        project='kge_train',\n",
    "        #experiment='new run',\n",
    "        #reinit=True,\n",
    "    ),\n",
    "    #model_kwargs_ranges=dict(\n",
    "        #embedding_dim=entity_embedd.shape[-1],\n",
    "        #entity_initializer=PretrainedInitializer(tensor=entity_embedd),\n",
    "        #relation_initializer=PretrainedInitializer(tensor=relation_embedd)\n",
    "    #),\n",
    ")"
   ]
  },
  {
   "cell_type": "code",
   "execution_count": null,
   "id": "6cf631ec-5d6a-4ca1-a81d-a49bd90e21d1",
   "metadata": {
    "tags": []
   },
   "outputs": [],
   "source": [
    "#hpo_pipeline_result.save_to_directory('hpo_pipeline/transE_wn18rr_randinit.pt')"
   ]
  },
  {
   "cell_type": "code",
   "execution_count": null,
   "id": "3b7ee3e0-7978-47ef-b9fb-4c65d84d3b0d",
   "metadata": {},
   "outputs": [],
   "source": []
  }
 ],
 "metadata": {
  "kernelspec": {
   "display_name": "nlm_kge2",
   "language": "python",
   "name": "nlm_kge2"
  },
  "language_info": {
   "codemirror_mode": {
    "name": "ipython",
    "version": 3
   },
   "file_extension": ".py",
   "mimetype": "text/x-python",
   "name": "python",
   "nbconvert_exporter": "python",
   "pygments_lexer": "ipython3",
   "version": "3.9.7"
  },
  "toc-autonumbering": false
 },
 "nbformat": 4,
 "nbformat_minor": 5
}
