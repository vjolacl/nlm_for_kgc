{
 "cells": [
  {
   "cell_type": "code",
   "execution_count": 1,
   "id": "076db8ba-97ae-4757-94ea-d2cb0c967994",
   "metadata": {
    "collapsed": true,
    "jupyter": {
     "outputs_hidden": true
    },
    "tags": []
   },
   "outputs": [
    {
     "name": "stderr",
     "output_type": "stream",
     "text": [
      "2023-03-15 15:16:26.113996: I tensorflow/core/platform/cpu_feature_guard.cc:193] This TensorFlow binary is optimized with oneAPI Deep Neural Network Library (oneDNN) to use the following CPU instructions in performance-critical operations:  AVX2 AVX512F AVX512_VNNI FMA\n",
      "To enable them in other operations, rebuild TensorFlow with the appropriate compiler flags.\n",
      "2023-03-15 15:16:26.255755: I tensorflow/core/util/port.cc:104] oneDNN custom operations are on. You may see slightly different numerical results due to floating-point round-off errors from different computation orders. To turn them off, set the environment variable `TF_ENABLE_ONEDNN_OPTS=0`.\n",
      "2023-03-15 15:16:27.098616: W tensorflow/compiler/xla/stream_executor/platform/default/dso_loader.cc:64] Could not load dynamic library 'libnvinfer.so.7'; dlerror: libnvinfer.so.7: cannot open shared object file: No such file or directory; LD_LIBRARY_PATH: /opt/bwhpc/common/devel/cuda/11.8/lib64\n",
      "2023-03-15 15:16:27.098686: W tensorflow/compiler/xla/stream_executor/platform/default/dso_loader.cc:64] Could not load dynamic library 'libnvinfer_plugin.so.7'; dlerror: libnvinfer_plugin.so.7: cannot open shared object file: No such file or directory; LD_LIBRARY_PATH: /opt/bwhpc/common/devel/cuda/11.8/lib64\n",
      "2023-03-15 15:16:27.098694: W tensorflow/compiler/tf2tensorrt/utils/py_utils.cc:38] TF-TRT Warning: Cannot dlopen some TensorRT libraries. If you would like to use Nvidia GPU with TensorRT, please make sure the missing libraries mentioned above are installed properly.\n"
     ]
    }
   ],
   "source": [
    "import torch\n",
    "from transformers import BertTokenizer, BertModel\n",
    "import pandas as pd\n",
    "import numpy as np\n",
    "import requests\n",
    "import os\n",
    "import psutil\n",
    "from functions import *"
   ]
  },
  {
   "cell_type": "markdown",
   "id": "bf5b6a8d-2ab3-4100-8021-f856052c74e9",
   "metadata": {},
   "source": [
    "#### 1. Load BERT word embeddings "
   ]
  },
  {
   "cell_type": "code",
   "execution_count": 10,
   "id": "53d0655a-ddc7-4eca-9dc5-77d0bf24ef84",
   "metadata": {
    "collapsed": true,
    "jupyter": {
     "outputs_hidden": true
    },
    "tags": []
   },
   "outputs": [
    {
     "data": {
      "text/plain": [
       "['01_bert_4lastlayers_wn18rr_ent.pt',\n",
       " '02_bert_4lastlayers_wn18rr_ent.pt',\n",
       " '03_bert_4lastlayers_wn18rr_ent.pt',\n",
       " '04_bert_4lastlayers_wn18rr_ent.pt',\n",
       " '05_bert_4lastlayers_wn18rr_ent.pt',\n",
       " '06_bert_4lastlayers_wn18rr_ent.pt',\n",
       " '07_bert_4lastlayers_wn18rr_ent.pt',\n",
       " '08_bert_4lastlayers_wn18rr_ent.pt',\n",
       " '09_bert_4lastlayers_wn18rr_ent.pt',\n",
       " '10_bert_4lastlayers_wn18rr_ent.pt',\n",
       " '11_bert_4lastlayers_wn18rr_ent.pt',\n",
       " '12_bert_4lastlayers_wn18rr_ent.pt',\n",
       " '13_bert_4lastlayers_wn18rr_ent.pt',\n",
       " '14_bert_4lastlayers_wn18rr_ent.pt',\n",
       " '15_bert_4lastlayers_wn18rr_ent.pt',\n",
       " '16_bert_4lastlayers_wn18rr_ent.pt',\n",
       " '17_bert_4lastlayers_wn18rr_ent.pt']"
      ]
     },
     "execution_count": 10,
     "metadata": {},
     "output_type": "execute_result"
    }
   ],
   "source": [
    "files = os.listdir('nlm_embeddings/bert_wn18rr')\n",
    "files = sorted(files)\n",
    "files = files[1:]\n",
    "files"
   ]
  },
  {
   "cell_type": "code",
   "execution_count": 13,
   "id": "7f561b1f-e6eb-422f-8c0a-c9f1e3252d17",
   "metadata": {},
   "outputs": [],
   "source": [
    "embedd_raw = []\n",
    "for file in files:\n",
    "    batch_embedd = torch.load('nlm_embeddings/bert_wn18rr/' + file)\n",
    "    batch_cpu = batch_embedd.to(\"cpu\")\n",
    "    embedd_raw.append(batch_cpu)\n",
    "    del batch_embedd\n",
    "    torch.cuda.empty_cache()"
   ]
  },
  {
   "cell_type": "code",
   "execution_count": 14,
   "id": "aff24e97-c586-49db-8870-4824136198d6",
   "metadata": {},
   "outputs": [
    {
     "name": "stdout",
     "output_type": "stream",
     "text": [
      "Virtual Memory percent:  11.6\n",
      "GPU:  Allocated: 17.8 GB | Cached:  17.8 GB\n"
     ]
    }
   ],
   "source": [
    "print(\"Virtual Memory percent: \", psutil.virtual_memory().percent)\n",
    "print('GPU:  Allocated:', round(torch.cuda.memory_allocated(0)/1024**3,1), 'GB |', \n",
    "          'Cached: ', round(torch.cuda.memory_cached(0)/1024**3,1), 'GB')"
   ]
  },
  {
   "cell_type": "code",
   "execution_count": 15,
   "id": "261bf471-06c7-4643-b551-e0f846110a0e",
   "metadata": {},
   "outputs": [],
   "source": [
    "embeddings = []\n",
    "\n",
    "for layer in range(len(embedd_raw[0])):\n",
    "    lst = [embedd_raw[i][layer] for i in range(len(embedd_raw))]\n",
    "    layer_embdd = torch.cat(lst, dim=0)\n",
    "    embeddings.append(layer_embdd)\n",
    "\n",
    "del embedd_raw"
   ]
  },
  {
   "cell_type": "code",
   "execution_count": 21,
   "id": "da40e59b-3337-453b-98a7-c31032747c45",
   "metadata": {},
   "outputs": [
    {
     "name": "stdout",
     "output_type": "stream",
     "text": [
      "Virtual Memory percent:  9.3\n",
      "GPU:  Allocated: 8.9 GB | Cached:  8.9 GB\n"
     ]
    }
   ],
   "source": [
    "print(\"Virtual Memory percent: \", psutil.virtual_memory().percent)\n",
    "print('GPU:  Allocated:', round(torch.cuda.memory_allocated(0)/1024**3,1), 'GB |', \n",
    "          'Cached: ', round(torch.cuda.memory_cached(0)/1024**3,1), 'GB')"
   ]
  },
  {
   "cell_type": "code",
   "execution_count": 17,
   "id": "f12dee55-9834-4257-a802-963850ce080a",
   "metadata": {},
   "outputs": [
    {
     "data": {
      "text/plain": [
       "torch.Size([40943, 3072])"
      ]
     },
     "execution_count": 17,
     "metadata": {},
     "output_type": "execute_result"
    }
   ],
   "source": [
    "embedd_concat = concat_hidden_states(embeddings)\n",
    "del embeddings\n",
    "embedd_concat.size()"
   ]
  },
  {
   "cell_type": "code",
   "execution_count": null,
   "id": "5f7cb764-8971-48de-bd2a-71bf6ea5cac0",
   "metadata": {},
   "outputs": [],
   "source": []
  }
 ],
 "metadata": {
  "kernelspec": {
   "display_name": "nlm_kge",
   "language": "python",
   "name": "nlm_kge"
  },
  "language_info": {
   "codemirror_mode": {
    "name": "ipython",
    "version": 3
   },
   "file_extension": ".py",
   "mimetype": "text/x-python",
   "name": "python",
   "nbconvert_exporter": "python",
   "pygments_lexer": "ipython3",
   "version": "3.8.6"
  },
  "toc-autonumbering": false
 },
 "nbformat": 4,
 "nbformat_minor": 5
}
