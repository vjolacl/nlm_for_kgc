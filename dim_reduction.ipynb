{
 "cells": [
  {
   "cell_type": "code",
   "execution_count": 1,
   "id": "1b67e7cd-2f90-46b6-a848-e7c7af0308c9",
   "metadata": {
    "tags": []
   },
   "outputs": [],
   "source": [
    "from sklearn.decomposition import PCA\n",
    "import numpy as np\n",
    "import torch"
   ]
  },
  {
   "cell_type": "code",
   "execution_count": 2,
   "id": "8b040ff1-7af1-4941-a819-82894a00dc52",
   "metadata": {
    "tags": []
   },
   "outputs": [],
   "source": [
    "device='cpu'"
   ]
  },
  {
   "cell_type": "code",
   "execution_count": 22,
   "id": "43df4cdb-5193-4a14-a7f0-af3a549567c0",
   "metadata": {
    "tags": []
   },
   "outputs": [],
   "source": [
    "embeddings_ent = torch.load('03_nlm_embeddings/bert_fb15k237/avg_4lastlayers/02_bert_fb15k237_descript_ent_sorted.pt')"
   ]
  },
  {
   "cell_type": "code",
   "execution_count": 23,
   "id": "5f5e40a9-b187-495d-a30c-a58bb8dbaf6b",
   "metadata": {
    "tags": []
   },
   "outputs": [
    {
     "data": {
      "text/plain": [
       "torch.Size([14505, 768])"
      ]
     },
     "execution_count": 23,
     "metadata": {},
     "output_type": "execute_result"
    }
   ],
   "source": [
    "embeddings_ent.shape"
   ]
  },
  {
   "cell_type": "code",
   "execution_count": 5,
   "id": "1487a757-f7b0-44d6-9f19-855d55f91d0b",
   "metadata": {
    "tags": []
   },
   "outputs": [],
   "source": [
    "embeddings_rel = torch.load('03_nlm_embeddings/bert_fb15k237/avg_4lastlayers/01_bert_fb15k237_rel_sorted.pt')"
   ]
  },
  {
   "cell_type": "code",
   "execution_count": 18,
   "id": "e409a819-fbb6-46d9-854c-ad43a495e2d1",
   "metadata": {
    "tags": []
   },
   "outputs": [
    {
     "data": {
      "text/plain": [
       "torch.Size([237, 768])"
      ]
     },
     "execution_count": 18,
     "metadata": {},
     "output_type": "execute_result"
    }
   ],
   "source": [
    "embeddings_rel.shape"
   ]
  },
  {
   "cell_type": "code",
   "execution_count": 6,
   "id": "0a73693a-ccbc-4fa9-902f-b9369b5bef47",
   "metadata": {
    "tags": []
   },
   "outputs": [],
   "source": [
    "cat_tensors = torch.cat((embeddings_ent, embeddings_rel), dim=0)"
   ]
  },
  {
   "cell_type": "code",
   "execution_count": 7,
   "id": "1beedec6-266c-4e8e-9f6c-c72e5484827c",
   "metadata": {
    "tags": []
   },
   "outputs": [
    {
     "data": {
      "text/plain": [
       "torch.Size([14742, 768])"
      ]
     },
     "execution_count": 7,
     "metadata": {},
     "output_type": "execute_result"
    }
   ],
   "source": [
    "cat_tensors.shape"
   ]
  },
  {
   "cell_type": "code",
   "execution_count": 25,
   "id": "8cb14e73-ed2b-4b4e-8fd0-8a0a5c664c50",
   "metadata": {
    "tags": []
   },
   "outputs": [],
   "source": [
    "cat_tensors = cat_tensors.to(device)"
   ]
  },
  {
   "cell_type": "code",
   "execution_count": 26,
   "id": "aaffa1e1-ee94-4a87-8996-3b7c8a9aafdb",
   "metadata": {
    "tags": []
   },
   "outputs": [],
   "source": [
    "pca = PCA(n_components=200)"
   ]
  },
  {
   "cell_type": "code",
   "execution_count": 27,
   "id": "7d7cae94-0353-440e-9dd0-1eddf93c290f",
   "metadata": {
    "tags": []
   },
   "outputs": [],
   "source": [
    "# Fit the PCA object to your embeddings and transform them\n",
    "with torch.no_grad():\n",
    "    reduced_embeddings = pca.fit_transform(cat_tensors.detach().numpy())\n",
    "reduced_embeddings = torch.from_numpy(reduced_embeddings)\n"
   ]
  },
  {
   "cell_type": "code",
   "execution_count": 28,
   "id": "dd8cafe0-7bda-4dbc-b3f0-5d3350e42238",
   "metadata": {
    "tags": []
   },
   "outputs": [
    {
     "data": {
      "text/plain": [
       "torch.Size([14505, 200])"
      ]
     },
     "execution_count": 28,
     "metadata": {},
     "output_type": "execute_result"
    }
   ],
   "source": [
    "reduced_embeddings.shape"
   ]
  },
  {
   "cell_type": "code",
   "execution_count": 16,
   "id": "1cc7ad48-8dbd-48ca-8632-a8ab01fb65a4",
   "metadata": {
    "tags": []
   },
   "outputs": [],
   "source": [
    "#torch.save(reduced_embeddings, '03_nlm_embeddings/bert_wn18rr/avg_4lastlayers/02_bert_avg4lastlayers_pcared_sorted_ent.pt')"
   ]
  },
  {
   "cell_type": "code",
   "execution_count": 14,
   "id": "ca32a3f1-e5ee-44b9-b371-459af40694ac",
   "metadata": {
    "tags": []
   },
   "outputs": [],
   "source": [
    "reduced_embeddings_ent = reduced_embeddings[:14505]"
   ]
  },
  {
   "cell_type": "code",
   "execution_count": 15,
   "id": "c63277b1-fd83-468c-8af5-e51bb1b7e43f",
   "metadata": {
    "tags": []
   },
   "outputs": [
    {
     "data": {
      "text/plain": [
       "torch.Size([14505, 200])"
      ]
     },
     "execution_count": 15,
     "metadata": {},
     "output_type": "execute_result"
    }
   ],
   "source": [
    "reduced_embeddings_ent.shape"
   ]
  },
  {
   "cell_type": "code",
   "execution_count": 16,
   "id": "2e59a166-96fa-4a86-8e7f-eb8bb5cb488d",
   "metadata": {
    "tags": []
   },
   "outputs": [],
   "source": [
    "reduced_embeddings_rel = reduced_embeddings[-237:]"
   ]
  },
  {
   "cell_type": "code",
   "execution_count": 19,
   "id": "ece9982b-b750-43d2-8a31-e10d5eb5f250",
   "metadata": {
    "tags": []
   },
   "outputs": [
    {
     "data": {
      "text/plain": [
       "torch.Size([237, 200])"
      ]
     },
     "execution_count": 19,
     "metadata": {},
     "output_type": "execute_result"
    }
   ],
   "source": [
    "reduced_embeddings_rel.shape"
   ]
  },
  {
   "cell_type": "code",
   "execution_count": 29,
   "id": "7ece419f-1d40-4c41-9c27-e59698ea0f3f",
   "metadata": {
    "tags": []
   },
   "outputs": [],
   "source": [
    "torch.save(reduced_embeddings_ent, '03_nlm_embeddings/bert_fb15k237/avg_4lastlayers/03_bertdescript_avg4LL_pca200_sorted_ent.pt')"
   ]
  },
  {
   "cell_type": "code",
   "execution_count": 21,
   "id": "c66bd67a-2506-4acf-8cb3-3ec0a8af2d73",
   "metadata": {
    "tags": []
   },
   "outputs": [],
   "source": [
    "torch.save(reduced_embeddings_rel, '03_nlm_embeddings/bert_fb15k237/avg_4lastlayers/03_bert_avg4lastlayers_pca200_sorted_rel.pt')"
   ]
  },
  {
   "cell_type": "code",
   "execution_count": null,
   "id": "2511a1b7-6bdd-4795-97cf-30ee8b0aca20",
   "metadata": {},
   "outputs": [],
   "source": []
  }
 ],
 "metadata": {
  "kernelspec": {
   "display_name": "nlm_kge2",
   "language": "python",
   "name": "nlm_kge2"
  },
  "language_info": {
   "codemirror_mode": {
    "name": "ipython",
    "version": 3
   },
   "file_extension": ".py",
   "mimetype": "text/x-python",
   "name": "python",
   "nbconvert_exporter": "python",
   "pygments_lexer": "ipython3",
   "version": "3.9.7"
  }
 },
 "nbformat": 4,
 "nbformat_minor": 5
}
