{
 "cells": [
  {
   "cell_type": "code",
   "execution_count": null,
   "id": "cb891625-f47b-4144-b432-b4f4eafcbd39",
   "metadata": {},
   "outputs": [],
   "source": [
    "import torch\n",
    "import pandas as pd\n",
    "import numpy as np\n",
    "import requests\n",
    "from functions import *\n",
    "import gensim\n",
    "import gensim.downloader as api\n",
    "from pykeen.datasets import FB15k237, WN18RR"
   ]
  },
  {
   "cell_type": "code",
   "execution_count": null,
   "id": "9e878d4f-24f5-4887-ad34-52475b4df77c",
   "metadata": {
    "tags": []
   },
   "outputs": [],
   "source": [
    "device=\"cuda\""
   ]
  },
  {
   "cell_type": "markdown",
   "id": "9d0c4ae7-225e-43d6-be19-ffe70663e41f",
   "metadata": {
    "tags": []
   },
   "source": [
    "### 0 Load and prepare dataset"
   ]
  },
  {
   "cell_type": "code",
   "execution_count": null,
   "id": "476fa1e2-08a4-4fb8-ba2c-f2a4f26164a0",
   "metadata": {
    "tags": []
   },
   "outputs": [],
   "source": [
    "dataset = WN18RR()  #or WN18RR()\n",
    "dataset"
   ]
  },
  {
   "cell_type": "code",
   "execution_count": null,
   "id": "3329f5a7-ebb7-4be5-a07f-f9be08dc1eb6",
   "metadata": {
    "tags": []
   },
   "outputs": [],
   "source": [
    "# Store the entity-to-id and relation-to-id relationship in separate dictionaries\n",
    "ent_to_id = dataset.entity_to_id\n",
    "rel_to_id = dataset.relation_to_id\n",
    "\n",
    "ent_id_list = list(dataset.entity_to_id.keys())\n",
    "rel_id_list = list(dataset.relation_to_id.keys())"
   ]
  },
  {
   "cell_type": "markdown",
   "id": "4ec49dc6-3664-4743-84b2-7d266b9cd820",
   "metadata": {},
   "source": [
    "### 1 Load pretrained Word2Vec"
   ]
  },
  {
   "cell_type": "code",
   "execution_count": null,
   "id": "022b5243-6b6a-4084-9e0d-1c7dace2556a",
   "metadata": {
    "tags": []
   },
   "outputs": [],
   "source": [
    "w2v_vectors = gensim.downloader.load('word2vec-google-news-300')\n",
    "w2v_vocab = w2v_vectors.index_to_key"
   ]
  },
  {
   "cell_type": "markdown",
   "id": "12958771-9236-4231-9d1c-f324ae7fc5b3",
   "metadata": {},
   "source": [
    "### 2 FB15k-237"
   ]
  },
  {
   "cell_type": "markdown",
   "id": "fc1a29a4-088e-42a9-8b4a-fa0deea24298",
   "metadata": {
    "tags": []
   },
   "source": [
    "#### 2.1 Load entity and relation definitions"
   ]
  },
  {
   "cell_type": "code",
   "execution_count": null,
   "id": "bf1043de-396b-46de-b5fc-0bffea9ec2c7",
   "metadata": {
    "tags": []
   },
   "outputs": [],
   "source": [
    "# Load entity to text file for labels and descriptions \n",
    "df_entity2text = pd.read_csv('data/fb15k237/fb15k237_entity2text.txt', delimiter=\"\\t\", header = None, names=[\"id\", \"entity\"])\n",
    "df_entity2textlong = pd.read_csv('data/fb15k237/fb15k237_entity2textlong.txt', delimiter=\"\\t\", header = None, names=[\"id\", \"entity\"])\n",
    "\n",
    "# Load relation to text file \n",
    "df_rel2text = pd.read_csv('data/fb15k237/fb15k237_relation2text.txt', delimiter=\"\\t\", header = None, names=[\"id\", \"definition\"])"
   ]
  },
  {
   "cell_type": "markdown",
   "id": "1dba5e45-529c-4821-81f5-0a160e8c03a3",
   "metadata": {},
   "source": [
    "#### 2.2 Preprocessing"
   ]
  },
  {
   "cell_type": "code",
   "execution_count": null,
   "id": "1e32e526-0a76-42ca-aed6-6571713f5be7",
   "metadata": {
    "tags": []
   },
   "outputs": [],
   "source": [
    "extra_ent = pd.read_csv('fb15k237_extralabels_ent.csv', delimiter=\",\", header = 0, names=[\"id\", \"entity\"])"
   ]
  },
  {
   "cell_type": "code",
   "execution_count": null,
   "id": "a973475a-9ed8-4e69-b4c6-14409f1a3c08",
   "metadata": {
    "tags": []
   },
   "outputs": [],
   "source": [
    "df_entity2text['entity'] = df_entity2text['id'].map(extra_ent.set_index('id')['entity']).fillna(df_entity2text['entity'])\n",
    "df_entity2text[\"entity_cleaned\"]=remove_characters(df_entity2text[\"entity\"])\n",
    "df_entity2text[\"tokenized_entities\"] = df_entity2text[\"entity_cleaned\"].str.split(' ')\n",
    "df_entity2text[:3]"
   ]
  },
  {
   "cell_type": "code",
   "execution_count": null,
   "id": "e65315ed-cc2d-4fc4-aec8-5f7278268232",
   "metadata": {
    "tags": []
   },
   "outputs": [],
   "source": [
    "df_rel2text[\"cleaned_relation\"] = df_rel2text[\"definition\"].str.replace('.', ' ')\n",
    "df_rel2text[\"tokenized_relations\"] = df_rel2text[\"cleaned_relation\"].str.split(' ')\n",
    "df_rel2text[:3]"
   ]
  },
  {
   "cell_type": "code",
   "execution_count": null,
   "id": "ba9a7f30-ec46-480f-b6aa-481e99291d15",
   "metadata": {
    "tags": []
   },
   "outputs": [],
   "source": [
    "tok_entities = df_entity2text[\"tokenized_entities\"]\n",
    "tok_relations = df_rel2text[\"tokenized_relations\"]"
   ]
  },
  {
   "cell_type": "markdown",
   "id": "c133e5fa-eac0-4b58-92eb-3deaf85ae5e3",
   "metadata": {},
   "source": [
    "#### 2.3 Generate Word2Vec embeddings"
   ]
  },
  {
   "cell_type": "code",
   "execution_count": null,
   "id": "1c9dbfec-cf44-4e1d-b895-adfbdb8cab31",
   "metadata": {
    "tags": []
   },
   "outputs": [],
   "source": [
    "entities = [tok_entities[i] for i in range(len(tok_entities))]\n",
    "relations = [tok_relations[i] for i in range(len(tok_relations))]"
   ]
  },
  {
   "cell_type": "code",
   "execution_count": null,
   "id": "b283a130-ec30-4857-aed3-13d2d1f80599",
   "metadata": {
    "tags": []
   },
   "outputs": [],
   "source": [
    "rel_embeddings, exclude_rel = generate_w2v_embeddings(relations, w2v_vocab, w2v_vectors)\n",
    "ent_embeddings, exclude_ent = generate_w2v_embeddings(entities, w2v_vocab, w2v_vectors)"
   ]
  },
  {
   "cell_type": "markdown",
   "id": "9d83082d-018f-4f98-89c4-af2a7dcf71b9",
   "metadata": {},
   "source": [
    "##### Compute average Word2Vec embeddings for relations and entities"
   ]
  },
  {
   "cell_type": "code",
   "execution_count": null,
   "id": "ada78689-51c0-430c-a2fe-d71d3e0849b8",
   "metadata": {},
   "outputs": [],
   "source": [
    "avg_rel = avg_w2v_embeddings(rel_embeddings)\n",
    "avg_ent = avg_w2v_embeddings(ent_embeddings)"
   ]
  },
  {
   "cell_type": "markdown",
   "id": "ed2e7de5-0cf7-4dd3-9ce8-3b1b3e7ec28e",
   "metadata": {},
   "source": [
    "##### Sort embeddings to match order of entities and relations of pykeen datasets"
   ]
  },
  {
   "cell_type": "code",
   "execution_count": null,
   "id": "f0461ea1-d77d-4f3d-81a1-7189e887584f",
   "metadata": {
    "tags": []
   },
   "outputs": [],
   "source": [
    "rel_embeddings_sorted = embedding_mapping(df_rel2text, df_rel2text[\"id\"], rel_id_list, avg_rel)\n",
    "ent_embeddings_sorted = embedding_mapping(df_entity2text, df_entity2text[\"id\"], ent_id_list, avg_ent)"
   ]
  },
  {
   "cell_type": "markdown",
   "id": "afafddaf-3831-4f20-b734-ae3703fc6fec",
   "metadata": {
    "tags": []
   },
   "source": [
    "### 3 WN18RR"
   ]
  },
  {
   "cell_type": "markdown",
   "id": "91c4b3a1-de01-4373-8039-2a6479159f8b",
   "metadata": {},
   "source": [
    "#### 3.1 Load entity and relation definitions"
   ]
  },
  {
   "cell_type": "code",
   "execution_count": null,
   "id": "fc0d1ccc-967b-4d70-95c5-5864d890a92a",
   "metadata": {},
   "outputs": [],
   "source": [
    "df_entity2text = pd.read_csv('00_data/wn18rr/wn18rr_entity2text.txt', delimiter=\"\\t\", header = None, names=[\"id\", \"definition\"])\n",
    "df_entity2text[[\"entity\", \"description\"]] = df_entity2text[\"definition\"].str.split(',', n=1, expand=True)\n",
    "df_entity2text.id = df_entity2text.id.astype(str)\n",
    "df_entity2text[\"id\"] = df_entity2text[\"id\"].str.rjust(8, '0')\n",
    "df_entity2text[:3]"
   ]
  },
  {
   "cell_type": "code",
   "execution_count": null,
   "id": "7a4e63e1-7edb-4898-b50e-202db0b8bab0",
   "metadata": {},
   "outputs": [],
   "source": [
    "for i in range(len(rel_id_list)):\n",
    "    rel_id_list[i] = rel_id_list[i].replace(\"_\", \" \")\n",
    "    rel_id_list[i] = rel_id_list[i].lstrip()\n",
    "rel_id_list[:3]"
   ]
  },
  {
   "cell_type": "markdown",
   "id": "f56581d0-2db7-41e9-9909-d66d9f51fb11",
   "metadata": {},
   "source": [
    "#### 3.2 Preprocessing"
   ]
  },
  {
   "cell_type": "code",
   "execution_count": null,
   "id": "21e0b72f-385c-44fc-9778-1d1f2dedf311",
   "metadata": {},
   "outputs": [],
   "source": [
    "# Load WN18RR extra labels for entities that do not have a match with pretrained Word2Vec embeddings \n",
    "wn18rr_extra_ent = pd.read_csv('wn18rr_extralabels_ent.csv', delimiter=\",\", header = 0, names=[\"id\", \"entity\"])\n",
    "wn18rr_extra_ent.id = wn18rr_extra_ent.id.astype(str)\n",
    "wn18rr_extra_ent[\"id\"] = wn18rr_extra_ent[\"id\"].str.rjust(8, '0')\n",
    "wn18rr_extra_ent[:2]"
   ]
  },
  {
   "cell_type": "code",
   "execution_count": null,
   "id": "8f8b7a86-e7f7-4883-aef7-ff2cb6dd2646",
   "metadata": {},
   "outputs": [],
   "source": [
    "df_entity2text['entity'] = df_entity2text['id'].map(wn18rr_extra_ent.set_index('id')['entity']).fillna(df_entity2text['entity'])"
   ]
  },
  {
   "cell_type": "code",
   "execution_count": null,
   "id": "c5401e9b-4e30-466f-921d-10c5a3ad80d0",
   "metadata": {},
   "outputs": [],
   "source": [
    "df_entity2text[\"entity_cleaned\"]=remove_characters(df_entity2text[\"entity\"])\n",
    "df_entity2text[\"tokenized_entities\"] = df_entity2text[\"entity_cleaned\"].str.split(' ')"
   ]
  },
  {
   "cell_type": "code",
   "execution_count": null,
   "id": "d8148551-1143-421b-992d-b51003ff01de",
   "metadata": {},
   "outputs": [],
   "source": [
    "tok_entities = df_entity2text[\"tokenized_entities\"]"
   ]
  },
  {
   "cell_type": "markdown",
   "id": "7abc824e-57f6-4d41-b4de-dc48f78a19af",
   "metadata": {},
   "source": [
    "#### 3.3 Generate Word2Vec embeddings"
   ]
  },
  {
   "cell_type": "code",
   "execution_count": null,
   "id": "62ca56d8-bbc7-4002-802a-8ed2d422257a",
   "metadata": {},
   "outputs": [],
   "source": [
    "entities = [tok_entities[i] for i in range(len(tok_entities))]\n",
    "relations = [rel_id_list[i].split() for i in range(len(rel_id_list))]"
   ]
  },
  {
   "cell_type": "code",
   "execution_count": null,
   "id": "adecaa37-5bd8-433a-8fa7-c3c97ced0d70",
   "metadata": {},
   "outputs": [],
   "source": [
    "relations[3] = ['superordinate']\n",
    "relations[4][1] = 'superordinate'\n",
    "relations[5] = ['member', \"part\", \"something\"] \n",
    "relations[9]= [ 'set', 'synonym', 'domain', 'topic', 'of']"
   ]
  },
  {
   "cell_type": "code",
   "execution_count": null,
   "id": "a17022fb-645e-402e-906b-d19e9c56e3a0",
   "metadata": {},
   "outputs": [],
   "source": [
    "ent_embeddings, ent_excluded = generate_w2v_embeddings(entities, w2v_vocab, w2v_vectors)"
   ]
  },
  {
   "cell_type": "code",
   "execution_count": null,
   "id": "4e107ead-5a5a-4c9a-be34-049e51cf7099",
   "metadata": {},
   "outputs": [],
   "source": [
    "rel_embeddings, rel_excluded = generate_w2v_embeddings(relations, w2v_vocab, w2v_vectors)"
   ]
  },
  {
   "cell_type": "code",
   "execution_count": null,
   "id": "9293e3aa-0305-428d-953b-f9c2faf6bde7",
   "metadata": {},
   "outputs": [],
   "source": [
    "avg_rel = avg_w2v_embeddings(rel_embeddings)\n",
    "avg_ent = avg_w2v_embeddings(ent_embeddings)"
   ]
  },
  {
   "cell_type": "code",
   "execution_count": null,
   "id": "ff9b7aa4-8e94-4d5a-9e27-7801b88c3596",
   "metadata": {
    "tags": []
   },
   "outputs": [],
   "source": [
    "rel_embeddings_sorted = embedding_mapping(df_rel2text, df_rel2text[\"id\"], rel_id_list, avg_rel)\n",
    "ent_embeddings_sorted = embedding_mapping(df_entity2text, df_entity2text[\"id\"], ent_id_list, avg_ent)"
   ]
  },
  {
   "cell_type": "code",
   "execution_count": null,
   "id": "1e42ed70-96c0-44f3-b417-d1861d93b026",
   "metadata": {},
   "outputs": [],
   "source": []
  }
 ],
 "metadata": {
  "kernelspec": {
   "display_name": "nlm_kge2",
   "language": "python",
   "name": "nlm_kge2"
  },
  "language_info": {
   "codemirror_mode": {
    "name": "ipython",
    "version": 3
   },
   "file_extension": ".py",
   "mimetype": "text/x-python",
   "name": "python",
   "nbconvert_exporter": "python",
   "pygments_lexer": "ipython3",
   "version": "3.9.7"
  }
 },
 "nbformat": 4,
 "nbformat_minor": 5
}
