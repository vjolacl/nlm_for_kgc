{
 "cells": [
  {
   "cell_type": "code",
   "execution_count": 2,
   "id": "e5d67582-315c-4dc7-8b9b-37e8dcb6ffbb",
   "metadata": {
    "tags": []
   },
   "outputs": [],
   "source": [
    "import torch\n",
    "from transformers import BertTokenizer, BertModel\n",
    "import pandas as pd\n",
    "import numpy as np\n",
    "import requests\n",
    "from functions import *"
   ]
  },
  {
   "cell_type": "code",
   "execution_count": 3,
   "id": "57d89059-3d90-442f-83e3-9d6a2b846267",
   "metadata": {
    "tags": []
   },
   "outputs": [],
   "source": [
    "import pykeen"
   ]
  },
  {
   "cell_type": "code",
   "execution_count": 4,
   "id": "a023f3af-93af-4e85-bdfe-86436f723e63",
   "metadata": {},
   "outputs": [
    {
     "data": {
      "text/plain": [
       "True"
      ]
     },
     "execution_count": 4,
     "metadata": {},
     "output_type": "execute_result"
    }
   ],
   "source": [
    "use_cuda = torch.cuda.is_available()\n",
    "use_cuda"
   ]
  },
  {
   "cell_type": "markdown",
   "id": "3cfd4fa3-afd7-41cd-b1ba-726b661a7512",
   "metadata": {},
   "source": [
    "#### Dataset exploring"
   ]
  },
  {
   "cell_type": "markdown",
   "id": "f3d2e67a-7143-44ee-bfe9-151d1dc4a741",
   "metadata": {},
   "source": [
    "##### FB15k-237"
   ]
  },
  {
   "cell_type": "code",
   "execution_count": 5,
   "id": "414c13e2-a8e2-46ff-a311-8dd34e76d9e3",
   "metadata": {
    "tags": []
   },
   "outputs": [],
   "source": [
    "from pykeen.datasets import FB15k237"
   ]
  },
  {
   "cell_type": "code",
   "execution_count": 30,
   "id": "7ca37871-a2f4-4606-ae6c-6f09c54c96e4",
   "metadata": {
    "tags": []
   },
   "outputs": [
    {
     "name": "stderr",
     "output_type": "stream",
     "text": [
      "You're trying to map triples with 30 entities and 0 relations that are not in the training set. These triples will be excluded from the mapping.\n",
      "In total 28 from 20466 triples were filtered out\n"
     ]
    },
    {
     "data": {
      "text/plain": [
       "FB15k237(num_entities=14505, num_relations=237, create_inverse_triples=False)"
      ]
     },
     "execution_count": 30,
     "metadata": {},
     "output_type": "execute_result"
    }
   ],
   "source": [
    "data = FB15k237()\n",
    "data"
   ]
  },
  {
   "cell_type": "code",
   "execution_count": 7,
   "id": "821dc5a8-a687-4706-9ead-2a1cd171126b",
   "metadata": {
    "tags": []
   },
   "outputs": [],
   "source": [
    "# Store the entity-to-id and relation-to-id relationship in separate dictionaries\n",
    "ent_to_id = data.entity_to_id\n",
    "rel_to_id = data.relation_to_id"
   ]
  },
  {
   "cell_type": "code",
   "execution_count": 11,
   "id": "16f28bae-4899-4448-bfa6-21b23df02f92",
   "metadata": {
    "tags": []
   },
   "outputs": [
    {
     "data": {
      "text/html": [
       "<div>\n",
       "<style scoped>\n",
       "    .dataframe tbody tr th:only-of-type {\n",
       "        vertical-align: middle;\n",
       "    }\n",
       "\n",
       "    .dataframe tbody tr th {\n",
       "        vertical-align: top;\n",
       "    }\n",
       "\n",
       "    .dataframe thead th {\n",
       "        text-align: right;\n",
       "    }\n",
       "</style>\n",
       "<table border=\"1\" class=\"dataframe\">\n",
       "  <thead>\n",
       "    <tr style=\"text-align: right;\">\n",
       "      <th></th>\n",
       "      <th>id</th>\n",
       "      <th>entity</th>\n",
       "    </tr>\n",
       "  </thead>\n",
       "  <tbody>\n",
       "    <tr>\n",
       "      <th>0</th>\n",
       "      <td>/m/06rf7</td>\n",
       "      <td>Schleswig-Holstein</td>\n",
       "    </tr>\n",
       "    <tr>\n",
       "      <th>1</th>\n",
       "      <td>/m/0c94fn</td>\n",
       "      <td>Gary Rydstrom</td>\n",
       "    </tr>\n",
       "    <tr>\n",
       "      <th>2</th>\n",
       "      <td>/m/016ywr</td>\n",
       "      <td>Jeremy Irons</td>\n",
       "    </tr>\n",
       "    <tr>\n",
       "      <th>3</th>\n",
       "      <td>/m/01yjl</td>\n",
       "      <td>Chicago Cubs</td>\n",
       "    </tr>\n",
       "    <tr>\n",
       "      <th>4</th>\n",
       "      <td>/m/02hrh1q</td>\n",
       "      <td>Actor-GB</td>\n",
       "    </tr>\n",
       "  </tbody>\n",
       "</table>\n",
       "</div>"
      ],
      "text/plain": [
       "           id              entity\n",
       "0    /m/06rf7  Schleswig-Holstein\n",
       "1   /m/0c94fn       Gary Rydstrom\n",
       "2   /m/016ywr        Jeremy Irons\n",
       "3    /m/01yjl        Chicago Cubs\n",
       "4  /m/02hrh1q            Actor-GB"
      ]
     },
     "execution_count": 11,
     "metadata": {},
     "output_type": "execute_result"
    }
   ],
   "source": [
    "df_entity2text = pd.read_csv('data/fb15k237_entity2text.txt', delimiter=\"\\t\", header = None, names=[\"id\", \"entity\"])\n",
    "df_entity2text[:5]"
   ]
  },
  {
   "cell_type": "code",
   "execution_count": 16,
   "id": "0589f9d0-c132-45d4-bab7-351baf47c1e6",
   "metadata": {
    "tags": []
   },
   "outputs": [
    {
     "data": {
      "text/plain": [
       "(14951, 2)"
      ]
     },
     "execution_count": 16,
     "metadata": {},
     "output_type": "execute_result"
    }
   ],
   "source": [
    "df_entity2text.shape"
   ]
  },
  {
   "cell_type": "markdown",
   "id": "27fd259c-aa34-461c-a198-06f494baeab8",
   "metadata": {},
   "source": [
    "#### Generate BERT embeddings "
   ]
  },
  {
   "cell_type": "code",
   "execution_count": 10,
   "id": "263dc0ca-c95a-49ff-8364-e8ea9fb3339e",
   "metadata": {},
   "outputs": [
    {
     "name": "stderr",
     "output_type": "stream",
     "text": [
      "Some weights of the model checkpoint at bert-base-uncased were not used when initializing BertModel: ['cls.predictions.transform.LayerNorm.bias', 'cls.predictions.transform.dense.weight', 'cls.predictions.decoder.weight', 'cls.seq_relationship.bias', 'cls.seq_relationship.weight', 'cls.predictions.transform.LayerNorm.weight', 'cls.predictions.transform.dense.bias', 'cls.predictions.bias']\n",
      "- This IS expected if you are initializing BertModel from the checkpoint of a model trained on another task or with another architecture (e.g. initializing a BertForSequenceClassification model from a BertForPreTraining model).\n",
      "- This IS NOT expected if you are initializing BertModel from the checkpoint of a model that you expect to be exactly identical (initializing a BertForSequenceClassification model from a BertForSequenceClassification model).\n"
     ]
    }
   ],
   "source": [
    "# Load the BERT model\n",
    "tokenizer = BertTokenizer.from_pretrained('bert-base-uncased')\n",
    "model = BertModel.from_pretrained('bert-base-uncased', output_hidden_states=True)\n",
    "model = model.to(\"cuda:0\")"
   ]
  },
  {
   "cell_type": "code",
   "execution_count": null,
   "id": "e960c56d-5b97-43d9-a52d-0b89e5e8c0b8",
   "metadata": {},
   "outputs": [],
   "source": [
    "df_entity2text = pd.read_csv('data/wn18rr_entity2text.txt', delimiter=\"\\t\", header = None, names=[\"id\", \"definition\"])\n",
    "df_entity2text[[\"entity\", \"description\"]] = df_entity2text[\"definition\"].str.split(',', n=1, expand=True)\n",
    "df_entity2text[:5]"
   ]
  },
  {
   "cell_type": "code",
   "execution_count": 12,
   "id": "bb40e128-1421-4f50-a670-de76a65dbc38",
   "metadata": {},
   "outputs": [
    {
     "data": {
      "text/plain": [
       "device(type='cpu')"
      ]
     },
     "execution_count": 12,
     "metadata": {},
     "output_type": "execute_result"
    }
   ],
   "source": [
    "# Tokenize the KG entities\n",
    "input_to_tokens = tokenizer(df_entity2text[\"entity\"].to_list(), padding=True, return_tensors='pt')['input_ids']\n",
    "input_to_tokens.device"
   ]
  },
  {
   "cell_type": "code",
   "execution_count": 19,
   "id": "8ca9f303-35b3-48d7-b02b-f295ea6f7bf5",
   "metadata": {
    "tags": []
   },
   "outputs": [
    {
     "data": {
      "text/plain": [
       "tensor([[  101, 21173,  1011,  ...,     0,     0,     0],\n",
       "        [  101,  5639, 29431,  ...,     0,     0,     0],\n",
       "        [  101,  7441,  3707,  ...,     0,     0,     0],\n",
       "        ...,\n",
       "        [  101,  5696,  7842,  ...,     0,     0,     0],\n",
       "        [  101, 13081,  2118,  ...,     0,     0,     0],\n",
       "        [  101, 12300,   102,  ...,     0,     0,     0]])"
      ]
     },
     "execution_count": 19,
     "metadata": {},
     "output_type": "execute_result"
    }
   ],
   "source": [
    "input_to_tokens"
   ]
  },
  {
   "cell_type": "code",
   "execution_count": 23,
   "id": "1adc14d4-9c97-4bdc-809d-135e16496466",
   "metadata": {
    "collapsed": true,
    "jupyter": {
     "outputs_hidden": true
    },
    "tags": []
   },
   "outputs": [
    {
     "data": {
      "text/plain": [
       "['[CLS]',\n",
       " 'chicago',\n",
       " 'cubs',\n",
       " '[SEP]',\n",
       " '[PAD]',\n",
       " '[PAD]',\n",
       " '[PAD]',\n",
       " '[PAD]',\n",
       " '[PAD]',\n",
       " '[PAD]',\n",
       " '[PAD]',\n",
       " '[PAD]',\n",
       " '[PAD]',\n",
       " '[PAD]',\n",
       " '[PAD]',\n",
       " '[PAD]',\n",
       " '[PAD]',\n",
       " '[PAD]',\n",
       " '[PAD]',\n",
       " '[PAD]']"
      ]
     },
     "execution_count": 23,
     "metadata": {},
     "output_type": "execute_result"
    }
   ],
   "source": [
    "tokenizer.convert_ids_to_tokens(input_to_tokens[3])"
   ]
  },
  {
   "cell_type": "code",
   "execution_count": 24,
   "id": "105367f6-8443-497c-8ce6-f3e33714e7a5",
   "metadata": {},
   "outputs": [],
   "source": [
    "cd = customdata(input_to_tokens)\n",
    "dataloader = torch.utils.data.DataLoader(cd, batch_size = 2500, shuffle = False, num_workers = 0)"
   ]
  },
  {
   "cell_type": "markdown",
   "id": "5de6b307-02f6-4578-aac9-3b5bd5e8d053",
   "metadata": {},
   "source": [
    "#### Generate BERT embeddings for entities in batches "
   ]
  },
  {
   "cell_type": "code",
   "execution_count": 25,
   "id": "a90f854a-de7a-425e-af01-583edfcb7c6f",
   "metadata": {},
   "outputs": [
    {
     "name": "stderr",
     "output_type": "stream",
     "text": [
      "/opt/bwhpc/common/jupyter/tensorflow/2023-03-24/lib/python3.9/site-packages/torch/cuda/memory.py:416: FutureWarning: torch.cuda.memory_cached has been renamed to torch.cuda.memory_reserved\n",
      "  warnings.warn(\n"
     ]
    },
    {
     "name": "stdout",
     "output_type": "stream",
     "text": [
      "Memory Usage in Iteration: 1 | Allocated: 29.1 GB | Cached:  29.7 GB\n",
      "Memory Usage in Iteration: 2 | Allocated: 29.1 GB | Cached:  29.7 GB\n",
      "Memory Usage in Iteration: 3 | Allocated: 29.1 GB | Cached:  29.7 GB\n",
      "Memory Usage in Iteration: 4 | Allocated: 29.1 GB | Cached:  29.7 GB\n",
      "Memory Usage in Iteration: 5 | Allocated: 29.1 GB | Cached:  29.7 GB\n",
      "Memory Usage in Iteration: 6 | Allocated: 28.6 GB | Cached:  29.0 GB\n"
     ]
    }
   ],
   "source": [
    "iter = 1\n",
    "embeddings = []\n",
    "for data in dataloader:\n",
    "    data = data.to(\"cuda:0\")\n",
    "    output = generate_bert_embeddings(data,model)\n",
    "    output = torch.stack(output, 0)# output is originally tuple → stack BERT hidden layers (13) tensors into 1 tensor    \n",
    "\n",
    "    if iter < 10:\n",
    "        batch_nr = \"0\" + str(iter)\n",
    "    else:\n",
    "        batch_nr = str(iter)\n",
    "    torch.save(output, \"nlm_embeddings/bert_fb15k237/\" + batch_nr + \"_bert_4lastlayers_fb15k237_ent.pt\")\n",
    "    #embeddings.append(output)\n",
    "    \n",
    "    \n",
    "    \n",
    "    #Additional Info when using cuda\n",
    "    print('Memory Usage in Iteration:', iter,\n",
    "          '| Allocated:', round(torch.cuda.memory_allocated(0)/1024**3,1), 'GB |', \n",
    "          'Cached: ', round(torch.cuda.memory_cached(0)/1024**3,1), 'GB')\n",
    "    \n",
    "    iter = iter + 1\n",
    "    del data\n",
    "    del output\n",
    "    torch.cuda.empty_cache()"
   ]
  },
  {
   "cell_type": "code",
   "execution_count": 28,
   "id": "928201db-34f1-4819-a6cd-f5c9e1f902a0",
   "metadata": {},
   "outputs": [],
   "source": [
    "torch.cuda.empty_cache()"
   ]
  },
  {
   "cell_type": "code",
   "execution_count": 27,
   "id": "52ec68a5-a210-4666-bb4b-a40d9c922ddc",
   "metadata": {},
   "outputs": [
    {
     "name": "stdout",
     "output_type": "stream",
     "text": [
      "| Allocated: 0.4 GB | Cached:  0.5 GB\n"
     ]
    }
   ],
   "source": [
    "print('| Allocated:', round(torch.cuda.memory_allocated(0)/1024**3,1), 'GB |', \n",
    "          'Cached: ', round(torch.cuda.memory_cached(0)/1024**3,1), 'GB')"
   ]
  },
  {
   "cell_type": "code",
   "execution_count": null,
   "id": "6245c6e4-a6d7-43cf-ab3c-2e8307c25cde",
   "metadata": {},
   "outputs": [],
   "source": [
    "#torch.save(embeddings,'/nlm_embeddings/bert_wn18rr/bert_4lastlayers_wn18rr_ent.pt')"
   ]
  },
  {
   "cell_type": "markdown",
   "id": "1248eaf5-455b-4743-a174-d5ebe41c7ac6",
   "metadata": {},
   "source": [
    "#### Generate BERT embeddings for relations"
   ]
  },
  {
   "cell_type": "code",
   "execution_count": 31,
   "id": "c70d6c42-f7b2-4889-a7a8-9844857ad47f",
   "metadata": {},
   "outputs": [
    {
     "data": {
      "text/plain": [
       "237"
      ]
     },
     "execution_count": 31,
     "metadata": {},
     "output_type": "execute_result"
    }
   ],
   "source": [
    "#from pykeen.datasets import WN18RR\n",
    "#dataset = WN18RR()\n",
    "rel_to_list = list(data.relation_to_id)\n",
    "len(rel_to_list)"
   ]
  },
  {
   "cell_type": "code",
   "execution_count": 32,
   "id": "ad801098-77bf-494f-8523-4cc0bc480167",
   "metadata": {
    "collapsed": true,
    "jupyter": {
     "outputs_hidden": true
    },
    "tags": []
   },
   "outputs": [
    {
     "data": {
      "text/plain": [
       "['/american_football/football_team/current_roster./sports/sports_team_roster/position',\n",
       " '/award/award_category/category_of',\n",
       " '/award/award_category/disciplines_or_subjects',\n",
       " '/award/award_category/nominees./award/award_nomination/nominated_for',\n",
       " '/award/award_category/winners./award/award_honor/award_winner',\n",
       " '/award/award_category/winners./award/award_honor/ceremony',\n",
       " '/award/award_ceremony/awards_presented./award/award_honor/award_winner',\n",
       " '/award/award_ceremony/awards_presented./award/award_honor/honored_for',\n",
       " '/award/award_nominated_work/award_nominations./award/award_nomination/nominated_for',\n",
       " '/award/award_nominee/award_nominations./award/award_nomination/award',\n",
       " '/award/award_nominee/award_nominations./award/award_nomination/award_nominee',\n",
       " '/award/award_nominee/award_nominations./award/award_nomination/nominated_for',\n",
       " '/award/award_winner/awards_won./award/award_honor/award_winner',\n",
       " '/award/award_winning_work/awards_won./award/award_honor/award',\n",
       " '/award/award_winning_work/awards_won./award/award_honor/award_winner',\n",
       " '/award/award_winning_work/awards_won./award/award_honor/honored_for',\n",
       " '/award/hall_of_fame/inductees./award/hall_of_fame_induction/inductee',\n",
       " '/award/ranked_item/appears_in_ranked_lists./award/ranking/list',\n",
       " '/base/aareas/schema/administrative_area/administrative_area_type',\n",
       " '/base/aareas/schema/administrative_area/administrative_parent',\n",
       " '/base/aareas/schema/administrative_area/capital',\n",
       " '/base/americancomedy/celebrity_impressionist/celebrities_impersonated',\n",
       " '/base/biblioness/bibs_location/country',\n",
       " '/base/biblioness/bibs_location/state',\n",
       " '/base/culturalevent/event/entity_involved',\n",
       " '/base/eating/practicer_of_diet/diet',\n",
       " '/base/localfood/seasonal_month/produce_available./base/localfood/produce_availability/seasonal_months',\n",
       " '/base/locations/continents/countries_within',\n",
       " '/base/marchmadness/ncaa_basketball_tournament/seeds./base/marchmadness/ncaa_tournament_seed/team',\n",
       " '/base/petbreeds/city_with_dogs/top_breeds./base/petbreeds/dog_city_relationship/dog_breed',\n",
       " '/base/popstra/celebrity/breakup./base/popstra/breakup/participant',\n",
       " '/base/popstra/celebrity/canoodled./base/popstra/canoodled/participant',\n",
       " '/base/popstra/celebrity/dated./base/popstra/dated/participant',\n",
       " '/base/popstra/celebrity/friendship./base/popstra/friendship/participant',\n",
       " '/base/popstra/location/vacationers./base/popstra/vacation_choice/vacationer',\n",
       " '/base/saturdaynightlive/snl_cast_member/seasons./base/saturdaynightlive/snl_season_tenure/cast_members',\n",
       " '/base/schemastaging/organization_extra/phone_number./base/schemastaging/phone_sandbox/contact_category',\n",
       " '/base/schemastaging/organization_extra/phone_number./base/schemastaging/phone_sandbox/service_language',\n",
       " '/base/schemastaging/organization_extra/phone_number./base/schemastaging/phone_sandbox/service_location',\n",
       " '/base/schemastaging/person_extra/net_worth./measurement_unit/dated_money_value/currency',\n",
       " '/base/x2010fifaworldcupsouthafrica/world_cup_squad/current_world_cup_squad./base/x2010fifaworldcupsouthafrica/current_world_cup_squad/current_club',\n",
       " '/baseball/baseball_team/team_stats./baseball/baseball_team_stats/season',\n",
       " '/broadcast/content/artist',\n",
       " '/business/business_operation/assets./measurement_unit/dated_money_value/currency',\n",
       " '/business/business_operation/industry',\n",
       " '/business/business_operation/operating_income./measurement_unit/dated_money_value/currency',\n",
       " '/business/business_operation/revenue./measurement_unit/dated_money_value/currency',\n",
       " '/business/job_title/people_with_this_title./business/employment_tenure/company',\n",
       " '/celebrities/celebrity/celebrity_friends./celebrities/friendship/friend',\n",
       " '/celebrities/celebrity/sexual_relationships./celebrities/romantic_relationship/celebrity',\n",
       " '/common/topic/webpage./common/webpage/category',\n",
       " '/dataworld/gardening_hint/split_to',\n",
       " '/education/educational_degree/people_with_this_degree./education/education/institution',\n",
       " '/education/educational_degree/people_with_this_degree./education/education/major_field_of_study',\n",
       " '/education/educational_degree/people_with_this_degree./education/education/student',\n",
       " '/education/educational_institution/campuses',\n",
       " '/education/educational_institution/colors',\n",
       " '/education/educational_institution/school_type',\n",
       " '/education/educational_institution/students_graduates./education/education/major_field_of_study',\n",
       " '/education/educational_institution/students_graduates./education/education/student',\n",
       " '/education/educational_institution_campus/educational_institution',\n",
       " '/education/field_of_study/students_majoring./education/education/major_field_of_study',\n",
       " '/education/field_of_study/students_majoring./education/education/student',\n",
       " '/education/university/domestic_tuition./measurement_unit/dated_money_value/currency',\n",
       " '/education/university/fraternities_and_sororities',\n",
       " '/education/university/international_tuition./measurement_unit/dated_money_value/currency',\n",
       " '/education/university/local_tuition./measurement_unit/dated_money_value/currency',\n",
       " '/film/actor/dubbing_performances./film/dubbing_performance/language',\n",
       " '/film/actor/film./film/performance/film',\n",
       " '/film/actor/film./film/performance/special_performance_type',\n",
       " '/film/director/film',\n",
       " '/film/film/cinematography',\n",
       " '/film/film/costume_design_by',\n",
       " '/film/film/country',\n",
       " '/film/film/distributors./film/film_film_distributor_relationship/film_distribution_medium',\n",
       " '/film/film/distributors./film/film_film_distributor_relationship/region',\n",
       " '/film/film/dubbing_performances./film/dubbing_performance/actor',\n",
       " '/film/film/edited_by',\n",
       " '/film/film/estimated_budget./measurement_unit/dated_money_value/currency',\n",
       " '/film/film/executive_produced_by',\n",
       " '/film/film/featured_film_locations',\n",
       " '/film/film/film_art_direction_by',\n",
       " '/film/film/film_festivals',\n",
       " '/film/film/film_format',\n",
       " '/film/film/film_production_design_by',\n",
       " '/film/film/genre',\n",
       " '/film/film/language',\n",
       " '/film/film/music',\n",
       " '/film/film/other_crew./film/film_crew_gig/crewmember',\n",
       " '/film/film/other_crew./film/film_crew_gig/film_crew_role',\n",
       " '/film/film/personal_appearances./film/personal_film_appearance/person',\n",
       " '/film/film/prequel',\n",
       " '/film/film/produced_by',\n",
       " '/film/film/production_companies',\n",
       " '/film/film/release_date_s./film/film_regional_release_date/film_regional_debut_venue',\n",
       " '/film/film/release_date_s./film/film_regional_release_date/film_release_distribution_medium',\n",
       " '/film/film/release_date_s./film/film_regional_release_date/film_release_region',\n",
       " '/film/film/runtime./film/film_cut/film_release_region',\n",
       " '/film/film/story_by',\n",
       " '/film/film/written_by',\n",
       " '/film/film_distributor/films_distributed./film/film_film_distributor_relationship/film',\n",
       " '/film/film_set_designer/film_sets_designed',\n",
       " '/film/film_subject/films',\n",
       " '/film/person_or_entity_appearing_in_film/films./film/personal_film_appearance/type_of_appearance',\n",
       " '/film/special_film_performance_type/film_performance_type./film/performance/film',\n",
       " '/food/food/nutrients./food/nutrition_fact/nutrient',\n",
       " '/government/government_office_category/officeholders./government/government_position_held/jurisdiction_of_office',\n",
       " '/government/governmental_body/members./government/government_position_held/legislative_sessions',\n",
       " '/government/legislative_session/members./government/government_position_held/district_represented',\n",
       " '/government/legislative_session/members./government/government_position_held/legislative_sessions',\n",
       " '/government/political_party/politicians_in_this_party./government/political_party_tenure/politician',\n",
       " '/government/politician/government_positions_held./government/government_position_held/basic_title',\n",
       " '/government/politician/government_positions_held./government/government_position_held/jurisdiction_of_office',\n",
       " '/government/politician/government_positions_held./government/government_position_held/legislative_sessions',\n",
       " '/ice_hockey/hockey_team/current_roster./sports/sports_team_roster/position',\n",
       " '/influence/influence_node/influenced_by',\n",
       " '/influence/influence_node/peers./influence/peer_relationship/peers',\n",
       " '/language/human_language/countries_spoken_in',\n",
       " '/location/administrative_division/country',\n",
       " '/location/administrative_division/first_level_division_of',\n",
       " '/location/capital_of_administrative_division/capital_of./location/administrative_division_capital_relationship/administrative_division',\n",
       " '/location/country/capital',\n",
       " '/location/country/form_of_government',\n",
       " '/location/country/official_language',\n",
       " '/location/country/second_level_divisions',\n",
       " '/location/hud_county_place/county',\n",
       " '/location/hud_county_place/place',\n",
       " '/location/hud_foreclosure_area/estimated_number_of_mortgages./measurement_unit/dated_integer/source',\n",
       " '/location/location/adjoin_s./location/adjoining_relationship/adjoins',\n",
       " '/location/location/contains',\n",
       " '/location/location/partially_contains',\n",
       " '/location/location/time_zones',\n",
       " '/location/statistical_region/gdp_nominal./measurement_unit/dated_money_value/currency',\n",
       " '/location/statistical_region/gdp_nominal_per_capita./measurement_unit/dated_money_value/currency',\n",
       " '/location/statistical_region/gdp_real./measurement_unit/adjusted_money_value/adjustment_currency',\n",
       " '/location/statistical_region/gni_per_capita_in_ppp_dollars./measurement_unit/dated_money_value/currency',\n",
       " '/location/statistical_region/places_exported_to./location/imports_and_exports/exported_to',\n",
       " '/location/statistical_region/religions./location/religion_percentage/religion',\n",
       " '/location/statistical_region/rent50_2./measurement_unit/dated_money_value/currency',\n",
       " '/location/us_county/county_seat',\n",
       " '/media_common/netflix_genre/titles',\n",
       " '/medicine/disease/notable_people_with_this_condition',\n",
       " '/medicine/disease/risk_factors',\n",
       " '/medicine/symptom/symptom_of',\n",
       " '/military/military_combatant/military_conflicts./military/military_combatant_group/combatants',\n",
       " '/military/military_conflict/combatants./military/military_combatant_group/combatants',\n",
       " '/music/artist/contribution./music/recording_contribution/performance_role',\n",
       " '/music/artist/origin',\n",
       " '/music/artist/track_contributions./music/track_contribution/role',\n",
       " '/music/genre/artists',\n",
       " '/music/genre/parent_genre',\n",
       " '/music/group_member/membership./music/group_membership/group',\n",
       " '/music/group_member/membership./music/group_membership/role',\n",
       " '/music/instrument/family',\n",
       " '/music/instrument/instrumentalists',\n",
       " '/music/performance_role/guest_performances./music/recording_contribution/performance_role',\n",
       " '/music/performance_role/regular_performances./music/group_membership/group',\n",
       " '/music/performance_role/regular_performances./music/group_membership/role',\n",
       " '/music/performance_role/track_performances./music/track_contribution/role',\n",
       " '/music/record_label/artist',\n",
       " '/olympics/olympic_games/medals_awarded./olympics/olympic_medal_honor/medal',\n",
       " '/olympics/olympic_games/participating_countries',\n",
       " '/olympics/olympic_games/sports',\n",
       " '/olympics/olympic_participating_country/athletes./olympics/olympic_athlete_affiliation/olympics',\n",
       " '/olympics/olympic_participating_country/medals_won./olympics/olympic_medal_honor/medal',\n",
       " '/olympics/olympic_participating_country/medals_won./olympics/olympic_medal_honor/olympics',\n",
       " '/olympics/olympic_sport/athletes./olympics/olympic_athlete_affiliation/country',\n",
       " '/olympics/olympic_sport/athletes./olympics/olympic_athlete_affiliation/olympics',\n",
       " '/organization/endowed_organization/endowment./measurement_unit/dated_money_value/currency',\n",
       " '/organization/non_profit_organization/registered_with./organization/non_profit_registration/registering_agency',\n",
       " '/organization/organization/child./organization/organization_relationship/child',\n",
       " '/organization/organization/headquarters./location/mailing_address/citytown',\n",
       " '/organization/organization/headquarters./location/mailing_address/country',\n",
       " '/organization/organization/headquarters./location/mailing_address/state_province_region',\n",
       " '/organization/organization/place_founded',\n",
       " '/organization/organization_founder/organizations_founded',\n",
       " '/organization/organization_member/member_of./organization/organization_membership/organization',\n",
       " '/organization/role/leaders./organization/leadership/organization',\n",
       " '/people/cause_of_death/people',\n",
       " '/people/deceased_person/place_of_burial',\n",
       " '/people/deceased_person/place_of_death',\n",
       " '/people/ethnicity/geographic_distribution',\n",
       " '/people/ethnicity/languages_spoken',\n",
       " '/people/ethnicity/people',\n",
       " '/people/marriage_union_type/unions_of_this_type./people/marriage/location_of_ceremony',\n",
       " '/people/person/employment_history./business/employment_tenure/company',\n",
       " '/people/person/gender',\n",
       " '/people/person/languages',\n",
       " '/people/person/nationality',\n",
       " '/people/person/place_of_birth',\n",
       " '/people/person/places_lived./people/place_lived/location',\n",
       " '/people/person/profession',\n",
       " '/people/person/religion',\n",
       " '/people/person/sibling_s./people/sibling_relationship/sibling',\n",
       " '/people/person/spouse_s./people/marriage/location_of_ceremony',\n",
       " '/people/person/spouse_s./people/marriage/spouse',\n",
       " '/people/person/spouse_s./people/marriage/type_of_union',\n",
       " '/people/profession/specialization_of',\n",
       " '/soccer/football_player/current_team./sports/sports_team_roster/team',\n",
       " '/soccer/football_team/current_roster./soccer/football_roster_position/position',\n",
       " '/soccer/football_team/current_roster./sports/sports_team_roster/position',\n",
       " '/sports/pro_athlete/teams./sports/sports_team_roster/team',\n",
       " '/sports/professional_sports_team/draft_picks./sports/sports_league_draft_pick/draft',\n",
       " '/sports/professional_sports_team/draft_picks./sports/sports_league_draft_pick/school',\n",
       " '/sports/sport/pro_athletes./sports/pro_sports_played/athlete',\n",
       " '/sports/sports_league/teams./sports/sports_league_participation/team',\n",
       " '/sports/sports_league_draft/picks./sports/sports_league_draft_pick/school',\n",
       " '/sports/sports_position/players./american_football/football_historical_roster_position/position_s',\n",
       " '/sports/sports_position/players./sports/sports_team_roster/position',\n",
       " '/sports/sports_position/players./sports/sports_team_roster/team',\n",
       " '/sports/sports_team/colors',\n",
       " '/sports/sports_team/roster./american_football/football_historical_roster_position/position_s',\n",
       " '/sports/sports_team/roster./american_football/football_roster_position/position',\n",
       " '/sports/sports_team/roster./baseball/baseball_roster_position/position',\n",
       " '/sports/sports_team/roster./basketball/basketball_roster_position/position',\n",
       " '/sports/sports_team/sport',\n",
       " '/sports/sports_team_location/teams',\n",
       " '/time/event/instance_of_recurring_event',\n",
       " '/time/event/locations',\n",
       " '/travel/travel_destination/climate./travel/travel_destination_monthly_climate/month',\n",
       " '/travel/travel_destination/how_to_get_here./travel/transportation/mode_of_transportation',\n",
       " '/tv/non_character_role/tv_regular_personal_appearances./tv/tv_regular_personal_appearance/person',\n",
       " '/tv/tv_network/programs./tv/tv_network_duration/program',\n",
       " '/tv/tv_personality/tv_regular_appearances./tv/tv_regular_personal_appearance/program',\n",
       " '/tv/tv_producer/programs_produced./tv/tv_producer_term/producer_type',\n",
       " '/tv/tv_producer/programs_produced./tv/tv_producer_term/program',\n",
       " '/tv/tv_program/country_of_origin',\n",
       " '/tv/tv_program/genre',\n",
       " '/tv/tv_program/languages',\n",
       " '/tv/tv_program/program_creator',\n",
       " '/tv/tv_program/regular_cast./tv/regular_tv_appearance/actor',\n",
       " '/tv/tv_program/tv_producer./tv/tv_producer_term/producer_type',\n",
       " '/tv/tv_writer/tv_programs./tv/tv_program_writer_relationship/tv_program',\n",
       " '/user/alexander/philosophy/philosopher/interests',\n",
       " '/user/jg/default_domain/olympic_games/sports',\n",
       " '/user/ktrueman/default_domain/international_organization/member_states',\n",
       " '/user/tsegaran/random/taxonomy_subject/entry./user/tsegaran/random/taxonomy_entry/taxonomy']"
      ]
     },
     "execution_count": 32,
     "metadata": {},
     "output_type": "execute_result"
    }
   ],
   "source": [
    "rel_to_list"
   ]
  },
  {
   "cell_type": "markdown",
   "id": "b5e6bc97-9953-4b29-aac0-71778061ad07",
   "metadata": {},
   "source": [
    "##### Clean for tokenization"
   ]
  },
  {
   "cell_type": "code",
   "execution_count": null,
   "id": "8ba704a0-623a-4ec8-8856-a6630f55f527",
   "metadata": {},
   "outputs": [],
   "source": [
    "for i in range(len(rel_to_list)):\n",
    "    rel_to_list[i] = rel_to_list[i].replace(\"_\", \" \")\n",
    "    rel_to_list[i] = rel_to_list[i].lstrip()"
   ]
  },
  {
   "cell_type": "code",
   "execution_count": null,
   "id": "3da711ba-7198-48a3-a9e8-1831e0565a60",
   "metadata": {},
   "outputs": [],
   "source": [
    "# Tokenize the KG relations\n",
    "rel_to_tokens = tokenizer(rel_to_list, padding=True, return_tensors='pt')['input_ids']\n",
    "rel_to_tokens.device"
   ]
  },
  {
   "cell_type": "code",
   "execution_count": null,
   "id": "d8648002-b754-4950-a0a0-f0de46f9a832",
   "metadata": {},
   "outputs": [],
   "source": [
    "rel_to_tokens = rel_to_tokens.to(\"cuda:0\")\n",
    "output = generate_bert_embeddings(rel_to_tokens,model)"
   ]
  },
  {
   "cell_type": "code",
   "execution_count": null,
   "id": "082b11d5-5154-48d1-a9b5-d3609545fc76",
   "metadata": {},
   "outputs": [],
   "source": [
    "torch.save(output, \"nlm_embeddings/bert_wn18rr/00_bert_4lastlayers_wn18rr_rel.pt\")"
   ]
  },
  {
   "cell_type": "code",
   "execution_count": null,
   "id": "1c06e5d8-c225-42b6-b02a-35b44e18fcf8",
   "metadata": {},
   "outputs": [],
   "source": []
  }
 ],
 "metadata": {
  "kernelspec": {
   "display_name": "nlm_kge2",
   "language": "python",
   "name": "nlm_kge2"
  },
  "language_info": {
   "codemirror_mode": {
    "name": "ipython",
    "version": 3
   },
   "file_extension": ".py",
   "mimetype": "text/x-python",
   "name": "python",
   "nbconvert_exporter": "python",
   "pygments_lexer": "ipython3",
   "version": "3.9.7"
  }
 },
 "nbformat": 4,
 "nbformat_minor": 5
}
